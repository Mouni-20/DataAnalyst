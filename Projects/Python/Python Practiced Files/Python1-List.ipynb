{
 "cells": [
  {
   "cell_type": "code",
   "execution_count": 34,
   "metadata": {},
   "outputs": [
    {
     "name": "stdout",
     "output_type": "stream",
     "text": [
      "[]\n"
     ]
    }
   ],
   "source": [
    "#Python Data Structure - List -1D - Have mutable property\n",
    "\n",
    "#Empty Set\n",
    "Name = [] \n",
    "print(Name)\n"
   ]
  },
  {
   "cell_type": "code",
   "execution_count": 35,
   "metadata": {},
   "outputs": [
    {
     "name": "stdout",
     "output_type": "stream",
     "text": [
      "[2, 4, 5, 8, 9, 11, 13, 14, 16, 17]\n"
     ]
    }
   ],
   "source": [
    "#list of integers\n",
    "Number = [2,4,5,8,9,11,13,14,16,17]\n",
    "print(Number)\n"
   ]
  },
  {
   "cell_type": "code",
   "execution_count": 36,
   "metadata": {},
   "outputs": [
    {
     "name": "stdout",
     "output_type": "stream",
     "text": [
      "[2, 4, 'five', 8, 'nine', 11, 13, 'fourteen', 16, 17]\n"
     ]
    },
    {
     "data": {
      "text/plain": [
       "[2, 4, 'five', 8, 'nine', 11]"
      ]
     },
     "execution_count": 36,
     "metadata": {},
     "output_type": "execute_result"
    }
   ],
   "source": [
    "#list with mixed datatypes\n",
    "Number = [2,4, \"five\", 8, \"nine\", 11,13, \"fourteen\", 16,17]\n",
    "print(Number) \n",
    "\n",
    "# INDEX Command in List\n",
    "Number[0:6]\n"
   ]
  },
  {
   "cell_type": "code",
   "execution_count": 37,
   "metadata": {},
   "outputs": [
    {
     "data": {
      "text/plain": [
       "[16, 17]"
      ]
     },
     "execution_count": 37,
     "metadata": {},
     "output_type": "execute_result"
    }
   ],
   "source": [
    "# INDEX Command in List\n",
    "Number[8:] "
   ]
  },
  {
   "cell_type": "code",
   "execution_count": 38,
   "metadata": {},
   "outputs": [
    {
     "data": {
      "text/plain": [
       "'teen'"
      ]
     },
     "execution_count": 38,
     "metadata": {},
     "output_type": "execute_result"
    }
   ],
   "source": [
    "# INDEX Command in List - finding perticular in an element\n",
    "Number[7][4:]"
   ]
  },
  {
   "cell_type": "code",
   "execution_count": 76,
   "metadata": {},
   "outputs": [
    {
     "name": "stdout",
     "output_type": "stream",
     "text": [
      "[[2, 4, 8, 16], 'five', 'nine', 'fourteen', [11, 13, 17]]\n"
     ]
    }
   ],
   "source": [
    "#Nested list - INDEX Command - finding perticular in an element\n",
    "Number = [[2,4,8,16], \"five\", \"nine\", \"fourteen\", [11,13,17]]\n",
    "Number[4][1] \n",
    "print(Number)\n",
    "\n"
   ]
  },
  {
   "cell_type": "code",
   "execution_count": 77,
   "metadata": {},
   "outputs": [
    {
     "data": {
      "text/plain": [
       "[[2, 4, 8, 16], 5, 9, 14, [11, 13, 17]]"
      ]
     },
     "execution_count": 77,
     "metadata": {},
     "output_type": "execute_result"
    }
   ],
   "source": [
    "#nested list - Index command - replacing/changing elements/set\n",
    "Number[1:4] = [5,9,14]\n",
    "Number \n"
   ]
  },
  {
   "cell_type": "code",
   "execution_count": 78,
   "metadata": {},
   "outputs": [
    {
     "data": {
      "text/plain": [
       "[[2, 4, 8, 16], 5, 9, 14, [11, 13, 17], [1, 3, 6, 7, 10, 12]]"
      ]
     },
     "execution_count": 78,
     "metadata": {},
     "output_type": "execute_result"
    }
   ],
   "source": [
    "#list - Append command -add one element at a time\n",
    "Number.append([1,3,6,7,10,12])\n",
    "Number "
   ]
  },
  {
   "cell_type": "code",
   "execution_count": 79,
   "metadata": {},
   "outputs": [
    {
     "data": {
      "text/plain": [
       "[[2, 4, 8, 16], 5, 9, 14, [11, 13, 17], [1, 3, 6, 7, 10, 12], 15]"
      ]
     },
     "execution_count": 79,
     "metadata": {},
     "output_type": "execute_result"
    }
   ],
   "source": [
    "Number.append(15)\n",
    "Number"
   ]
  },
  {
   "cell_type": "code",
   "execution_count": 80,
   "metadata": {},
   "outputs": [
    {
     "name": "stdout",
     "output_type": "stream",
     "text": [
      "[[2, 4, 8, 16], 5, 9, 14, [11, 13, 17], [1, 3, 6, 7, 10, 12], 15, 16, 18, 19]\n"
     ]
    }
   ],
   "source": [
    "#List - Extend command - add elements\n",
    "Number.extend([16,18,19])\n",
    "print(Number)\n"
   ]
  },
  {
   "cell_type": "markdown",
   "metadata": {},
   "source": [
    "#how to change a list of list element to normal single elements?"
   ]
  },
  {
   "cell_type": "code",
   "execution_count": 83,
   "metadata": {},
   "outputs": [
    {
     "data": {
      "text/plain": [
       "[]"
      ]
     },
     "execution_count": 83,
     "metadata": {},
     "output_type": "execute_result"
    }
   ],
   "source": [
    "#list-clear command - to swipe offS the whole list - empty list\n",
    "Number.clear()\n",
    "Number\n"
   ]
  },
  {
   "cell_type": "code",
   "execution_count": 9,
   "metadata": {},
   "outputs": [
    {
     "name": "stdout",
     "output_type": "stream",
     "text": [
      "[1, 2, 3, 4, 5, 6]\n",
      "[1, 2, 3]\n"
     ]
    },
    {
     "ename": "NameError",
     "evalue": "name 'newnumber' is not defined",
     "output_type": "error",
     "traceback": [
      "\u001b[1;31m---------------------------------------------------------------------------\u001b[0m",
      "\u001b[1;31mNameError\u001b[0m                                 Traceback (most recent call last)",
      "\u001b[1;32md:\\Desktop\\DS\\Python Practiced Files\\Mouni-Python1-List.ipynb Cell 13'\u001b[0m in \u001b[0;36m<cell line: 10>\u001b[1;34m()\u001b[0m\n\u001b[0;32m      <a href='vscode-notebook-cell:/d%3A/Desktop/DS/Python%20Practiced%20Files/Mouni-Python1-List.ipynb#ch0000013?line=6'>7</a>\u001b[0m \u001b[39mprint\u001b[39m(newnumber)\n\u001b[0;32m      <a href='vscode-notebook-cell:/d%3A/Desktop/DS/Python%20Practiced%20Files/Mouni-Python1-List.ipynb#ch0000013?line=8'>9</a>\u001b[0m \u001b[39mdel\u001b[39;00m newnumber\n\u001b[1;32m---> <a href='vscode-notebook-cell:/d%3A/Desktop/DS/Python%20Practiced%20Files/Mouni-Python1-List.ipynb#ch0000013?line=9'>10</a>\u001b[0m \u001b[39mprint\u001b[39m(newnumber)\n",
      "\u001b[1;31mNameError\u001b[0m: name 'newnumber' is not defined"
     ]
    }
   ],
   "source": [
    "#list-delete ccommand - deleting elements in list\n",
    "\n",
    "newnumber = [1,2,3,4,5,6]\n",
    "print(newnumber)\n",
    "\n",
    "del newnumber[3:]\n",
    "print(newnumber)\n",
    "\n",
    "del newnumber\n",
    "print(newnumber)\n"
   ]
  },
  {
   "cell_type": "code",
   "execution_count": 20,
   "metadata": {},
   "outputs": [
    {
     "name": "stdout",
     "output_type": "stream",
     "text": [
      "['a', 'c', 'e', 'g']\n"
     ]
    }
   ],
   "source": [
    "#List- remove command - to take out the element from list\n",
    "\n",
    "letters = ['a', 'c', 'e', 'g', 'i',]\n",
    "letters.remove('i') \n",
    "\n",
    "print(letters)\n"
   ]
  },
  {
   "cell_type": "code",
   "execution_count": 22,
   "metadata": {},
   "outputs": [
    {
     "name": "stdout",
     "output_type": "stream",
     "text": [
      "['a', 'c', 'e', 'g']\n",
      "g\n"
     ]
    }
   ],
   "source": [
    "#pop command - call out last or any inder element\n",
    "\n",
    "print(letters)\n",
    "\n",
    "print(letters.pop())"
   ]
  },
  {
   "cell_type": "code",
   "execution_count": 24,
   "metadata": {},
   "outputs": [
    {
     "name": "stdout",
     "output_type": "stream",
     "text": [
      "['a', 'c', 'e']\n",
      "c\n"
     ]
    }
   ],
   "source": [
    "print(letters)\n",
    "\n",
    "print(letters.pop(1))\n"
   ]
  },
  {
   "cell_type": "code",
   "execution_count": 25,
   "metadata": {},
   "outputs": [
    {
     "name": "stdout",
     "output_type": "stream",
     "text": [
      "['a', 'e']\n"
     ]
    }
   ],
   "source": [
    "print(letters)"
   ]
  },
  {
   "cell_type": "code",
   "execution_count": 27,
   "metadata": {},
   "outputs": [
    {
     "ename": "NameError",
     "evalue": "name 'letters' is not defined",
     "output_type": "error",
     "traceback": [
      "\u001b[1;31m---------------------------------------------------------------------------\u001b[0m",
      "\u001b[1;31mNameError\u001b[0m                                 Traceback (most recent call last)",
      "\u001b[1;32md:\\Desktop\\DS\\Python Practiced Files\\Mouni-Python1-List.ipynb Cell 18'\u001b[0m in \u001b[0;36m<cell line: 3>\u001b[1;34m()\u001b[0m\n\u001b[0;32m      <a href='vscode-notebook-cell:/d%3A/Desktop/DS/Python%20Practiced%20Files/Mouni-Python1-List.ipynb#ch0000023?line=0'>1</a>\u001b[0m \u001b[39m#delete command\u001b[39;00m\n\u001b[0;32m      <a href='vscode-notebook-cell:/d%3A/Desktop/DS/Python%20Practiced%20Files/Mouni-Python1-List.ipynb#ch0000023?line=1'>2</a>\u001b[0m \u001b[39mdel\u001b[39;00m letters\n\u001b[1;32m----> <a href='vscode-notebook-cell:/d%3A/Desktop/DS/Python%20Practiced%20Files/Mouni-Python1-List.ipynb#ch0000023?line=2'>3</a>\u001b[0m \u001b[39mprint\u001b[39m(letters)\n",
      "\u001b[1;31mNameError\u001b[0m: name 'letters' is not defined"
     ]
    }
   ],
   "source": [
    "#delete command\n",
    "del letters\n",
    "print(letters)\n"
   ]
  },
  {
   "cell_type": "code",
   "execution_count": 29,
   "metadata": {},
   "outputs": [
    {
     "name": "stdout",
     "output_type": "stream",
     "text": [
      "[14, 13, 15, 11, 3, 4, 6, 7, 8, 9, 5, 2]\n"
     ]
    }
   ],
   "source": [
    "#list - REVERSE COMMAND - arrange from front to back vise versa\n",
    "\n",
    "tables = [2,5,9,8,7,6,4,3,11,15,13,14]\n",
    "tables.reverse()\n",
    "print(tables)\n"
   ]
  },
  {
   "cell_type": "code",
   "execution_count": 33,
   "metadata": {},
   "outputs": [
    {
     "name": "stdout",
     "output_type": "stream",
     "text": [
      "[2, 3, 4, 5, 6, 7, 8, 9, 11, 13, 14, 15]\n",
      "[15, 14, 13, 11, 9, 8, 7, 6, 5, 4, 3, 2]\n"
     ]
    }
   ],
   "source": [
    "#list - SORT Command - arrange in increasing/decreasing order of elements\n",
    "tables.sort()\n",
    "print(tables)\n",
    "\n",
    "tables.sort(reverse = True)\n",
    "print(tables)"
   ]
  },
  {
   "cell_type": "code",
   "execution_count": 36,
   "metadata": {},
   "outputs": [
    {
     "name": "stdout",
     "output_type": "stream",
     "text": [
      "0\n",
      "1\n"
     ]
    }
   ],
   "source": [
    "#count command - shows the number of repetations of element in list\n",
    "\n",
    "print(tables.count(1))\n",
    "print(tables.count(5))"
   ]
  },
  {
   "cell_type": "code",
   "execution_count": 44,
   "metadata": {},
   "outputs": [
    {
     "name": "stdout",
     "output_type": "stream",
     "text": [
      "mouna goes for walking early moring\n",
      "mouna starts studying from 10.00am everyday\n"
     ]
    }
   ],
   "source": [
    "#IF conditional statements in List\n",
    "\n",
    "Mouna = ['walking', 'cooking', 'studying', 'dancing']\n",
    "if 'walking' in Mouna:\n",
    "    print('mouna goes for walking early moring')\n",
    "\n",
    "if 'studying' in Mouna:\n",
    "    print('mouna starts studying from 10.00am everyday')\n",
    "       "
   ]
  },
  {
   "cell_type": "code",
   "execution_count": 46,
   "metadata": {},
   "outputs": [
    {
     "name": "stdout",
     "output_type": "stream",
     "text": [
      "['walking', 'cooking', 'studying', 'dancing', 'sleeping']\n"
     ]
    }
   ],
   "source": [
    "#insert command in list - add a element to list with index \n",
    "\n",
    "Mouna = ['walking', 'cooking', 'studying', 'dancing']\n",
    "Mouna.insert(4, 'sleeping')\n",
    "print(Mouna)\n",
    "\n"
   ]
  },
  {
   "cell_type": "code",
   "execution_count": 48,
   "metadata": {},
   "outputs": [
    {
     "name": "stdout",
     "output_type": "stream",
     "text": [
      "walking\n",
      "cooking\n",
      "studying\n",
      "dancing\n",
      "sleeping\n"
     ]
    }
   ],
   "source": [
    "#for command \n",
    "Mouna = ['walking', 'cooking', 'studying', 'dancing', 'sleeping']\n",
    "for each in Mouna:\n",
    "    print(each)\n"
   ]
  },
  {
   "cell_type": "code",
   "execution_count": 51,
   "metadata": {},
   "outputs": [
    {
     "name": "stdout",
     "output_type": "stream",
     "text": [
      "studying\n",
      "dancing\n",
      "sleeping\n"
     ]
    }
   ],
   "source": [
    "#while loop statement \n",
    "Mouna = ['walking', 'cooking', 'studying', 'dancing', 'sleeping']\n",
    "activity = 2\n",
    "while activity < len(Mouna):\n",
    "    print(Mouna[activity])\n",
    "    activity = activity + 1  \n"
   ]
  },
  {
   "cell_type": "code",
   "execution_count": 2,
   "metadata": {},
   "outputs": [
    {
     "name": "stdout",
     "output_type": "stream",
     "text": [
      "['walking', 'dancing']\n"
     ]
    }
   ],
   "source": [
    "#for , if ommand with 2 lists\n",
    "Mouna = ['walking', 'cooking', 'studying', 'dancing', 'sleeping']\n",
    "now = []\n",
    "\n",
    "for act in Mouna:\n",
    "    if 'a' in act:\n",
    "        now.append(act)\n",
    "\n",
    "print(now)\n",
    "\n"
   ]
  },
  {
   "cell_type": "code",
   "execution_count": 78,
   "metadata": {},
   "outputs": [
    {
     "name": "stdout",
     "output_type": "stream",
     "text": [
      "[6, 14, 21, 25, 62, 72]\n"
     ]
    }
   ],
   "source": [
    "#create functions #identifier #keyvalue #abs absolute value remove -values \n",
    "\n",
    "def mouni_abs(x):\n",
    "    return abs(x-30)\n",
    "\n",
    "new = [5,9,24,16,-32,-42]\n",
    "\n",
    "out = [mouni_abs(ele) for ele in new]\n",
    "\n",
    "out.sort()\n",
    "\n",
    "print(out)\n",
    "\n",
    "\n",
    "\n"
   ]
  },
  {
   "cell_type": "code",
   "execution_count": 84,
   "metadata": {},
   "outputs": [
    {
     "name": "stdout",
     "output_type": "stream",
     "text": [
      "[7700, 19250, 30800, 77000, 69300, 34650, 57750, 13244]\n"
     ]
    },
    {
     "data": {
      "text/plain": [
       "[7700, 19250, 30800, 77000, 69300, 34650, 57750, 13244]"
      ]
     },
     "execution_count": 84,
     "metadata": {},
     "output_type": "execute_result"
    }
   ],
   "source": [
    "#create functions #identifier - converting currency \n",
    "\n",
    "def usd_inr(m):\n",
    "    return (m*77)\n",
    "\n",
    "dollars = [100,250,400,1000,900,450,750,172]\n",
    "\n",
    "inrvalue =[usd_inr(ele) for ele in dollars]\n",
    "\n",
    "\n",
    "print(inrvalue)\n",
    "\n",
    "inrvalue\n",
    "\n",
    "\n",
    "\n"
   ]
  },
  {
   "cell_type": "code",
   "execution_count": null,
   "metadata": {},
   "outputs": [],
   "source": []
  },
  {
   "cell_type": "code",
   "execution_count": 92,
   "metadata": {},
   "outputs": [
    {
     "name": "stdout",
     "output_type": "stream",
     "text": [
      "['₹7700.00', '₹19250.00', '₹30800.00', '₹77000.00', '₹69300.00', '₹34650.00', '₹57750.00', '₹13244.00']\n"
     ]
    }
   ],
   "source": [
    "import locale\n",
    "locale.setlocale(locale.LC_ALL,\"hi_in.utf-8\")\n",
    "inrvalue = [locale.currency(val) for val in inrvalue ] \n",
    "print(inrvalue)"
   ]
  },
  {
   "cell_type": "code",
   "execution_count": 93,
   "metadata": {},
   "outputs": [
    {
     "name": "stdout",
     "output_type": "stream",
     "text": [
      "₹7700.00\n",
      "₹19250.00\n",
      "₹30800.00\n",
      "₹77000.00\n",
      "₹69300.00\n",
      "₹34650.00\n",
      "₹57750.00\n",
      "₹13244.00\n"
     ]
    }
   ],
   "source": [
    "inrvalue\n",
    "for rupees in inrvalue:\n",
    "    print(rupees)\n",
    "\n"
   ]
  },
  {
   "cell_type": "code",
   "execution_count": 94,
   "metadata": {},
   "outputs": [
    {
     "name": "stdout",
     "output_type": "stream",
     "text": [
      "['i', 'wana', 'talk', 2, 6, 8, 9, 4]\n"
     ]
    }
   ],
   "source": [
    "#joining different list \n",
    "\n",
    "l1 = ['i', 'wana', 'talk']\n",
    "l2 = [2,6,8,9,4]\n",
    "\n",
    "l3 = l1 + l2\n",
    "print(l3)\n"
   ]
  },
  {
   "cell_type": "code",
   "execution_count": 3,
   "metadata": {},
   "outputs": [
    {
     "name": "stdout",
     "output_type": "stream",
     "text": [
      "['i', 'wana', 'talk', [2, 6, 8, 9, 4]]\n"
     ]
    }
   ],
   "source": [
    "#append command\n",
    "l1 = ['i', 'wana', 'talk']\n",
    "l2 = [2,6,8,9,4]\n",
    "\n",
    "for y in l2:\n",
    "    l1.append(y) \n",
    "\n",
    "print(l1)\n"
   ]
  },
  {
   "cell_type": "code",
   "execution_count": 4,
   "metadata": {},
   "outputs": [
    {
     "name": "stdout",
     "output_type": "stream",
     "text": [
      "['i', 'wana', 'talk', [2, 6, 8, 9, 4]]\n"
     ]
    }
   ],
   "source": [
    "l1 = ['i', 'wana', 'talk']\n",
    "l2 = [2,6,8,9,4]\n",
    "\n",
    "l1.append(l2)\n",
    "\n",
    "print(l1)\n"
   ]
  },
  {
   "cell_type": "code",
   "execution_count": 5,
   "metadata": {},
   "outputs": [
    {
     "name": "stdout",
     "output_type": "stream",
     "text": [
      "['i', 'wana', 'talk', 2, 6, 8, 9, 4]\n"
     ]
    }
   ],
   "source": [
    "#extend command#\n",
    "l1 = ['i', 'wana', 'talk']\n",
    "l2 = [2,6,8,9,4]\n",
    "\n",
    "l1.extend(l2)\n",
    "\n",
    "print(l1)\n"
   ]
  },
  {
   "cell_type": "code",
   "execution_count": 1,
   "metadata": {},
   "outputs": [
    {
     "name": "stdout",
     "output_type": "stream",
     "text": [
      "['mango', 'banana', 'apple', 'kiwi']\n"
     ]
    }
   ],
   "source": [
    "#copy command\n",
    "\n",
    "fruits = ['mango', 'banana', 'apple', 'kiwi']\n",
    "vege = ['tomato', 'carrot', 'cucumber']\n",
    "vege = fruits.copy()\n",
    "print(vege)\n"
   ]
  },
  {
   "cell_type": "code",
   "execution_count": 6,
   "metadata": {},
   "outputs": [
    {
     "data": {
      "text/plain": [
       "list"
      ]
     },
     "execution_count": 6,
     "metadata": {},
     "output_type": "execute_result"
    }
   ],
   "source": [
    "#type command\n",
    "fruits = ['mango', 'banana', 'apple', 'kiwi']\n",
    "type(fruits)\n"
   ]
  },
  {
   "cell_type": "code",
   "execution_count": 9,
   "metadata": {},
   "outputs": [
    {
     "data": {
      "text/plain": [
       "3"
      ]
     },
     "execution_count": 9,
     "metadata": {},
     "output_type": "execute_result"
    }
   ],
   "source": [
    "#length command \n",
    "vege = ['tomato', 'carrot', 'cucumber']\n",
    "len(vege)"
   ]
  },
  {
   "cell_type": "code",
   "execution_count": null,
   "metadata": {},
   "outputs": [],
   "source": [
    "# various methods explained in list \n",
    "#Append\n",
    "#sort\n",
    "#copy\n",
    "#index\n",
    "#Delete\n",
    "#reverse\n",
    "#extend\n",
    "#clear\n",
    "#pop\n",
    "#count\n",
    "#insert\n"
   ]
  }
 ],
 "metadata": {
  "interpreter": {
   "hash": "e3015545a62cf7af43c49f36d2431fa5eca450d48844f9ffa1df27d240099c8a"
  },
  "kernelspec": {
   "display_name": "Python 3.9.13 64-bit (windows store)",
   "language": "python",
   "name": "python3"
  },
  "language_info": {
   "codemirror_mode": {
    "name": "ipython",
    "version": 3
   },
   "file_extension": ".py",
   "mimetype": "text/x-python",
   "name": "python",
   "nbconvert_exporter": "python",
   "pygments_lexer": "ipython3",
   "version": "3.9.13"
  },
  "orig_nbformat": 4
 },
 "nbformat": 4,
 "nbformat_minor": 2
}
