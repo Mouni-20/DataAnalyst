{
 "cells": [
  {
   "cell_type": "markdown",
   "metadata": {},
   "source": [
    "Lambda - small anonymous function\n",
    "A lambda function can take any number of arguments, but can only have one expression\n",
    "\n",
    "Syntax - lambda arguments : expression"
   ]
  },
  {
   "cell_type": "code",
   "execution_count": 8,
   "metadata": {},
   "outputs": [
    {
     "data": {
      "text/plain": [
       "2150"
      ]
     },
     "execution_count": 8,
     "metadata": {},
     "output_type": "execute_result"
    }
   ],
   "source": [
    "#example -\n",
    "#The expression is executed and the result is returned - \n",
    "# Translate\" to a UDF\n",
    "\n",
    "#def mul(a, b): \n",
    "#return a*b\n",
    "# mul() is lambda function\n",
    "\n",
    "mulf = lambda a, b: a * b \n",
    "\n",
    "#call mulf() anonymous function\n",
    "#multiplying 2 argumentsS\n",
    "mulf(50, 43) "
   ]
  },
  {
   "cell_type": "code",
   "execution_count": 7,
   "metadata": {},
   "outputs": [
    {
     "data": {
      "text/plain": [
       "80"
      ]
     },
     "execution_count": 7,
     "metadata": {},
     "output_type": "execute_result"
    }
   ],
   "source": [
    "#addition \n",
    "addf = lambda a, b: a + b \n",
    "addf(24, 56)"
   ]
  },
  {
   "cell_type": "code",
   "execution_count": 11,
   "metadata": {},
   "outputs": [
    {
     "name": "stdout",
     "output_type": "stream",
     "text": [
      "40\n"
     ]
    }
   ],
   "source": [
    "#Why Use Lambda Functions?\n",
    "#Say you have a function definition that takes one argument, and that argument will be multiplied with an unknown number\n",
    "\n",
    "def area(n):\n",
    "    return lambda x : x * n \n",
    "\n",
    "totalarea = area(5)\n",
    "print(totalarea(8))\n",
    "\n"
   ]
  },
  {
   "cell_type": "code",
   "execution_count": 13,
   "metadata": {},
   "outputs": [
    {
     "name": "stdout",
     "output_type": "stream",
     "text": [
      "125\n",
      "216\n"
     ]
    }
   ],
   "source": [
    "#Difference between lambda and normal function call \n",
    "\n",
    "def ar1(x):\n",
    "    return x*x*x\n",
    "\n",
    "ar2 = lambda x : x*x*x\n",
    "\n",
    "print(ar1(5))\n",
    "\n",
    "print(ar2(6))"
   ]
  },
  {
   "cell_type": "code",
   "execution_count": 2,
   "metadata": {},
   "outputs": [
    {
     "name": "stdout",
     "output_type": "stream",
     "text": [
      "[125, 729, 216, 8]\n"
     ]
    }
   ],
   "source": [
    "#We can also replace list comprehension with Lambda by using a map() method, not only it is a fast but efficient too, \n",
    "#let’s see how to use lambda in the filter(), map() ,reduce()\n",
    "\n",
    "#map() - in map either we use assignment or conditional operator, the result of the value will get returned\n",
    "\n",
    "tray = [5, 9, 6, 2]\n",
    "newtray = list(map(lambda x: x**3, tray)) \n",
    "print(newtray)\n",
    "\n"
   ]
  },
  {
   "cell_type": "code",
   "execution_count": 6,
   "metadata": {},
   "outputs": [
    {
     "name": "stdout",
     "output_type": "stream",
     "text": [
      "[True, False, True, False, True, False, True, True, True, True]\n"
     ]
    }
   ],
   "source": [
    "#map \n",
    "a = [25, 84, 40, 82, 75, 113, 200, 15, 5, 55,]\n",
    "value = map (lambda z: z % 5 == 0, a)\n",
    "print(list(value))"
   ]
  },
  {
   "cell_type": "code",
   "execution_count": 10,
   "metadata": {},
   "outputs": [
    {
     "name": "stdout",
     "output_type": "stream",
     "text": [
      "[31, 71]\n",
      "[31, 71]\n"
     ]
    }
   ],
   "source": [
    "#filter ()\n",
    "# in filter either we use assignment or conditional operator, \n",
    "# the pass actual parameter will get return\n",
    "\n",
    "t = [5, 9, 11, 20, 31, 71]\n",
    "t2 = list(filter(lambda x: x > 25, t))\n",
    "print(t2)\n",
    "\n",
    "t3 = filter(lambda x: x > 25, t)\n",
    "print(list(t3))\n"
   ]
  },
  {
   "cell_type": "code",
   "execution_count": 16,
   "metadata": {},
   "outputs": [
    {
     "name": "stdout",
     "output_type": "stream",
     "text": [
      "26\n"
     ]
    }
   ],
   "source": [
    "#Reduce\n",
    "#Reduce is a really useful function for performing some computation on \n",
    "# a list and returning the result. It applies a rolling computation to \n",
    "# sequential pairs of values in a list.\n",
    "\n",
    "\n",
    "price = 80\n",
    "items = [5, 2, 6, 9, 4]\n",
    "\n",
    "for x in items:\n",
    "    price = price * x \n",
    "\n"
   ]
  },
  {
   "cell_type": "code",
   "execution_count": 17,
   "metadata": {},
   "outputs": [
    {
     "name": "stdout",
     "output_type": "stream",
     "text": [
      "26\n"
     ]
    }
   ],
   "source": [
    "from functools import reduce \n",
    "\n",
    "price = reduce((lambda a, b: a + b), [5, 2, 6, 9, 4])\n",
    "print(price)"
   ]
  },
  {
   "cell_type": "code",
   "execution_count": 18,
   "metadata": {},
   "outputs": [
    {
     "name": "stdout",
     "output_type": "stream",
     "text": [
      "what a main function\n"
     ]
    }
   ],
   "source": [
    "#main function \n",
    "# all of the most important components are contained within this main() function.\n",
    "\n",
    "# Define `main()` function\n",
    "\n",
    "def main():\n",
    "\n",
    "    print(\"what a main function\")\n",
    "main()\n"
   ]
  },
  {
   "cell_type": "code",
   "execution_count": 21,
   "metadata": {},
   "outputs": [
    {
     "name": "stdout",
     "output_type": "stream",
     "text": [
      "[144, 576, 1024]\n"
     ]
    }
   ],
   "source": [
    "#filter with map \n",
    "\n",
    "X = [9, 12, 3, 24, 6, 32]\n",
    "y = list(filter(lambda a: a > 100, map(lambda a: a**2, X)))\n",
    "print(y)"
   ]
  },
  {
   "cell_type": "code",
   "execution_count": 5,
   "metadata": {},
   "outputs": [
    {
     "name": "stdout",
     "output_type": "stream",
     "text": [
      "[True, True, True, True, True, False]\n"
     ]
    }
   ],
   "source": [
    "#map with filter\n",
    "\n",
    "X = [9, 12, 3, 24, 6, 32]\n",
    "z = list(map(lambda a: a < 25, filter(lambda a: a + 25, X)))\n",
    "\n",
    "print(z)"
   ]
  }
 ],
 "metadata": {
  "kernelspec": {
   "display_name": "Python 3.9.13 64-bit (windows store)",
   "language": "python",
   "name": "python3"
  },
  "language_info": {
   "codemirror_mode": {
    "name": "ipython",
    "version": 3
   },
   "file_extension": ".py",
   "mimetype": "text/x-python",
   "name": "python",
   "nbconvert_exporter": "python",
   "pygments_lexer": "ipython3",
   "version": "3.9.13"
  },
  "orig_nbformat": 4,
  "vscode": {
   "interpreter": {
    "hash": "e3015545a62cf7af43c49f36d2431fa5eca450d48844f9ffa1df27d240099c8a"
   }
  }
 },
 "nbformat": 4,
 "nbformat_minor": 2
}
