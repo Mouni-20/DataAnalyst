{
 "cells": [
  {
   "cell_type": "markdown",
   "metadata": {},
   "source": [
    "oops \n",
    "\n",
    "class - object\n",
    "\n",
    "A class is like a blueprint while an instance is a copy of the class with actual values\n",
    "4.603 billion years\n",
    "4.543 billion years - earth\n"
   ]
  },
  {
   "cell_type": "code",
   "execution_count": 53,
   "metadata": {},
   "outputs": [
    {
     "name": "stdout",
     "output_type": "stream",
     "text": [
      "Earth\n",
      "Earth is 4.543 billion years\n",
      "Mars is 4.603 billion years\n"
     ]
    }
   ],
   "source": [
    "#When an object of a class is created, the class is said to be instantiated.\n",
    "\n",
    "\n",
    "#a class\n",
    "class life:\n",
    "\n",
    "    #class - attribute\n",
    "    p1 = 'Earth' \n",
    "    p2 = 'Mars' \n",
    "    yr = 'billion years'\n",
    "    #method\n",
    "    def age(self):\n",
    "        print(self.p1, 'is 4.543', self.yr)\n",
    "        print(self.p2, 'is 4.603', self.yr)\n",
    "\n",
    "#object instantiation \n",
    "Planet = life()\n",
    "\n",
    "#Accessing class attributes\n",
    "# and method through objects\n",
    "print(Planet.p1)\n",
    "Planet.age()\n",
    "        "
   ]
  },
  {
   "cell_type": "markdown",
   "metadata": {},
   "source": [
    "Class and Instance Variables -\n",
    "1.nstance variables are variables whose value is assigned inside a constructor or method with self whereas \n",
    "2.class variables are variables whose value is assigned in the class."
   ]
  },
  {
   "cell_type": "code",
   "execution_count": 42,
   "metadata": {},
   "outputs": [
    {
     "name": "stdout",
     "output_type": "stream",
     "text": [
      "hunam1 details: \n",
      "name:  Mounika\n",
      "salary range : 150,000$ - 280,000$\n",
      "age:  27\n",
      "gender:  Female\n",
      "profession:  Datascientist\n",
      "h1 sentence\n",
      "Mounika is a Datascientist . A 27 years Female salary range : 150,000$ - 280,000$\n",
      "hunam2 details: \n",
      "name:  Vinay\n",
      "salary range : 150,000$ - 280,000$\n",
      "age:  31\n",
      "gender:  Male\n",
      "profession:  Engineer\n"
     ]
    }
   ],
   "source": [
    "#class object\n",
    "#Class and Instance Variables\n",
    "#identity of a person\n",
    "#The __init__() Function\n",
    "\n",
    "#class for identity\n",
    "class identity:\n",
    "\n",
    "    #class variable\n",
    "    earns = 'salary range : 150,000$ - 280,000$'\n",
    "\n",
    "\n",
    "\n",
    "    #The init method or constructor\n",
    "    def __init__(self, Name, Age, Gender, Profession):\n",
    "\n",
    "        #instance variable\n",
    "        self.Name = Name  \n",
    "        self.Age = Age\n",
    "        self.Gender = Gender \n",
    "        self.Profession = Profession \n",
    "\n",
    "\n",
    "#objects of identity class\n",
    "\n",
    "h1 = identity('Mounika', 27, 'Female', 'Datascientist')\n",
    "h2 = identity('Vinay', 31, 'Male', 'Engineer')\n",
    "h3 = identity('Anusha', 26, 'Female', 'Accountant')\n",
    "h4 = identity('Charan', 25, 'Male', 'Accountant')\n",
    "\n",
    "print('hunam1 details: ') \n",
    "print('name: ', h1.Name)\n",
    "print(h1.earns)\n",
    "print('age: ', h1.Age)\n",
    "print('gender: ', h1.Gender)\n",
    "print('profession: ', h1.Profession)\n",
    "\n",
    "\n",
    "print('h1 sentence')\n",
    "print(h1.Name, 'is a', h1.Profession, '.', 'A', h1.Age , 'years', h1.Gender, h1.earns)\n",
    "\n",
    "\n",
    "print('hunam2 details: ') \n",
    "print('name: ', h2.Name)\n",
    "print(h2.earns)\n",
    "print('age: ', h2.Age)\n",
    "print('gender: ', h2.Gender)\n",
    "print('profession: ', h2.Profession)\n",
    "    \n"
   ]
  },
  {
   "cell_type": "code",
   "execution_count": 85,
   "metadata": {},
   "outputs": [
    {
     "name": "stdout",
     "output_type": "stream",
     "text": [
      "(133, 56.390977443609025, 43.609022556390975)\n",
      "girls strength is higher\n",
      "None\n",
      "(360, 41.66666666666667, 58.333333333333336)\n",
      "boys strength is higher\n",
      "None\n",
      "(140, 50.0, 50.0)\n",
      "both are equal\n",
      "None\n"
     ]
    }
   ],
   "source": [
    "#Object Methods\n",
    "\n",
    "#Objects can also contain methods. Methods in objects are functions that belong to the object.\n",
    "\n",
    "#class\n",
    "class tengrade:\n",
    "     \n",
    "    #The init method or constructor\n",
    "    def __init__(self, girls, boys):\n",
    "        self.girls = girls\n",
    "        self.boys = boys\n",
    "        \n",
    "    def strength(self):\n",
    "       \n",
    "        T = self.girls + self.boys\n",
    "        G = (self.girls / T ) * 100\n",
    "        B = (self.boys / T ) * 100\n",
    "\n",
    "        return (T, G, B,)\n",
    "\n",
    "    def diff(self):\n",
    "\n",
    "        if self.girls > self.boys:\n",
    "            print('girls strength is higher')\n",
    "        elif self.girls < self.boys:\n",
    "            print('boys strength is higher')\n",
    "        else:\n",
    "            print('both are equal')\n",
    "\n",
    "tot_al = tengrade(75,58)\n",
    "print(tot_al.strength())\n",
    "print(tot_al.diff())\n",
    "\n",
    "tot_al = tengrade(150,210)\n",
    "print(tot_al.strength())\n",
    "print(tot_al.diff())\n",
    "\n",
    "tot_al = tengrade(70,70)\n",
    "print(tot_al.strength())\n",
    "print(tot_al.diff())"
   ]
  },
  {
   "cell_type": "code",
   "execution_count": null,
   "metadata": {},
   "outputs": [],
   "source": [
    "#self parameter is a reference to the current instance of the class, and\n",
    "#  is used to access variables that belongs to the class.\n",
    "\n",
    "#It does not have to be named self , you can call it whatever you like, \n",
    "# but it has to be the first parameter of any function in the class:\n"
   ]
  }
 ],
 "metadata": {
  "kernelspec": {
   "display_name": "Python 3.9.13 64-bit (windows store)",
   "language": "python",
   "name": "python3"
  },
  "language_info": {
   "codemirror_mode": {
    "name": "ipython",
    "version": 3
   },
   "file_extension": ".py",
   "mimetype": "text/x-python",
   "name": "python",
   "nbconvert_exporter": "python",
   "pygments_lexer": "ipython3",
   "version": "3.9.13"
  },
  "orig_nbformat": 4,
  "vscode": {
   "interpreter": {
    "hash": "e3015545a62cf7af43c49f36d2431fa5eca450d48844f9ffa1df27d240099c8a"
   }
  }
 },
 "nbformat": 4,
 "nbformat_minor": 2
}
