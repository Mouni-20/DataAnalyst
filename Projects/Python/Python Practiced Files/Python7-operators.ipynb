{
 "cells": [
  {
   "cell_type": "markdown",
   "metadata": {},
   "source": [
    "Python Operators in general are used to perform operations on values and variables\n",
    "\n",
    "standard symbols used for the purpose of logical and arithmetic operations\n",
    "\n",
    "\n",
    "Python divides the operators in the following groups:\n",
    "\n",
    "    Arithmetic operators\n",
    "    Assignment operators\n",
    "    Comparison operators\n",
    "    Logical operators\n",
    "    Identity operators\n",
    "    Membership operators\n",
    "    Bitwise operators\n",
    "\n",
    "\n",
    "- Arithmetic operators are used with numeric values to perform common mathematical operations\n",
    "\n",
    "+\tAddition: adds two operands\tx + y\n",
    "–\tSubtraction: subtracts two operands\tx – y\n",
    "*\tMultiplication: multiplies two operands\tx * y\n",
    "/\tDivision (float): divides the first operand by the second\tx / y\n",
    "//\tDivision (floor): divides the first operand by the second\tx // y\n",
    "%\tModulus: returns the remainder when the first operand is divided by the second\tx % y\n",
    "**\tPower: Returns first raised to power second\tx ** y"
   ]
  },
  {
   "cell_type": "code",
   "execution_count": 2,
   "metadata": {},
   "outputs": [
    {
     "name": "stdout",
     "output_type": "stream",
     "text": [
      "15\n",
      "-5\n",
      "50\n",
      "0.5\n",
      "0\n",
      "100000\n",
      "0\n"
     ]
    }
   ],
   "source": [
    "#Arithmetic operators\n",
    "a = 5\n",
    "b = 10\n",
    "\n",
    "print(a+b)\n",
    "print(a-b)\n",
    "print(a*b)\n",
    "print(a/b)\n",
    "print(a//b)\n",
    "print(b**a)\n",
    "print(b%a)\n"
   ]
  },
  {
   "cell_type": "code",
   "execution_count": 3,
   "metadata": {},
   "outputs": [
    {
     "name": "stdout",
     "output_type": "stream",
     "text": [
      "15 -5 50 0.5 0 100000 0\n"
     ]
    }
   ],
   "source": [
    "#Arithmetic operators\n",
    "a = 5\n",
    "b = 10\n",
    "\n",
    "add = a+b \n",
    "sub = a-b\n",
    "mul = a*b\n",
    "divi = a/b\n",
    "divflr = a//b\n",
    "expo = b**a\n",
    "modu = b%a \n",
    "\n",
    "print(add,sub,mul,divi,divflr,expo,modu)\n"
   ]
  },
  {
   "cell_type": "markdown",
   "metadata": {},
   "source": [
    "Comparison Operators\n",
    ">\tGreater than: True if the left operand is greater than the right\tx > y\n",
    "<\tLess than: True if the left operand is less than the right\tx < y\n",
    "==\tEqual to: True if both operands are equal\tx == y\n",
    "!=\tNot equal to – True if operands are not equal\tx != y\n",
    ">=\tGreater than or equal to True if the left operand is greater than or equal to the right\tx >= y\n",
    "<=\tLess than or equal to True if the left operand is less than or equal to the right\tx <= y"
   ]
  },
  {
   "cell_type": "code",
   "execution_count": 5,
   "metadata": {},
   "outputs": [
    {
     "name": "stdout",
     "output_type": "stream",
     "text": [
      "False\n",
      "True\n",
      "False\n",
      "True\n",
      "False\n",
      "True\n"
     ]
    }
   ],
   "source": [
    "#comparision \n",
    "\n",
    "ab = 50 \n",
    "ba = 70\n",
    "\n",
    "print(ab > ba)\n",
    "print(ab < ba)\n",
    "print(ab == ba)\n",
    "print(ab != ba)\n",
    "print(ab >= ba)\n",
    "print(ab <= ba)"
   ]
  },
  {
   "cell_type": "markdown",
   "metadata": {},
   "source": [
    "Logical Operators -  used to combine conditional statements\n",
    "and\tLogical AND: True if both the operands are true\tx and y\n",
    "or\tLogical OR: True if either of the operands is true \tx or y\n",
    "not\tLogical NOT: True if the operand is false \tnot x"
   ]
  },
  {
   "cell_type": "code",
   "execution_count": 9,
   "metadata": {},
   "outputs": [
    {
     "name": "stdout",
     "output_type": "stream",
     "text": [
      "False\n",
      "False\n",
      "True\n"
     ]
    }
   ],
   "source": [
    "#logical operators \n",
    "a = 5\n",
    "b = 10\n",
    "\n",
    "print(a>15 and b>15)\n",
    "print(a>15 or b>15)\n",
    "print(not(a>15 and b>15))"
   ]
  },
  {
   "cell_type": "code",
   "execution_count": 10,
   "metadata": {},
   "outputs": [
    {
     "name": "stdout",
     "output_type": "stream",
     "text": [
      "False\n",
      "True\n"
     ]
    }
   ],
   "source": [
    "#Identity operators - used to compare the objects, not if they are equal, but if they are actually the same object\n",
    "# with the same memory location\n",
    "#is  \tReturns True if both variables are the same object \tx is y \t\n",
    "#is not \tReturns True if both variables are not the same object \tx is not y\n",
    "\n",
    "\n",
    "a = 5\n",
    "b = 10\n",
    "\n",
    "print(a is b)\n",
    "print(a is not b)"
   ]
  },
  {
   "cell_type": "code",
   "execution_count": 11,
   "metadata": {},
   "outputs": [
    {
     "name": "stdout",
     "output_type": "stream",
     "text": [
      "False\n",
      "True\n"
     ]
    }
   ],
   "source": [
    "#Membership operators are used to test if a sequence is presented in an object:\n",
    "\n",
    "x = (1,5,2,4,3)\n",
    "y = (5,2,6,9,4)\n",
    "\n",
    "print(x in y)\n",
    "print(x not in y)"
   ]
  },
  {
   "cell_type": "code",
   "execution_count": 20,
   "metadata": {},
   "outputs": [
    {
     "name": "stdout",
     "output_type": "stream",
     "text": [
      "True\n",
      "False\n"
     ]
    }
   ],
   "source": [
    "#Membership operators are used to test if a sequence is presented in an object:\n",
    "\n",
    "house = ['wall', 'door', 'foundation', 'footing', 'window', 'staircase']\n",
    "print('door' in house)\n",
    "print('paint' in house)"
   ]
  },
  {
   "cell_type": "markdown",
   "metadata": {},
   "source": [
    "Bitwise operators\n",
    "&\tBitwise AND\tx & y\n",
    "|\tBitwise OR\tx | y\n",
    "~\tBitwise NOT\t~x\n",
    "^\tBitwise XOR\tx ^ y\n",
    ">>\tBitwise right shift\tx>>\n",
    "<<\tBitwise left shift\tx<<"
   ]
  },
  {
   "cell_type": "code",
   "execution_count": 18,
   "metadata": {},
   "outputs": [
    {
     "name": "stdout",
     "output_type": "stream",
     "text": [
      "0\n",
      "15\n",
      "15\n",
      "-11\n",
      "40\n",
      "2\n"
     ]
    }
   ],
   "source": [
    "#Bitwise operators are used to compare (binary) numbers\n",
    "\n",
    "a = 5\n",
    "b = 10\n",
    "\n",
    "print (a & b)\n",
    "print(a | b)\n",
    "print(a ^ b)\n",
    "print(~ b)\n",
    "print(a << 3)\n",
    "print(b >> 2)\n"
   ]
  },
  {
   "cell_type": "markdown",
   "metadata": {},
   "source": [
    "#Assignment operators\n",
    "\n",
    "Assignment operators are used to assign values to variables:\n",
    "Operator \tExample \tSame As \tTry it\n",
    "= \tx = 5 \tx = 5 \t\n",
    "+= \tx += 3 \tx = x + 3 \t\n",
    "-= \tx -= 3 \tx = x - 3 \t\n",
    "*= \tx *= 3 \tx = x * 3 \t\n",
    "/= \tx /= 3 \tx = x / 3 \t\n",
    "%= \tx %= 3 \tx = x % 3 \t\n",
    "//= \tx //= 3 \tx = x // 3 \t\n",
    "**= \tx **= 3 \tx = x ** 3 \t\n",
    "&= \tx &= 3 \tx = x & 3 \t\n",
    "|= \tx |= 3 \tx = x | 3 \t\n",
    "^= \tx ^= 3 \tx = x ^ 3 \t\n",
    ">>= \tx >>= 3 \tx = x >> 3 \t\n",
    "<<= \tx <<= 3 \tx = x << 3"
   ]
  },
  {
   "cell_type": "markdown",
   "metadata": {},
   "source": [
    "assignment operators\n",
    "\n",
    "=\tAssign value of right side of expression to left side operand \tx = y + z\n",
    "+=\tAdd AND: Add right-side operand with left side operand and then assign to left operand\ta+=b     a=a+b\n",
    "-=\tSubtract AND: Subtract right operand from left operand and then assign to left operand\ta-=b     a=a-b\n",
    "*=\tMultiply AND: Multiply right operand with left operand and then assign to left operand\ta*=b     a=a*b\n",
    "/=\tDivide AND: Divide left operand with right operand and then assign to left operand\ta/=b     a=a/b\n",
    "%=\tModulus AND: Takes modulus using left and right operands and assign the result to left operand\ta%=b     a=a%b\n",
    "//=\tDivide(floor) AND: Divide left operand with right operand and then assign the value(floor) to left operand\ta//=b     a=a//b\n",
    "**=\tExponent AND: Calculate exponent(raise power) value using operands and assign value to left operand\ta**=b     a=a**b\n",
    "&=\tPerforms Bitwise AND on operands and assign value to left operand\ta&=b     a=a&b\n",
    "|=\tPerforms Bitwise OR on operands and assign value to left operand\ta|=b     a=a|b\n",
    "^=\tPerforms Bitwise xOR on operands and assign value to left operand\ta^=b     a=a^b\n",
    ">>=\tPerforms Bitwise right shift on operands and assign value to left operand\ta>>=b     a=a>>b\n",
    "<<=\tPerforms Bitwise left shift on operands and assign value to left operand\ta <<= b     a= a << b"
   ]
  },
  {
   "cell_type": "code",
   "execution_count": 29,
   "metadata": {},
   "outputs": [
    {
     "name": "stdout",
     "output_type": "stream",
     "text": [
      "12\n",
      "24\n",
      "12\n",
      "144\n",
      "12.0\n",
      "0.0\n",
      "0.0\n",
      "0.0\n"
     ]
    }
   ],
   "source": [
    "#Assignment operators - used to assign values to the variables\n",
    "\n",
    "x = 12\n",
    "\n",
    "y = x\n",
    "print(y)\n",
    "\n",
    "x += y\n",
    "print(x)\n",
    "\n",
    "x -= y\n",
    "print(y) \n",
    "\n",
    "x *= y\n",
    "print(x)\n",
    "\n",
    "x /= y\n",
    "print(x)\n",
    "\n",
    "x %= y\n",
    "print(x)\n",
    "\n",
    "x //= y\n",
    "print(x)\n",
    "\n",
    "x **= y\n",
    "print(x)\n",
    "\n",
    "\n"
   ]
  }
 ],
 "metadata": {
  "kernelspec": {
   "display_name": "Python 3.9.13 64-bit (windows store)",
   "language": "python",
   "name": "python3"
  },
  "language_info": {
   "codemirror_mode": {
    "name": "ipython",
    "version": 3
   },
   "file_extension": ".py",
   "mimetype": "text/x-python",
   "name": "python",
   "nbconvert_exporter": "python",
   "pygments_lexer": "ipython3",
   "version": "3.9.13"
  },
  "orig_nbformat": 4,
  "vscode": {
   "interpreter": {
    "hash": "e3015545a62cf7af43c49f36d2431fa5eca450d48844f9ffa1df27d240099c8a"
   }
  }
 },
 "nbformat": 4,
 "nbformat_minor": 2
}
