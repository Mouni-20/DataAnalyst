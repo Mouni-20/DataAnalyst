{
 "cells": [
  {
   "cell_type": "markdown",
   "metadata": {},
   "source": [
    "functions -  function is a block of related statements designed to perform a computational, logical, or evaluative task.\n",
    "\n",
    "You can pass data, known as parameters, into a function.\n",
    "\n",
    "we can do the function calls to reuse code contained in it over and over again. \n",
    "\n",
    "we have 3 types of functions in python\n",
    "\n",
    "1.Built-in functions, such as \n",
    "-help() to ask for help\n",
    "-min() to get the minimum value\n",
    "-print() to print an object to the terminal\n",
    "\n",
    "2.User-Defined Functions (UDFs), which are functions that users create \n",
    "\n",
    "3.Anonymous functions, which are also called lambda functions because they are not declared with the standard def keyword."
   ]
  },
  {
   "cell_type": "code",
   "execution_count": 2,
   "metadata": {},
   "outputs": [
    {
     "name": "stdout",
     "output_type": "stream",
     "text": [
      "welcome to function tutorial\n"
     ]
    }
   ],
   "source": [
    "#FUNCTIONS  helps the program to be concise, non-repetitive, and organized.\n",
    "\n",
    "#In Python a function is defined using the def keyword \n",
    "#Ceate a function\n",
    "\n",
    "def intro():\n",
    "    print('welcome to function tutorial')\n",
    "\n",
    "#calling function\n",
    "intro()\n"
   ]
  },
  {
   "cell_type": "code",
   "execution_count": 6,
   "metadata": {},
   "outputs": [
    {
     "data": {
      "text/plain": [
       "1.9634146341463414"
      ]
     },
     "execution_count": 6,
     "metadata": {},
     "output_type": "execute_result"
    }
   ],
   "source": [
    "#other example \n",
    "def div(num1, num2):\n",
    "    num3 = num1 / num2 \n",
    "    return num3\n",
    "\n",
    "div(483, 246) \n"
   ]
  },
  {
   "cell_type": "code",
   "execution_count": 11,
   "metadata": {},
   "outputs": [
    {
     "name": "stdout",
     "output_type": "stream",
     "text": [
      "odd numnber is below 10 None\n"
     ]
    }
   ],
   "source": [
    "#example \n",
    "def odd_num(n):\n",
    "    if n in [8, 7]:\n",
    "        return 'true'\n",
    "    if n < 10:\n",
    "        return 'odd numnber is below 10'\n",
    "\n",
    "print(odd_num(9), odd_num(12))"
   ]
  },
  {
   "cell_type": "code",
   "execution_count": 13,
   "metadata": {},
   "outputs": [],
   "source": [
    "#example\n",
    "def hello():\n",
    "    name = str(input('Please enter your name: '))\n",
    "    if name:\n",
    "        print('Hello ' + '' + str(name) + ',' + ' Welcome to Datascience program!')\n",
    "\n",
    "    else:\n",
    "        print('please correct your name')\n",
    "\n",
    "    return\n"
   ]
  },
  {
   "cell_type": "code",
   "execution_count": 14,
   "metadata": {},
   "outputs": [
    {
     "name": "stdout",
     "output_type": "stream",
     "text": [
      "Hello Mouna, Welcome to Datascience program!\n"
     ]
    }
   ],
   "source": [
    "hello()"
   ]
  },
  {
   "cell_type": "code",
   "execution_count": 16,
   "metadata": {},
   "outputs": [
    {
     "name": "stdout",
     "output_type": "stream",
     "text": [
      "here begins your journey\n"
     ]
    },
    {
     "data": {
      "text/plain": [
       "40"
      ]
     },
     "execution_count": 16,
     "metadata": {},
     "output_type": "execute_result"
    }
   ],
   "source": [
    "#Return statement\n",
    "#Note that as you’re printing something in your UDF hello(), you don’t really need to return it. \n",
    "def welcome():\n",
    "    print('here begins your journey')\n",
    "\n",
    "    return 22\n",
    "\n",
    "welcome() + 18"
   ]
  },
  {
   "cell_type": "code",
   "execution_count": 23,
   "metadata": {},
   "outputs": [
    {
     "data": {
      "text/plain": [
       "(798, 1.8095238095238095)"
      ]
     },
     "execution_count": 23,
     "metadata": {},
     "output_type": "execute_result"
    }
   ],
   "source": [
    "# return multiple values\n",
    "# To do this, you make use of tuples.\n",
    "\n",
    "def value1(x, y):\n",
    "    multi = x * y\n",
    "    divi = y / x \n",
    "    return(multi, divi)\n",
    "\n",
    "value1(21, 38)\n",
    "\n"
   ]
  },
  {
   "cell_type": "code",
   "execution_count": 24,
   "metadata": {},
   "outputs": [
    {
     "name": "stdout",
     "output_type": "stream",
     "text": [
      "96\n",
      "1.5\n",
      "(96, 1.5)\n"
     ]
    }
   ],
   "source": [
    "\n",
    "#CAll \n",
    "\n",
    "divi, multi = value1(8, 12)\n",
    "ret_tup = value1(8, 12)\n",
    "\n",
    "print(divi)\n",
    "print(multi)\n",
    "print(ret_tup)"
   ]
  },
  {
   "cell_type": "markdown",
   "metadata": {},
   "source": [
    "Docstring"
   ]
  },
  {
   "cell_type": "code",
   "execution_count": 43,
   "metadata": {},
   "outputs": [],
   "source": [
    "# Doctsring is a descriptions which serve as documentation for your function so that \n",
    "# anyone who reads your function’s docstring understands what your function does, without \n",
    "# having to trace through all the code in the function definition\n",
    "\n",
    "def here():\n",
    "    \"\"\" \n",
    "    print 'we will learn today about python.'.\n",
    "    returns: Let's start  \"\"\"\n",
    "\n",
    "    print('we will learn today about python.')\n",
    "    return 'lets start'"
   ]
  },
  {
   "cell_type": "code",
   "execution_count": 44,
   "metadata": {},
   "outputs": [
    {
     "name": "stdout",
     "output_type": "stream",
     "text": [
      "we will learn today about python.\n"
     ]
    },
    {
     "data": {
      "text/plain": [
       "'lets start'"
      ]
     },
     "execution_count": 44,
     "metadata": {},
     "output_type": "execute_result"
    }
   ],
   "source": [
    "here()"
   ]
  },
  {
   "cell_type": "code",
   "execution_count": 45,
   "metadata": {},
   "outputs": [
    {
     "name": "stdout",
     "output_type": "stream",
     "text": [
      "Help on function here in module __main__:\n",
      "\n",
      "here()\n",
      "    print 'we will learn today about python.'.\n",
      "    returns: Let's start\n",
      "\n"
     ]
    }
   ],
   "source": [
    "help(here)"
   ]
  },
  {
   "cell_type": "markdown",
   "metadata": {},
   "source": [
    "Types of Arguments\n",
    "\n",
    "Python supports various types of arguments that can be passed at the time of the function call.\n",
    "\n",
    "There are 4 types of arguments that Python UDFs can take:\n",
    "\n",
    "1 Default arguments\n",
    "2 Required arguments\n",
    "3 Keyword arguments\n",
    "4 Variable number of arguments\n"
   ]
  },
  {
   "cell_type": "code",
   "execution_count": 46,
   "metadata": {},
   "outputs": [
    {
     "data": {
      "text/plain": [
       "112"
      ]
     },
     "execution_count": 46,
     "metadata": {},
     "output_type": "execute_result"
    }
   ],
   "source": [
    "#Default arguments - A default argument is a parameter that assumes a default value if a value is not provided in \n",
    "# the function call for that argument\n",
    "\n",
    "#example finding area of a rectangle\n",
    "def area_rec(l, b):\n",
    "    return l * b\n",
    "#lets assume length, breadth parametes \n",
    "area_rec(14, 8)\n"
   ]
  },
  {
   "cell_type": "code",
   "execution_count": 47,
   "metadata": {},
   "outputs": [
    {
     "ename": "TypeError",
     "evalue": "area_rec() missing 1 required positional argument: 'b'",
     "output_type": "error",
     "traceback": [
      "\u001b[1;31m---------------------------------------------------------------------------\u001b[0m",
      "\u001b[1;31mTypeError\u001b[0m                                 Traceback (most recent call last)",
      "\u001b[1;32md:\\Desktop\\DS\\Python Practiced Files\\Mouni-python9-Functions.ipynb Cell 16'\u001b[0m in \u001b[0;36m<cell line: 5>\u001b[1;34m()\u001b[0m\n\u001b[0;32m      <a href='vscode-notebook-cell:/d%3A/Desktop/DS/Python%20Practiced%20Files/Mouni-python9-Functions.ipynb#ch0000019?line=2'>3</a>\u001b[0m     \u001b[39mreturn\u001b[39;00m l \u001b[39m*\u001b[39m b \n\u001b[0;32m      <a href='vscode-notebook-cell:/d%3A/Desktop/DS/Python%20Practiced%20Files/Mouni-python9-Functions.ipynb#ch0000019?line=3'>4</a>\u001b[0m area_rec(\u001b[39m10\u001b[39m, \u001b[39m42\u001b[39m)\n\u001b[1;32m----> <a href='vscode-notebook-cell:/d%3A/Desktop/DS/Python%20Practiced%20Files/Mouni-python9-Functions.ipynb#ch0000019?line=4'>5</a>\u001b[0m area_rec(l \u001b[39m=\u001b[39;49m \u001b[39m10\u001b[39;49m)\n",
      "\u001b[1;31mTypeError\u001b[0m: area_rec() missing 1 required positional argument: 'b'"
     ]
    }
   ],
   "source": [
    "#Required Arguments- are those that have to be in theres\n",
    "def area_rec(l, b):\n",
    "    return l * b \n",
    "area_rec(10, 42)\n",
    "area_rec(l = 10)"
   ]
  },
  {
   "cell_type": "code",
   "execution_count": 50,
   "metadata": {},
   "outputs": [
    {
     "name": "stdout",
     "output_type": "stream",
     "text": [
      "Mounika P\n",
      "Mounika P\n"
     ]
    }
   ],
   "source": [
    "#keyword argumnents -to make sure that you call all the parameters in the \n",
    "# right order, you can use the keyword arguments in your function call\n",
    "\n",
    "#person name \n",
    "def employee(Firstname, Lastname):\n",
    "    print(Firstname, Lastname)\n",
    "\n",
    "employee(Firstname = 'Mounika', Lastname = 'P')\n",
    "\n",
    "employee(Lastname = 'P', Firstname = 'Mounika')"
   ]
  },
  {
   "cell_type": "markdown",
   "metadata": {},
   "source": [
    "#variable - length arguments\n",
    "#In Python, we can pass a variable number of arguments to a function using special symbols. There are two special symbols:\n",
    "1 *args (Non-Keyword Arguments) \n",
    "2 **kwargs (Keyword Arguments)"
   ]
  },
  {
   "cell_type": "code",
   "execution_count": 61,
   "metadata": {},
   "outputs": [
    {
     "name": "stdout",
     "output_type": "stream",
     "text": [
      "DataScientist\n",
      "carrier\n",
      "path\n",
      "transition\n"
     ]
    }
   ],
   "source": [
    "# *args (Non-Keyword Arguments) \n",
    "\n",
    "def tittle(*track):\n",
    "    for tra in track:\n",
    "        print(tra)\n",
    "\n",
    "tittle('DataScientist', 'carrier', 'path', 'transition')"
   ]
  },
  {
   "cell_type": "code",
   "execution_count": 72,
   "metadata": {},
   "outputs": [
    {
     "name": "stdout",
     "output_type": "stream",
     "text": [
      "smallest prime number is 2\n"
     ]
    }
   ],
   "source": [
    "#other example udf with variable *nonkeyword argument \n",
    "#concatinate string with int\n",
    "\n",
    "def num(*prime):\n",
    "    print('smallest prime number is ' + str(prime[2]))\n",
    "\n",
    "num(3, 7, 2, 5, 11)\n"
   ]
  },
  {
   "cell_type": "code",
   "execution_count": 74,
   "metadata": {},
   "outputs": [
    {
     "name": "stdout",
     "output_type": "stream",
     "text": [
      "Alabama==Montgomery\n",
      "California==Sacramento\n",
      "Massachussets==Boston\n",
      "Florida==Tallahassee\n",
      "Hawaii==Honolulu\n",
      "Illinois==Springfield\n",
      "Indiana==Indianapolis\n",
      "Iowa==Des Moines\n",
      "Maryland==Annapolis\n"
     ]
    }
   ],
   "source": [
    "# **kwargs - variable keyword argument\n",
    "#send arguments with the key = value syntax\n",
    "\n",
    "def state(**capital):\n",
    "    for key, value in capital.items():\n",
    "        print('%s==%s' % (key, value))\n",
    "\n",
    "state(Alabama = 'Montgomery', California = 'Sacramento', Massachussets = 'Boston', Florida = 'Tallahassee', \n",
    "Hawaii = 'Honolulu', Illinois = 'Springfield', Indiana = 'Indianapolis', Iowa = 'Des Moines', Maryland = 'Annapolis')\n",
    "\n"
   ]
  },
  {
   "cell_type": "code",
   "execution_count": 79,
   "metadata": {},
   "outputs": [
    {
     "name": "stdout",
     "output_type": "stream",
     "text": [
      "most sold benzs car type is sedan\n"
     ]
    }
   ],
   "source": [
    "# **kwargs - variable keyword argument\n",
    "\n",
    "def benz(**type):\n",
    "    print('most sold benzs car type is ' + type['types'])\n",
    "\n",
    "benz(colour = 'black', types = 'sedan', price = '85,000$')"
   ]
  },
  {
   "cell_type": "code",
   "execution_count": 81,
   "metadata": {},
   "outputs": [
    {
     "name": "stdout",
     "output_type": "stream",
     "text": [
      "5\n",
      "7\n",
      "12\n",
      "--------------\n",
      "5\n",
      "7\n"
     ]
    },
    {
     "ename": "NameError",
     "evalue": "name 'c' is not defined",
     "output_type": "error",
     "traceback": [
      "\u001b[1;31m---------------------------------------------------------------------------\u001b[0m",
      "\u001b[1;31mNameError\u001b[0m                                 Traceback (most recent call last)",
      "\u001b[1;32md:\\Desktop\\DS\\Python Practiced Files\\Mouni-python9-Functions.ipynb Cell 23'\u001b[0m in \u001b[0;36m<cell line: 16>\u001b[1;34m()\u001b[0m\n\u001b[0;32m     <a href='vscode-notebook-cell:/d%3A/Desktop/DS/Python%20Practiced%20Files/Mouni-python9-Functions.ipynb#ch0000034?line=13'>14</a>\u001b[0m \u001b[39mprint\u001b[39m(a)\n\u001b[0;32m     <a href='vscode-notebook-cell:/d%3A/Desktop/DS/Python%20Practiced%20Files/Mouni-python9-Functions.ipynb#ch0000034?line=14'>15</a>\u001b[0m \u001b[39mprint\u001b[39m(b)\n\u001b[1;32m---> <a href='vscode-notebook-cell:/d%3A/Desktop/DS/Python%20Practiced%20Files/Mouni-python9-Functions.ipynb#ch0000034?line=15'>16</a>\u001b[0m \u001b[39mprint\u001b[39m(c)\n",
      "\u001b[1;31mNameError\u001b[0m: name 'c' is not defined"
     ]
    }
   ],
   "source": [
    "# Global vs Local Variables\n",
    "\n",
    "a = 5 # Global\n",
    "b = 7 # Global\n",
    "\n",
    "def prod():\n",
    "    c = 12 #Local\n",
    "    print(a)\n",
    "    print(b)\n",
    "    print(c)\n",
    "\n",
    "prod()\n",
    "print('--------------')\n",
    "print(a)\n",
    "print(b)\n",
    "print(c)\n",
    "\n"
   ]
  },
  {
   "cell_type": "code",
   "execution_count": 82,
   "metadata": {},
   "outputs": [
    {
     "name": "stdout",
     "output_type": "stream",
     "text": [
      "5\n",
      "7\n",
      "12\n",
      "--------------\n",
      "5\n",
      "7\n",
      "12\n"
     ]
    }
   ],
   "source": [
    "# Global vs Local Variables\n",
    "\n",
    "a = 5 # Global\n",
    "b = 7 # Global\n",
    "\n",
    "def prod():\n",
    "    global c\n",
    "    c = 12 #Local\n",
    "    print(a)\n",
    "    print(b)\n",
    "    print(c)\n",
    "\n",
    "prod()\n",
    "print('--------------')\n",
    "print(a)\n",
    "print(b)\n",
    "print(c)"
   ]
  },
  {
   "cell_type": "code",
   "execution_count": 9,
   "metadata": {},
   "outputs": [
    {
     "name": "stdout",
     "output_type": "stream",
     "text": [
      "729\n",
      "343\n"
     ]
    }
   ],
   "source": [
    "#Anonymous functions: also called lambda functions \n",
    "#default argument \n",
    "def mult(y):\n",
    "    return y*y*y\n",
    "print(mult(9))\n",
    "\n",
    "#lambda\n",
    "mul = lambda x: x*x*x\n",
    "print(mul(7))"
   ]
  },
  {
   "cell_type": "code",
   "execution_count": 15,
   "metadata": {},
   "outputs": [
    {
     "name": "stdout",
     "output_type": "stream",
     "text": [
      "here we go\n"
     ]
    }
   ],
   "source": [
    "#function within function\n",
    "#A function that is defined inside another function is known as the inner function or nested function\n",
    "#nner functions are used so that they can be protected from everything happening outside the function.\n",
    "\n",
    "def f1():\n",
    "    s = 'here we go'\n",
    "     \n",
    "    def f2():\n",
    "        print(s)\n",
    "         \n",
    "    f2()\n",
    " \n",
    "# Driver's code\n",
    "f1()"
   ]
  },
  {
   "cell_type": "code",
   "execution_count": 18,
   "metadata": {},
   "outputs": [
    {
     "name": "stdout",
     "output_type": "stream",
     "text": [
      "name : ('audi', 'mercedes')\n",
      "price : ('140,000.00$', '175,000.00$')\n"
     ]
    }
   ],
   "source": [
    "#positional arguments \n",
    "\n",
    "def vehicle(name, price):\n",
    "    print('name :', name)\n",
    "    print('price :', price)\n",
    "\n",
    "vehicle(('audi', 'mercedes'), ('140,000.00$', '175,000.00$'))"
   ]
  },
  {
   "cell_type": "code",
   "execution_count": 19,
   "metadata": {},
   "outputs": [
    {
     "name": "stdout",
     "output_type": "stream",
     "text": [
      "name : ('140,000.00$', '175,000.00$')\n",
      "price : ('audi', 'mercedes')\n"
     ]
    }
   ],
   "source": [
    "\n",
    "#positional arguments \n",
    "vehicle(('140,000.00$', '175,000.00$'), ('audi', 'mercedes'))"
   ]
  },
  {
   "cell_type": "code",
   "execution_count": 21,
   "metadata": {},
   "outputs": [
    {
     "name": "stdout",
     "output_type": "stream",
     "text": [
      "country:  india\n",
      "states:  28\n"
     ]
    }
   ],
   "source": [
    "#keyword argument\n",
    "def country_states_no(country, states):\n",
    "    print('country: ', country)\n",
    "    print('states: ', states)\n",
    "\n",
    "country_states_no(states = 28, country = 'india')"
   ]
  },
  {
   "cell_type": "code",
   "execution_count": null,
   "metadata": {},
   "outputs": [],
   "source": []
  }
 ],
 "metadata": {
  "kernelspec": {
   "display_name": "Python 3.9.13 64-bit (windows store)",
   "language": "python",
   "name": "python3"
  },
  "language_info": {
   "codemirror_mode": {
    "name": "ipython",
    "version": 3
   },
   "file_extension": ".py",
   "mimetype": "text/x-python",
   "name": "python",
   "nbconvert_exporter": "python",
   "pygments_lexer": "ipython3",
   "version": "3.9.13"
  },
  "orig_nbformat": 4,
  "vscode": {
   "interpreter": {
    "hash": "e3015545a62cf7af43c49f36d2431fa5eca450d48844f9ffa1df27d240099c8a"
   }
  }
 },
 "nbformat": 4,
 "nbformat_minor": 2
}
