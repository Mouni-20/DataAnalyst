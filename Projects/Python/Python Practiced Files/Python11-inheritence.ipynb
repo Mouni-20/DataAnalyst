{
 "cells": [
  {
   "cell_type": "markdown",
   "metadata": {},
   "source": [
    "Inheritance is the capability of one class to derive or inherit the properties from another class. The benefits of inheritance are: \n",
    " \n",
    "\n",
    "1 It represents real-world relationships well.\n",
    "2 It provides reusability of a code. We don’t have to write the same code again and again. Also, it allows us to add more features  \n",
    "  to a class without modifying it.\n",
    "3 It is transitive in nature, which means that if class B inherits from another class A, then all the subclasses of B would  \n",
    "  automatically inherit from class A."
   ]
  },
  {
   "cell_type": "markdown",
   "metadata": {},
   "source": [
    "Different forms of Inheritance\n",
    "1. Single inheritance: When a child class inherits from only one parent class, it is called single inheritance. We saw an example above.\n",
    "2. Multiple inheritance: When a child class inherits from multiple parent classes, it is called multiple inheritance. \n",
    "\n",
    "Unlike java, python shows multiple inheritance.\n",
    "3. Multilevel inheritance: When we have a child and grandchild relationship.\n",
    "4. Hierarchical inheritance More than one derived classes are created from a single base.\n",
    "5. Hybrid inheritance: This form combines more than one form of inheritance. Basically, it is a blend of more than one type of inheritance."
   ]
  },
  {
   "cell_type": "markdown",
   "metadata": {},
   "source": [
    "1.Single inheritance  \n",
    "https://pynative.com/wp-content/uploads/2021/03/python_multiple_inheritance.png"
   ]
  },
  {
   "cell_type": "code",
   "execution_count": 18,
   "metadata": {},
   "outputs": [
    {
     "name": "stdout",
     "output_type": "stream",
     "text": [
      "country:  Usa\n",
      "Capital: washington dc\n",
      "Capital: Delhi\n",
      "Capital for which country: india\n"
     ]
    }
   ],
   "source": [
    "class cou:\n",
    "\n",
    "    def __init__(self, country):\n",
    "        self.country = country\n",
    "\n",
    "    def info(self):\n",
    "        print('country: ', self.country)\n",
    "        print('Capital:', (str(input('enter capital: ', ))))\n",
    "\n",
    "class cap(cou):\n",
    "\n",
    "    def __init__(self, capital):\n",
    "        self.capital = capital\n",
    "    \n",
    "    def ans(self):\n",
    "        print('Capital:', self.capital)\n",
    "        print('Capital for which country:', (str(input('enter Country: ', ))))\n",
    "\n",
    "x = cou('Usa')\n",
    "x.info()\n",
    "y = cap('Delhi')\n",
    "y.ans()"
   ]
  },
  {
   "cell_type": "markdown",
   "metadata": {},
   "source": [
    "2.Multiple inheritance\n",
    "\n",
    "dont forget ( . ) in .__init__ \n",
    "call out parent class objects into every next child class\n",
    "\n",
    "https://pynative.com/wp-content/uploads/2021/03/python_multilevel_inheritance.png\n"
   ]
  },
  {
   "cell_type": "code",
   "execution_count": 6,
   "metadata": {},
   "outputs": [
    {
     "name": "stdout",
     "output_type": "stream",
     "text": [
      "course : Data Science\n",
      "subjects : Programming, Data Processing, Math, Statistic, Computers, machinelearning, Domain Expertise\n",
      "Duration: 12 - 15 months\n"
     ]
    }
   ],
   "source": [
    "#create class for Course details\n",
    "class Course:\n",
    "\n",
    "    # Constructor\n",
    "    def __init__(self, name,topics,period):\n",
    "        self.name = name\n",
    "        self.topics = topics\n",
    "        self.period = period\n",
    "\n",
    "    def entername(self):\n",
    "        return self.name\n",
    "\n",
    "\n",
    "# Inherited or Sub class\n",
    "class subject(Course):\n",
    "\n",
    "    # Constructor\n",
    "    def __init__(self, name,topics,period):\n",
    "        super().__init__(name,topics,period)\n",
    "        \n",
    "    def entersubject(self):\n",
    "        return self.topics\n",
    "\n",
    "# Inherited or Sub class\n",
    "class Duration(Course):\n",
    "\n",
    "    # Constructor\n",
    "    def __init__(self, name,topics,period):\n",
    "        super().__init__(name,topics,period)\n",
    "\n",
    "    def enterduration(self):\n",
    "        return self.period\n",
    "\n",
    "L = Duration('course : Data Science','subjects : Programming, Data Processing, Math, Statistic, Computers, machinelearning, Domain Expertise', 'Duration: 12 - 15 months')\n",
    "s = subject('course : Data Science','subjects : Programming, Data Processing, Math, Statistic, Computers, machinelearning, Domain Expertise', 'Duration: 12 - 15 months')\n",
    "print(L.entername())\n",
    "print(s.entersubject())\n",
    "print(L.enterduration())\n",
    "\n",
    "\n",
    "\n",
    "\n",
    "\n"
   ]
  },
  {
   "cell_type": "markdown",
   "metadata": {},
   "source": [
    "3.Multilevel inheritance\n",
    "\n",
    "https://pynative.com/wp-content/uploads/2021/03/python_multilevel_inheritance.png\n",
    "\n",
    "\n"
   ]
  },
  {
   "cell_type": "code",
   "execution_count": 43,
   "metadata": {},
   "outputs": [
    {
     "name": "stdout",
     "output_type": "stream",
     "text": [
      "Company : apple\n",
      "Founder: Steve Jobs , Steve Wozniak\n",
      "Headquarters: Cupertino, California, USA\n",
      "Revenue: $261.2 billion\n",
      "Apple is the 1st Largest Tech Companies in the World\n",
      "Company : samsung\n",
      "Founder: Lee Byung-chul\n",
      "Headquarters: Suwon, Gyeonggi Province, South Korea\n",
      "Revenue: $221.6 billion\n",
      "samsung is the 2nd Largest Tech Companies in the World\n",
      "Company : Foxconn\n",
      "Founder: Terry Gou\n",
      "Headquarters: New Taipei City, Taiwan\n",
      "Revenue: $178.1 billion\n",
      "Foxconn is the 3rd Largest Tech Companies in the World\n"
     ]
    }
   ],
   "source": [
    "#inheritence \n",
    "\n",
    "#create a parent class and child class for the brief list on world largest 5 tech companies. \n",
    "\n",
    "#here are 10 copanies names 1. APPLE,2. SAMSUNG,3. FOXCONN,4. ALPHABET,5. MICROSOFT,\n",
    "\n",
    "#use any name from the list to run the code \n",
    "\n",
    "\n",
    "#parent class\n",
    "class TechCompany:\n",
    "\n",
    "    def __init__(self, Company):\n",
    "        self.Company = Company \n",
    "    def intro(self):\n",
    "        \n",
    "        print('Company :', self.Company)\n",
    "\n",
    "    def Founder(self):\n",
    "\n",
    "        if self.Company == 'apple':\n",
    "            print('Founder: Steve Jobs , Steve Wozniak')\n",
    "        elif self.Company == 'Microsoft':\n",
    "            print('Founder: Bill Gates')\n",
    "        elif self.Company == 'samsung':\n",
    "            print('Founder: Lee Byung-chul')\n",
    "        elif self.Company == 'Foxconn':\n",
    "            print('Founder: Terry Gou')\n",
    "        elif self.Company == 'Alphabet':\n",
    "            print('Founder: Larry Page, Sergey Brin')\n",
    "        else:\n",
    "            ('none')\n",
    "        \n",
    "\n",
    "class TechHQ(TechCompany):\n",
    "\n",
    "    def __init__(self, Company , HQ):\n",
    "        super().__init__(Company)\n",
    "        self.HQ = HQ\n",
    "\n",
    "    def HeadQuater(self): \n",
    "    \n",
    "        if self.HQ == 'apple':\n",
    "            print('Headquarters: Cupertino, California, USA')\n",
    "        elif self.HQ == 'Microsoft':\n",
    "            print('Headquarters: Redmond, Washington, USA')\n",
    "        elif self.HQ == 'samsung':\n",
    "            print('Headquarters: Suwon, Gyeonggi Province, South Korea')\n",
    "        elif self.HQ == 'Foxconn':\n",
    "            print('Headquarters: New Taipei City, Taiwan')\n",
    "        elif self.HQ == 'Alphabet':\n",
    "            print('Headquarters: Mountain View, California, USA')\n",
    "        else:\n",
    "            ('none')\n",
    "\n",
    "class TechRevenue(TechHQ):\n",
    "\n",
    "    def __init__(self, Company , HQ, Revenue):\n",
    "        super().__init__(Company, HQ)\n",
    "        self.Revenue = Revenue\n",
    "\n",
    "    def rev(self):\n",
    "\n",
    "        if self.Revenue == 'apple':\n",
    "            print('Revenue: $261.2 billion')\n",
    "        elif self.Revenue == 'Microsoft':\n",
    "            print('Revenue: $143.0 billion')\n",
    "        elif self.Revenue == 'samsung':\n",
    "            print('Revenue: $221.6 billion')\n",
    "        elif self.Revenue == 'Foxconn':\n",
    "            print('Revenue: $178.1 billion')\n",
    "        elif self.Revenue == 'Alphabet':\n",
    "            print('Revenue: $161.9 billion')\n",
    "        else:\n",
    "            ('none')\n",
    "\n",
    "class TechRank(TechRevenue):\n",
    "\n",
    "    def __init__(self, Company , HQ, Revenue, Rank):\n",
    "        super().__init__(Company, HQ, Revenue)\n",
    "        self.Rank = Rank\n",
    "\n",
    "    def Ran(self):\n",
    "\n",
    "        if self.Rank == 'apple':\n",
    "            print('Apple is the 1st Largest Tech Companies in the World')\n",
    "        elif self.Rank == 'Microsoft':\n",
    "            print('Microsoft is the 5th Largest Tech Companies in the World')\n",
    "        elif self.Rank == 'samsung':\n",
    "            print('samsung is the 2nd Largest Tech Companies in the World')\n",
    "        elif self.Rank == 'Foxconn':\n",
    "            print('Foxconn is the 3rd Largest Tech Companies in the World')\n",
    "        elif self.Rank == 'Alphabet':\n",
    "            print('Alphabet is the 4th Largest Tech Companies in the World')\n",
    "        else:\n",
    "            ('none')\n",
    "\n",
    "\n",
    "T1 = TechRank('apple' , 'apple', 'apple', 'apple')\n",
    "T1.intro()\n",
    "T1.Founder()\n",
    "T1.HeadQuater()\n",
    "T1.rev()\n",
    "T1.Ran()\n",
    "\n",
    "T2 = TechRank('samsung' , 'samsung', 'samsung', 'samsung')\n",
    "T2.intro()\n",
    "T2.Founder()\n",
    "T2.HeadQuater()\n",
    "T2.rev()\n",
    "T2.Ran()\n",
    "\n",
    "T3 = TechRank('Foxconn' , 'Foxconn', 'Foxconn', 'Foxconn')\n",
    "T3.intro()\n",
    "T3.Founder()\n",
    "T3.HeadQuater()\n",
    "T3.rev()\n",
    "T3.Ran()"
   ]
  },
  {
   "cell_type": "markdown",
   "metadata": {},
   "source": [
    "4.Hierarchical inheritance\n",
    "\n",
    "https://pynative.com/wp-content/uploads/2021/03/python_hierarchical_inheritance.png \n",
    "\n"
   ]
  },
  {
   "cell_type": "code",
   "execution_count": 22,
   "metadata": {},
   "outputs": [
    {
     "name": "stdout",
     "output_type": "stream",
     "text": [
      "Type of food:\n",
      "Mango is a fruit\n",
      "Type of food:\n",
      "Bitterguard is a Vegetable\n",
      "Type of food:\n",
      "Mung Bean is a lintel\n"
     ]
    }
   ],
   "source": [
    "#more than one class derived from class base\n",
    "class food:\n",
    "\n",
    "    def __init__(self):\n",
    "        print('Type of food:')   \n",
    "\n",
    "class fruits(food):\n",
    "\n",
    "    def fruit(self, Type):\n",
    "        \n",
    "        print(Type , 'is a fruit')\n",
    "\n",
    "class Veges(food):\n",
    "\n",
    "    def vegetable(self, Type):\n",
    "        \n",
    "        print(Type , 'is a Vegetable')\n",
    "\n",
    "class Lintels(food):\n",
    "\n",
    "    def lintel(self, Type):\n",
    "               \n",
    "        print(Type , 'is a lintel')\n",
    "\n",
    "A = fruits()\n",
    "A.fruit('Mango')\n",
    "\n",
    "B = Veges()\n",
    "B.vegetable('Bitterguard')\n",
    "\n",
    "C = Lintels()\n",
    "C.lintel('Mung Bean')\n",
    "\n"
   ]
  },
  {
   "cell_type": "markdown",
   "metadata": {},
   "source": [
    "5.Hybrid inheritance \n",
    "https://pynative.com/wp-content/uploads/2021/03/python_hybrid_inheritance.png \n"
   ]
  },
  {
   "cell_type": "code",
   "execution_count": 24,
   "metadata": {},
   "outputs": [
    {
     "name": "stdout",
     "output_type": "stream",
     "text": [
      "Name: mounika\n",
      "Job: data scientist\n",
      "Salary: 200000$\n",
      "Company Microsoft\n"
     ]
    }
   ],
   "source": [
    "class person:\n",
    "\n",
    "    def name(self):\n",
    "        print('Name:', str(input('enter name:')))\n",
    "\n",
    "class work(person):\n",
    "\n",
    "    def work(self):\n",
    "        print('Job:', str(input('enetr job:')))\n",
    "\n",
    "class salary(person):\n",
    "\n",
    "    def pay(self):\n",
    "        print('Salary:', str(input('enter salary:')))\n",
    "\n",
    "class details(work, salary):\n",
    "    def WS_details(self):\n",
    "        print('Company', str(input('enter company:')))\n",
    "\n",
    "\n",
    "x = details()\n",
    "x.name()\n",
    "x.work()\n",
    "x.pay()\n",
    "x.WS_details()\n",
    "\n",
    "\n"
   ]
  }
 ],
 "metadata": {
  "kernelspec": {
   "display_name": "Python 3.9.13 64-bit (windows store)",
   "language": "python",
   "name": "python3"
  },
  "language_info": {
   "codemirror_mode": {
    "name": "ipython",
    "version": 3
   },
   "file_extension": ".py",
   "mimetype": "text/x-python",
   "name": "python",
   "nbconvert_exporter": "python",
   "pygments_lexer": "ipython3",
   "version": "3.9.13"
  },
  "orig_nbformat": 4,
  "vscode": {
   "interpreter": {
    "hash": "e3015545a62cf7af43c49f36d2431fa5eca450d48844f9ffa1df27d240099c8a"
   }
  }
 },
 "nbformat": 4,
 "nbformat_minor": 2
}
