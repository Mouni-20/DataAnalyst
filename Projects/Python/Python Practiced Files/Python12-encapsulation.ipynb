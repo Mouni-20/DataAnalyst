{
 "cells": [
  {
   "cell_type": "markdown",
   "metadata": {},
   "source": [
    "Encapsulation \n",
    "\n",
    "Encapsulation is one of the fundamental concepts in object-oriented programming (OOP). \n",
    "\n",
    "It describes the idea of wrapping data and the methods that work on data within one unit.\n",
    "\n",
    "To prevent accidental change, an object’s variable can only be changed by an object’s method. \n",
    "\n",
    "Those types of variables are known as private variables.\n",
    "1.Protected\n",
    "2.Private"
   ]
  },
  {
   "cell_type": "markdown",
   "metadata": {},
   "source": [
    "#public: Public  (generally members declared in a class) are accessible from outside the class.\n",
    "\n",
    "#protected: The members of a class that are declared protected are only accessible which are deriveved from a base class dit. adding a single underscore ‘_’ symbol before the data member\n",
    "\n",
    "#private:The members of a class that are declared private are accessible within the class only,\n",
    "\n",
    "#private access modifier is the most secure access modifier. adding a double underscore ‘__’ symbol before the data member"
   ]
  },
  {
   "cell_type": "code",
   "execution_count": 4,
   "metadata": {},
   "outputs": [
    {
     "name": "stdout",
     "output_type": "stream",
     "text": [
      "country:  usa , currency:  $ dollar\n",
      "country:  usa , currency:  $ dollar\n"
     ]
    }
   ],
   "source": [
    "#encapsulation \n",
    "\n",
    "#Public \n",
    "\n",
    "class Place:\n",
    "\n",
    "    # constructor\n",
    "    def __init__(self, country, currency):\n",
    "\n",
    "        # public data members\n",
    "        self.country = country \n",
    "        self.currency = currency\n",
    "\n",
    "    # public instance methods\n",
    "    def count(self):\n",
    "\n",
    "        # accessing public data member\n",
    "        print('country: ', self.country , ', currency: ', self.currency) \n",
    "\n",
    "\n",
    "# creating object of a class \n",
    "x = Place('usa', '$ dollar')\n",
    "\n",
    "# calling public method of the class\n",
    "x.count()\n",
    "\n",
    "# accessing public data members\n",
    "print('country: ', x.country , ', currency: ', x.currency)\n",
    "\n",
    "\n",
    "\n",
    "\n"
   ]
  },
  {
   "cell_type": "markdown",
   "metadata": {},
   "source": [
    "to understand difference in variables representation \n",
    "\n",
    "def __init__(self, name , color, age):\n",
    "    self.name = name  ------------ PUBLIC MEMBER (accessible within or outside of a class)\n",
    "    self._color = color ---------- PROTECTED MEMBER (accessible within the class and it's sub-classes)\n",
    "    self.__salary = salary ------- PRIVATE MEMBER (accessible only within a class)\n"
   ]
  },
  {
   "cell_type": "code",
   "execution_count": 6,
   "metadata": {},
   "outputs": [
    {
     "name": "stdout",
     "output_type": "stream",
     "text": [
      "Name: Vinay\n",
      "who: student\n",
      "who: student\n"
     ]
    }
   ],
   "source": [
    "#protected \n",
    "\n",
    "#parent class\n",
    "class student:\n",
    "    def __init__(self):\n",
    "\n",
    "        #protected member\n",
    "        self._about = 'student'\n",
    "\n",
    "#child class\n",
    "class name(student):\n",
    "    def __init__(self, name):\n",
    "        self.name = name\n",
    "        student.__init__(self)\n",
    "\n",
    "    def nameis(self):\n",
    "    # accessing protected data members\n",
    "        print('Name:', self.name)\n",
    "        print('who:', self._about)\n",
    "\n",
    "x = name('Vinay')\n",
    "x.nameis()\n",
    "\n",
    "# directing accessing protected data members\n",
    "print('who:', x._about)\n"
   ]
  },
  {
   "cell_type": "code",
   "execution_count": 12,
   "metadata": {},
   "outputs": [
    {
     "data": {
      "text/plain": [
       "('200,000.00$$', 'cherry')"
      ]
     },
     "execution_count": 12,
     "metadata": {},
     "output_type": "execute_result"
    }
   ],
   "source": [
    "#Private\n",
    "\n",
    "#parent class \n",
    "\n",
    "class person:\n",
    "    def __init__(self, name, salary):\n",
    "\n",
    "    #private member\n",
    "        self.name = name\n",
    "        self.__salary = salary\n",
    "\n",
    "    def pay(self):\n",
    "        return self.__salary , self.name\n",
    "\n",
    "\n",
    "i = person('cherry', '200,000.00$$')\n",
    "i.pay() \n",
    "\n"
   ]
  },
  {
   "cell_type": "markdown",
   "metadata": {},
   "source": [
    "In the above example, the salary is a private variable. As you know, we can’t access the private variable from the outside of that class.\n",
    "\n",
    "We can access private members from outside of a class using the following two approaches\n",
    "-Create public method to access private members - (just as above)\n",
    "-Use name mangling "
   ]
  },
  {
   "cell_type": "code",
   "execution_count": null,
   "metadata": {},
   "outputs": [],
   "source": [
    "#try print out private member outside class - will give error prompt\n",
    "\n",
    "class person:\n",
    "    def __init__(self, name, salary):\n",
    "\n",
    "    #private member\n",
    "        self.name = name\n",
    "        self.__salary = salary\n",
    "\n",
    "    def pay(self):\n",
    "        return self.__salary , self.name\n",
    "\n",
    "#directing accessing private data members\n",
    "i = person('cherry', '200,000.00$$')\n",
    "print('salary', i.__salary)"
   ]
  },
  {
   "cell_type": "markdown",
   "metadata": {},
   "source": [
    "We can directly access private and protected variables from outside of a class through name mangling. The name mangling is created on an identifier by adding two leading underscores and one trailing underscore, like this _classname__dataMember, where classname is the current class, and data member is the private variable name."
   ]
  },
  {
   "cell_type": "code",
   "execution_count": 15,
   "metadata": {},
   "outputs": [
    {
     "name": "stdout",
     "output_type": "stream",
     "text": [
      "salary 200,000.00$$\n"
     ]
    }
   ],
   "source": [
    "#print out private member outside class using mangling -  variable._classname__dataMember\n",
    "\n",
    "\n",
    "class person:\n",
    "    def __init__(self, name, salary):\n",
    "\n",
    "    #private member\n",
    "        self.name = name\n",
    "        self.__salary = salary\n",
    "\n",
    "    def pay(self):\n",
    "        return self.__salary , self.name\n",
    "\n",
    "#directing accessing private data members\n",
    "i = person('cherry', '200,000.00$$')\n",
    "\n",
    "print('salary', i._person__salary)\n",
    "\n"
   ]
  }
 ],
 "metadata": {
  "kernelspec": {
   "display_name": "Python 3.9.13 64-bit (windows store)",
   "language": "python",
   "name": "python3"
  },
  "language_info": {
   "codemirror_mode": {
    "name": "ipython",
    "version": 3
   },
   "file_extension": ".py",
   "mimetype": "text/x-python",
   "name": "python",
   "nbconvert_exporter": "python",
   "pygments_lexer": "ipython3",
   "version": "3.9.13"
  },
  "orig_nbformat": 4,
  "vscode": {
   "interpreter": {
    "hash": "e3015545a62cf7af43c49f36d2431fa5eca450d48844f9ffa1df27d240099c8a"
   }
  }
 },
 "nbformat": 4,
 "nbformat_minor": 2
}
