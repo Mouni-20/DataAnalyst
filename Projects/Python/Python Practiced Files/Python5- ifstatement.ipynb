{
 "cells": [
  {
   "cell_type": "markdown",
   "metadata": {},
   "source": [
    "#Python supports the usual logical conditions from mathematics \n",
    "#Equals: a == b\n",
    "#Not Equals: a != b\n",
    "#Less than: a < b\n",
    "#Less than or equal to: a <= b\n",
    "#Greater than: a > b\n",
    "#Greater than or equal to: a >= b\n",
    "boolean expression evaluting - true/false\n",
    "\n",
    "#conditions can be used in several ways, most commonly in \"if statements\" and loops."
   ]
  },
  {
   "cell_type": "code",
   "execution_count": 1,
   "metadata": {},
   "outputs": [
    {
     "name": "stdout",
     "output_type": "stream",
     "text": [
      "b is great than a\n",
      "150\n"
     ]
    }
   ],
   "source": [
    "#for if statemeent use 'if' as keyword\n",
    "\n",
    "a = 150\n",
    "b = 200\n",
    "\n",
    "if a < b:\n",
    "    print(\"b is great than a\")\n",
    "    print(a)"
   ]
  },
  {
   "cell_type": "code",
   "execution_count": 2,
   "metadata": {},
   "outputs": [
    {
     "ename": "IndentationError",
     "evalue": "expected an indented block (3979491716.py, line 7)",
     "output_type": "error",
     "traceback": [
      "\u001b[1;36m  Input \u001b[1;32mIn [2]\u001b[1;36m\u001b[0m\n\u001b[1;33m    print(\"b is great than a\")\u001b[0m\n\u001b[1;37m    ^\u001b[0m\n\u001b[1;31mIndentationError\u001b[0m\u001b[1;31m:\u001b[0m expected an indented block\n"
     ]
    }
   ],
   "source": [
    "#Python relies on indentation (whitespace at the beginning of a line) to define scope in the code. Other programming languages often use curly-brackets for this purpose. \n",
    "\n",
    "a = 150\n",
    "b = 200\n",
    "\n",
    "if a < b:\n",
    "print(\"b is great than a\")\n",
    " print(a)"
   ]
  },
  {
   "cell_type": "code",
   "execution_count": 3,
   "metadata": {},
   "outputs": [
    {
     "name": "stdout",
     "output_type": "stream",
     "text": [
      "ba is lesse than ab\n"
     ]
    }
   ],
   "source": [
    "#The elif keyword is pythons way of saying \"if the previous conditions were not true, then try this condition\"\n",
    "\n",
    "ab = 25\n",
    "ba = 30\n",
    "\n",
    "if ab > ba:\n",
    "    print('ab is greater than ba')\n",
    "\n",
    "elif ab < ba:\n",
    "    print('ba is lesse than ab')\n",
    "\n",
    "else:\n",
    "    print('ab and ba are not equal')\n",
    "\n",
    "\n",
    "\n"
   ]
  },
  {
   "cell_type": "code",
   "execution_count": 4,
   "metadata": {},
   "outputs": [
    {
     "name": "stdout",
     "output_type": "stream",
     "text": [
      "person payed tax is more than required\n"
     ]
    }
   ],
   "source": [
    "#Short Hand If\n",
    "# only one statement to execute, you can put it on the same line as the if statement\n",
    "\n",
    "tax = 500 \n",
    "if tax > 300: print('person payed tax is more than required')\n",
    "\n",
    "\n"
   ]
  },
  {
   "cell_type": "code",
   "execution_count": 5,
   "metadata": {},
   "outputs": [
    {
     "name": "stdout",
     "output_type": "stream",
     "text": [
      "A\n"
     ]
    }
   ],
   "source": [
    "#short hand of if else\n",
    "#one statement to execute, one for if, and one for else, you can put it all on the same line\n",
    "\n",
    "tax = 500\n",
    "\n",
    "print('A') if tax > 300 else print('B')"
   ]
  },
  {
   "cell_type": "code",
   "execution_count": 7,
   "metadata": {},
   "outputs": [
    {
     "name": "stdout",
     "output_type": "stream",
     "text": [
      "B\n"
     ]
    }
   ],
   "source": [
    "#Ternary Operators, or Conditional Expressions\n",
    "#have multiple else statements on the same line \n",
    "\n",
    "a = 150\n",
    "b = 200 \n",
    "\n",
    "print(\"A\") if a > b else print(\"=\") if a == b else print(\"B\") "
   ]
  },
  {
   "cell_type": "code",
   "execution_count": 8,
   "metadata": {},
   "outputs": [
    {
     "name": "stdout",
     "output_type": "stream",
     "text": [
      "a has the lower value than b,c\n"
     ]
    }
   ],
   "source": [
    "# and keyword is a logical operator, and is used to combine conditional statements\n",
    "\n",
    "a = 150\n",
    "b = 200\n",
    "c = 250\n",
    "\n",
    "if a < b and a < c:\n",
    "    print('a has the lower value than b,c')\n"
   ]
  },
  {
   "cell_type": "code",
   "execution_count": 11,
   "metadata": {},
   "outputs": [
    {
     "name": "stdout",
     "output_type": "stream",
     "text": [
      "c is greater than b,a and b greater than a\n"
     ]
    }
   ],
   "source": [
    "# or keyword is a logical operator, and is used to combine conditional statements\n",
    "a = 150\n",
    "b = 200\n",
    "c = 250\n",
    "\n",
    "if a < b or b < c:\n",
    "    print('c is greater than b,a and b greater than a')"
   ]
  },
  {
   "cell_type": "code",
   "execution_count": 17,
   "metadata": {},
   "outputs": [
    {
     "name": "stdout",
     "output_type": "stream",
     "text": [
      "over paid\n",
      "between 350-600 paid\n"
     ]
    }
   ],
   "source": [
    "#Nested If - have if statements inside if statements\n",
    "\n",
    "tax = 500 \n",
    "\n",
    "if tax >= 350:\n",
    "    print('over paid')\n",
    "if tax <= 350:\n",
    "    print('under paid')\n",
    "if tax > 350 and tax < 600:\n",
    "    print('between 350-600 paid')\n",
    "else:\n",
    "    print('not paid')"
   ]
  },
  {
   "cell_type": "code",
   "execution_count": 21,
   "metadata": {},
   "outputs": [
    {
     "name": "stdout",
     "output_type": "stream",
     "text": [
      "500\n"
     ]
    }
   ],
   "source": [
    "#The pass Statement -  pass statement to avoid getting an error \n",
    "tax = 500 \n",
    "if tax <= 500:\n",
    "    pass\n",
    "print(tax)"
   ]
  }
 ],
 "metadata": {
  "kernelspec": {
   "display_name": "Python 3.9.13 64-bit (windows store)",
   "language": "python",
   "name": "python3"
  },
  "language_info": {
   "codemirror_mode": {
    "name": "ipython",
    "version": 3
   },
   "file_extension": ".py",
   "mimetype": "text/x-python",
   "name": "python",
   "nbconvert_exporter": "python",
   "pygments_lexer": "ipython3",
   "version": "3.9.13"
  },
  "orig_nbformat": 4,
  "vscode": {
   "interpreter": {
    "hash": "e3015545a62cf7af43c49f36d2431fa5eca450d48844f9ffa1df27d240099c8a"
   }
  }
 },
 "nbformat": 4,
 "nbformat_minor": 2
}
