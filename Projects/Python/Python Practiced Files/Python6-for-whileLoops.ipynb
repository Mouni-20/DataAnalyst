{
 "cells": [
  {
   "cell_type": "markdown",
   "metadata": {},
   "source": [
    "#Python has two primitive loop commands:\n",
    "#while loops\n",
    "#for loops"
   ]
  },
  {
   "cell_type": "markdown",
   "metadata": {},
   "source": [
    "WHILE LOOP "
   ]
  },
  {
   "cell_type": "code",
   "execution_count": 5,
   "metadata": {},
   "outputs": [
    {
     "name": "stdout",
     "output_type": "stream",
     "text": [
      "0\n",
      "1\n",
      "2\n",
      "3\n",
      "4\n",
      "5\n",
      "6\n",
      "7\n"
     ]
    }
   ],
   "source": [
    "#while loop we can execute a set of statements as long as a condition is true.\n",
    "\n",
    "#Print i as long as i is less than 8:\n",
    "\n",
    "i = 0\n",
    "\n",
    "while i < 8:\n",
    "    print(i)\n",
    "    i = i + 1\n",
    "\n"
   ]
  },
  {
   "cell_type": "code",
   "execution_count": 13,
   "metadata": {},
   "outputs": [
    {
     "name": "stdout",
     "output_type": "stream",
     "text": [
      "1\n",
      "2\n",
      "3\n",
      "4\n"
     ]
    }
   ],
   "source": [
    "#break statement - we can stop the loop even if the while condition is true:\n",
    "i = 1\n",
    "\n",
    "while i < 8:\n",
    "    print(i)\n",
    "\n",
    "    if i > 3:\n",
    "      break\n",
    "\n",
    "    i += 1"
   ]
  },
  {
   "cell_type": "code",
   "execution_count": 36,
   "metadata": {},
   "outputs": [
    {
     "name": "stdout",
     "output_type": "stream",
     "text": [
      "2\n",
      "3\n",
      "4\n",
      "5\n",
      "6\n",
      "7\n"
     ]
    }
   ],
   "source": [
    "#ontinue statement - we can stop the current iteration, and continue with the next\n",
    "\n",
    "y = 1\n",
    "\n",
    "while y < 7:\n",
    "    y += 1\n",
    "\n",
    "    if y < 2:\n",
    "        continue\n",
    "    print(y)"
   ]
  },
  {
   "cell_type": "code",
   "execution_count": 37,
   "metadata": {},
   "outputs": [
    {
     "name": "stdout",
     "output_type": "stream",
     "text": [
      "2\n",
      "3\n",
      "4\n",
      "5\n",
      "6\n",
      "7\n",
      "i is no longer less than 8\n"
     ]
    }
   ],
   "source": [
    "#else statement - run a block of code once when the condition no longer is true\n",
    "i = 2\n",
    "while i < 8:\n",
    "  print(i)\n",
    "  i += 1\n",
    "else:\n",
    "  print(\"i is no longer less than 8\")"
   ]
  },
  {
   "cell_type": "markdown",
   "metadata": {},
   "source": [
    "FOR LOOP"
   ]
  },
  {
   "cell_type": "code",
   "execution_count": 5,
   "metadata": {},
   "outputs": [
    {
     "name": "stdout",
     "output_type": "stream",
     "text": [
      "150\n",
      "260\n",
      "824\n",
      "462\n",
      "380\n"
     ]
    }
   ],
   "source": [
    "#For loop\n",
    "#A for loop is used for iterating over a sequence (that is either a list, a tuple, a dictionary, a set, or a string).\n",
    "\n",
    "#for loop- iterating list \n",
    "price = [150, 260, 824, 462, 380]\n",
    "\n",
    "for z in price:\n",
    "    print(z)"
   ]
  },
  {
   "cell_type": "code",
   "execution_count": 6,
   "metadata": {},
   "outputs": [
    {
     "name": "stdout",
     "output_type": "stream",
     "text": [
      "vegetables\n",
      "fruits\n",
      "snacks\n",
      "dairy\n",
      "nuts\n"
     ]
    }
   ],
   "source": [
    "#for loop- iterating tuple\n",
    "\n",
    "price_item = ('vegetables', 'fruits', 'snacks', 'dairy', 'nuts')\n",
    "for x in price_item:\n",
    "    print(x)"
   ]
  },
  {
   "cell_type": "code",
   "execution_count": 7,
   "metadata": {},
   "outputs": [
    {
     "name": "stdout",
     "output_type": "stream",
     "text": [
      "g\n",
      "e\n",
      "t\n",
      "o\n",
      "n\n",
      "l\n",
      "y\n",
      "w\n",
      "e\n",
      "e\n",
      "k\n",
      "l\n",
      "y\n",
      "g\n",
      "r\n",
      "o\n",
      "c\n",
      "e\n",
      "r\n",
      "y\n"
     ]
    }
   ],
   "source": [
    "#for loop- iterating over string\n",
    "\n",
    "tag = ('getonlyweeklygrocery')\n",
    "for y in tag:\n",
    "    print(y)"
   ]
  },
  {
   "cell_type": "code",
   "execution_count": 14,
   "metadata": {},
   "outputs": [
    {
     "name": "stdout",
     "output_type": "stream",
     "text": [
      "vegetables\n",
      "fruits\n",
      "snacks\n",
      "dairy\n"
     ]
    }
   ],
   "source": [
    "#break Statement  - we can stop the loop before it has looped through all the items\n",
    "\n",
    "#break after running for loop\n",
    "price_item = ('vegetables', 'fruits', 'snacks', 'dairy', 'nuts')\n",
    "\n",
    "for x in price_item:\n",
    "    print(x)\n",
    "\n",
    "    if x == 'dairy':\n",
    "        break\n",
    "\n"
   ]
  },
  {
   "cell_type": "code",
   "execution_count": 15,
   "metadata": {},
   "outputs": [
    {
     "name": "stdout",
     "output_type": "stream",
     "text": [
      "vegetables\n",
      "fruits\n",
      "snacks\n"
     ]
    }
   ],
   "source": [
    "#break before running for loop\n",
    "price_item = ('vegetables', 'fruits', 'snacks', 'dairy', 'nuts')\n",
    "\n",
    "for x in price_item:\n",
    "    if x == 'dairy':\n",
    "        break\n",
    "    print(x)\n"
   ]
  },
  {
   "cell_type": "code",
   "execution_count": 16,
   "metadata": {},
   "outputs": [
    {
     "name": "stdout",
     "output_type": "stream",
     "text": [
      "vegetables\n",
      "fruits\n",
      "snacks\n",
      "nuts\n"
     ]
    }
   ],
   "source": [
    "#the continue statement - we can stop the current iteration of the loop, and continue with the next\n",
    "\n",
    "for x in price_item:\n",
    "    if x == 'dairy':\n",
    "        continue\n",
    "    print(x)"
   ]
  },
  {
   "cell_type": "code",
   "execution_count": 20,
   "metadata": {},
   "outputs": [
    {
     "name": "stdout",
     "output_type": "stream",
     "text": [
      "1\n",
      "2\n",
      "3\n"
     ]
    }
   ],
   "source": [
    "#range() function defaults to 0 as a starting value -range(2, 6), which means values from 2 to 6 (but not including 6)\n",
    "\n",
    "price = [150, 260, 824, 462, 380]\n",
    "\n",
    "for y in range(1, 4):\n",
    "    print(y)"
   ]
  },
  {
   "cell_type": "code",
   "execution_count": 22,
   "metadata": {},
   "outputs": [
    {
     "name": "stdout",
     "output_type": "stream",
     "text": [
      "1\n",
      "3\n"
     ]
    }
   ],
   "source": [
    "# range() function -possible to specify the increment value by adding a third parameter: range(2, 30, 3)\n",
    "\n",
    "price = [150, 260, 824, 462, 380]\n",
    "for y in range(1, 4, 2):\n",
    "    print(y)"
   ]
  },
  {
   "cell_type": "code",
   "execution_count": 2,
   "metadata": {},
   "outputs": [
    {
     "name": "stdout",
     "output_type": "stream",
     "text": [
      "done\n",
      "done\n",
      "snacks\n",
      "done\n",
      "done\n"
     ]
    }
   ],
   "source": [
    "#Else in For Loop - specifies a block of code to be executed when the loop is finished\n",
    "price_item = ('vegetables', 'fruits', 'snacks', 'dairy', 'nuts')\n",
    "\n",
    "for z in price_item:\n",
    "    if z == 'snacks':\n",
    "        print(z)\n",
    "\n",
    "    else:\n",
    "        print('done')\n",
    "\n"
   ]
  },
  {
   "cell_type": "code",
   "execution_count": 9,
   "metadata": {},
   "outputs": [
    {
     "name": "stdout",
     "output_type": "stream",
     "text": [
      "vegetables\n"
     ]
    }
   ],
   "source": [
    "#Else in For Loop - specifies a block of code to be executed when the loop is finished\n",
    "\n",
    "#if u put break -else block will NOT be executed if the loop is stopped by a break statement\n",
    "price_item = ('vegetables', 'fruits', 'snacks', 'dairy', 'nuts')\n",
    "\n",
    "for z in price_item:\n",
    "    if z == 'fruits':  break\n",
    "    print(z)\n",
    "else:\n",
    "    print('done')\n"
   ]
  },
  {
   "cell_type": "code",
   "execution_count": 10,
   "metadata": {},
   "outputs": [
    {
     "name": "stdout",
     "output_type": "stream",
     "text": [
      "vegetables 150\n",
      "vegetables 260\n",
      "vegetables 824\n",
      "vegetables 462\n",
      "vegetables 380\n",
      "fruits 150\n",
      "fruits 260\n",
      "fruits 824\n",
      "fruits 462\n",
      "fruits 380\n",
      "snacks 150\n",
      "snacks 260\n",
      "snacks 824\n",
      "snacks 462\n",
      "snacks 380\n",
      "dairy 150\n",
      "dairy 260\n",
      "dairy 824\n",
      "dairy 462\n",
      "dairy 380\n",
      "nuts 150\n",
      "nuts 260\n",
      "nuts 824\n",
      "nuts 462\n",
      "nuts 380\n"
     ]
    }
   ],
   "source": [
    "#A nested loop is a loop inside a loop.\n",
    "\n",
    "#The \"inner loop\" will be executed one time for each iteration of the \"outer loop\"\n",
    "\n",
    "price_item = ('vegetables', 'fruits', 'snacks', 'dairy', 'nuts')\n",
    "price = [150, 260, 824, 462, 380]\n",
    "\n",
    "\n",
    "for x in price_item:\n",
    "    for z in price:\n",
    "        print(x, z)"
   ]
  },
  {
   "cell_type": "code",
   "execution_count": 11,
   "metadata": {},
   "outputs": [],
   "source": [
    "#The pass Statement -for loops cannot be empty, but if you for some reason have a for loop with no content, \n",
    "# put in the pass statement to avoid getting an error\n",
    "\n",
    "for z in [2, 4, 7]:\n",
    "    pass"
   ]
  }
 ],
 "metadata": {
  "kernelspec": {
   "display_name": "Python 3.9.13 64-bit (windows store)",
   "language": "python",
   "name": "python3"
  },
  "language_info": {
   "codemirror_mode": {
    "name": "ipython",
    "version": 3
   },
   "file_extension": ".py",
   "mimetype": "text/x-python",
   "name": "python",
   "nbconvert_exporter": "python",
   "pygments_lexer": "ipython3",
   "version": "3.9.13"
  },
  "orig_nbformat": 4,
  "vscode": {
   "interpreter": {
    "hash": "e3015545a62cf7af43c49f36d2431fa5eca450d48844f9ffa1df27d240099c8a"
   }
  }
 },
 "nbformat": 4,
 "nbformat_minor": 2
}
