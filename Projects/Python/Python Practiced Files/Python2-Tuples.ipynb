{
 "cells": [
  {
   "cell_type": "code",
   "execution_count": 1,
   "metadata": {},
   "outputs": [
    {
     "name": "stdout",
     "output_type": "stream",
     "text": [
      "()\n"
     ]
    }
   ],
   "source": [
    "#Python Data Structure - Tuple -1D - is immutable \n",
    "#empty tuple\n",
    "#tuples are represented with in soft brackets - also called parentheses\n",
    "\n",
    "State = ()\n",
    "print(State)\n"
   ]
  },
  {
   "cell_type": "code",
   "execution_count": 33,
   "metadata": {},
   "outputs": [
    {
     "name": "stdout",
     "output_type": "stream",
     "text": [
      "('newyork', 'california', 'arizona', 'vermont')\n"
     ]
    }
   ],
   "source": [
    "# tuple with string\n",
    "state = ('newyork', 'california', 'arizona', 'vermont')\n",
    "print(state)\n"
   ]
  },
  {
   "cell_type": "code",
   "execution_count": 35,
   "metadata": {},
   "outputs": [
    {
     "name": "stdout",
     "output_type": "stream",
     "text": [
      "['newyork', 'california', 'arizona', 'vermont']\n",
      "('newyork', 'california', 'arizona', 'vermont')\n"
     ]
    }
   ],
   "source": [
    "# Tuple with the use of list\n",
    "state = ['newyork', 'california', 'arizona', 'vermont']\n",
    "print(state)\n",
    "\n",
    "print(tuple(state))"
   ]
  },
  {
   "cell_type": "code",
   "execution_count": 36,
   "metadata": {},
   "outputs": [
    {
     "name": "stdout",
     "output_type": "stream",
     "text": [
      "('v', 'e', 'r', 'm', 'o', 'n', 't')\n"
     ]
    }
   ],
   "source": [
    "# tuple with the use of built-in function\n",
    "state = tuple('vermont')\n",
    "print(state)\n"
   ]
  },
  {
   "cell_type": "code",
   "execution_count": 3,
   "metadata": {},
   "outputs": [
    {
     "name": "stdout",
     "output_type": "stream",
     "text": [
      "(1, 2, 3, 4, 5)\n"
     ]
    },
    {
     "data": {
      "text/plain": [
       "tuple"
      ]
     },
     "execution_count": 3,
     "metadata": {},
     "output_type": "execute_result"
    }
   ],
   "source": [
    "#tuple with integers \n",
    "# type command in tuple \n",
    "ranking = (1, 2, 3, 4, 5)\n",
    "print(ranking)\n",
    "type(ranking)\n"
   ]
  },
  {
   "cell_type": "code",
   "execution_count": 4,
   "metadata": {},
   "outputs": [
    {
     "name": "stdout",
     "output_type": "stream",
     "text": [
      "('usa', 2, 'uk', 5, 'uae', 11.5)\n"
     ]
    }
   ],
   "source": [
    "#tuple with multiple datatypes \n",
    "place = ('usa', 2, 'uk', 5, 'uae', 11.5)\n",
    "print(place)\n"
   ]
  },
  {
   "cell_type": "code",
   "execution_count": 10,
   "metadata": {},
   "outputs": [
    {
     "name": "stdout",
     "output_type": "stream",
     "text": [
      "('usa', [2, 3, 5, 4], 'uk', (8, 11, 9))\n"
     ]
    },
    {
     "data": {
      "text/plain": [
       "4"
      ]
     },
     "execution_count": 10,
     "metadata": {},
     "output_type": "execute_result"
    }
   ],
   "source": [
    "#nested tuples \n",
    "place = (\"usa\", [2,3,5,4], 'uk', (8,11,9))\n",
    "print(place)\n",
    "\n",
    "place[1][3]"
   ]
  },
  {
   "cell_type": "code",
   "execution_count": 16,
   "metadata": {},
   "outputs": [
    {
     "name": "stdout",
     "output_type": "stream",
     "text": [
      "('america', 80, 5.6)\n"
     ]
    }
   ],
   "source": [
    "# tuple can be created without parentheses\n",
    "# also called tuple packing\n",
    "\n",
    "place = \"america\", 80, 5.6, \n",
    "print(place)\n"
   ]
  },
  {
   "cell_type": "code",
   "execution_count": 17,
   "metadata": {},
   "outputs": [
    {
     "name": "stdout",
     "output_type": "stream",
     "text": [
      "america\n",
      "80\n",
      "5.6\n"
     ]
    }
   ],
   "source": [
    "# tuple unpacking is also possible\n",
    "a, b, c = place \n",
    "print(a)\n",
    "print(b)\n",
    "print(c)\n"
   ]
  },
  {
   "cell_type": "code",
   "execution_count": 18,
   "metadata": {},
   "outputs": [
    {
     "name": "stdout",
     "output_type": "stream",
     "text": [
      "<class 'str'>\n"
     ]
    }
   ],
   "source": [
    "#type command - string in tuple\n",
    "place = (\"house\")\n",
    "print(type(place))\n"
   ]
  },
  {
   "cell_type": "code",
   "execution_count": 21,
   "metadata": {},
   "outputs": [
    {
     "name": "stdout",
     "output_type": "stream",
     "text": [
      "<class 'tuple'>\n",
      "<class 'tuple'>\n"
     ]
    }
   ],
   "source": [
    "#tuple with and without parentheses - need cama , - type \n",
    "place = (\"house\",)\n",
    "print(type(place))\n",
    "\n",
    "place = \"house\",\n",
    "print(type(place))"
   ]
  },
  {
   "cell_type": "code",
   "execution_count": 45,
   "metadata": {},
   "outputs": [
    {
     "name": "stdout",
     "output_type": "stream",
     "text": [
      "(('newyork', 'california', 'arizona', 'vermont', 'texas'), (1, 2, 3, 4, 5))\n"
     ]
    }
   ],
   "source": [
    "# Creating a Tuple with nested tuples \n",
    "state = ('newyork', 'california', 'arizona', 'vermont', 'texas')\n",
    "ranking = (1, 2, 3, 4, 5) \n",
    "\n",
    "state_ranks = (state, ranking)\n",
    "print(state_ranks)\n",
    "\n",
    "\n"
   ]
  },
  {
   "cell_type": "code",
   "execution_count": 23,
   "metadata": {},
   "outputs": [
    {
     "name": "stdout",
     "output_type": "stream",
     "text": [
      "cream\n",
      "5.2\n"
     ]
    }
   ],
   "source": [
    "#accecssing elements in tuple - index\n",
    "\n",
    "hcr = ('mango', 5, 'cream', 44, 5.2, 78, 'gift')\n",
    "print(hcr[2])\n",
    "\n",
    "print(hcr[4])\n",
    "\n"
   ]
  },
  {
   "cell_type": "code",
   "execution_count": 26,
   "metadata": {},
   "outputs": [
    {
     "name": "stdout",
     "output_type": "stream",
     "text": [
      "[2, 3, 5, 4]\n",
      "11\n",
      "([2, 3, 5, 4], 'uk')\n"
     ]
    }
   ],
   "source": [
    "#accessing element in nested tuple - index\n",
    "\n",
    "n_place = ('usa', [2, 3, 5, 4], 'uk', (8, 11, 9))\n",
    "\n",
    "print(n_place[1])\n",
    "print(n_place[3][1])\n",
    "print(n_place[1:3])\n"
   ]
  },
  {
   "cell_type": "code",
   "execution_count": 32,
   "metadata": {},
   "outputs": [
    {
     "ename": "NameError",
     "evalue": "name 'n_place' is not defined",
     "output_type": "error",
     "traceback": [
      "\u001b[1;31m---------------------------------------------------------------------------\u001b[0m",
      "\u001b[1;31mNameError\u001b[0m                                 Traceback (most recent call last)",
      "\u001b[1;32md:\\Desktop\\DS\\Python Practiced Files\\Mouni-Python2-Tuples.ipynb Cell 12'\u001b[0m in \u001b[0;36m<cell line: 5>\u001b[1;34m()\u001b[0m\n\u001b[0;32m      <a href='vscode-notebook-cell:/d%3A/Desktop/DS/Python%20Practiced%20Files/Mouni-Python2-Tuples.ipynb#ch0000011?line=1'>2</a>\u001b[0m n_place \u001b[39m=\u001b[39m (\u001b[39m'\u001b[39m\u001b[39musa\u001b[39m\u001b[39m'\u001b[39m, [\u001b[39m2\u001b[39m, \u001b[39m3\u001b[39m, \u001b[39m5\u001b[39m, \u001b[39m4\u001b[39m], \u001b[39m'\u001b[39m\u001b[39muk\u001b[39m\u001b[39m'\u001b[39m, (\u001b[39m8\u001b[39m, \u001b[39m11\u001b[39m, \u001b[39m9\u001b[39m))\n\u001b[0;32m      <a href='vscode-notebook-cell:/d%3A/Desktop/DS/Python%20Practiced%20Files/Mouni-Python2-Tuples.ipynb#ch0000011?line=3'>4</a>\u001b[0m \u001b[39mdel\u001b[39;00m n_place\n\u001b[1;32m----> <a href='vscode-notebook-cell:/d%3A/Desktop/DS/Python%20Practiced%20Files/Mouni-Python2-Tuples.ipynb#ch0000011?line=4'>5</a>\u001b[0m n_place\n",
      "\u001b[1;31mNameError\u001b[0m: name 'n_place' is not defined"
     ]
    }
   ],
   "source": [
    "#delete command\n",
    "n_place = ('usa', [2, 3, 5, 4], 'uk', (8, 11, 9))\n",
    "\n",
    "del n_place\n",
    "n_place\n"
   ]
  },
  {
   "cell_type": "code",
   "execution_count": 39,
   "metadata": {},
   "outputs": [
    {
     "name": "stdout",
     "output_type": "stream",
     "text": [
      "('maine', 'maine', 'maine', 'maine', 'maine')\n"
     ]
    }
   ],
   "source": [
    "#repitations command\n",
    "\n",
    "state_rep = ('maine',) * 5\n",
    "print(state_rep)\n"
   ]
  },
  {
   "cell_type": "code",
   "execution_count": 18,
   "metadata": {},
   "outputs": [
    {
     "name": "stdout",
     "output_type": "stream",
     "text": [
      "['newyork']\n",
      "['california']\n",
      "['arizona']\n",
      "['vermont']\n",
      "['texas']\n",
      "newyork\n",
      "california\n",
      "arizona\n",
      "vermont\n",
      "texas\n"
     ]
    }
   ],
   "source": [
    "# tuple with the use of loop\n",
    "\n",
    "state = ('newyork', 'california', 'arizona', 'vermont', 'texas')\n",
    "\n",
    "\n",
    "for x in (state):\n",
    "\n",
    "    print([x])\n",
    "   \n",
    "\n",
    "\n",
    "\n",
    "\n",
    "state = ('newyork', 'california', 'arizona', 'vermont', 'texas')\n",
    "\n",
    "\n",
    "for x in (state):\n",
    "\n",
    "    print(x)\n",
    "\n",
    "    \n"
   ]
  },
  {
   "cell_type": "code",
   "execution_count": 9,
   "metadata": {},
   "outputs": [
    {
     "name": "stdout",
     "output_type": "stream",
     "text": [
      "('newyork', 'california', 'arizona', 'vermont', 'texas')\n",
      "('newyork', 'california', 'arizona', 'vermont', 'texas')\n",
      "('newyork', 'california', 'arizona', 'vermont', 'texas')\n",
      "('newyork', 'california', 'arizona', 'vermont', 'texas')\n",
      "('newyork', 'california', 'arizona', 'vermont', 'texas')\n"
     ]
    }
   ],
   "source": [
    "#Loop Through the Index Numbers\n",
    "for x in range(len(state)):\n",
    "\n",
    "    print(state)"
   ]
  },
  {
   "cell_type": "code",
   "execution_count": 20,
   "metadata": {},
   "outputs": [
    {
     "name": "stdout",
     "output_type": "stream",
     "text": [
      "newyork\n",
      "california\n",
      "arizona\n",
      "vermont\n",
      "texas\n"
     ]
    },
    {
     "ename": "IndexError",
     "evalue": "tuple index out of range",
     "output_type": "error",
     "traceback": [
      "\u001b[1;31m---------------------------------------------------------------------------\u001b[0m",
      "\u001b[1;31mIndexError\u001b[0m                                Traceback (most recent call last)",
      "\u001b[1;32md:\\Desktop\\DS\\Python Practiced Files\\Mouni-Python2-Tuples.ipynb Cell 20'\u001b[0m in \u001b[0;36m<cell line: 6>\u001b[1;34m()\u001b[0m\n\u001b[0;32m      <a href='vscode-notebook-cell:/d%3A/Desktop/DS/Python%20Practiced%20Files/Mouni-Python2-Tuples.ipynb#ch0000019?line=3'>4</a>\u001b[0m z \u001b[39m=\u001b[39m \u001b[39m0\u001b[39m\n\u001b[0;32m      <a href='vscode-notebook-cell:/d%3A/Desktop/DS/Python%20Practiced%20Files/Mouni-Python2-Tuples.ipynb#ch0000019?line=5'>6</a>\u001b[0m \u001b[39mwhile\u001b[39;00m z \u001b[39m<\u001b[39m\u001b[39m=\u001b[39m \u001b[39mlen\u001b[39m(state):\n\u001b[1;32m----> <a href='vscode-notebook-cell:/d%3A/Desktop/DS/Python%20Practiced%20Files/Mouni-Python2-Tuples.ipynb#ch0000019?line=6'>7</a>\u001b[0m     \u001b[39mprint\u001b[39m(state[z])\n\u001b[0;32m      <a href='vscode-notebook-cell:/d%3A/Desktop/DS/Python%20Practiced%20Files/Mouni-Python2-Tuples.ipynb#ch0000019?line=7'>8</a>\u001b[0m     z \u001b[39m=\u001b[39m z\u001b[39m+\u001b[39m\u001b[39m1\u001b[39m\n",
      "\u001b[1;31mIndexError\u001b[0m: tuple index out of range"
     ]
    }
   ],
   "source": [
    "#tuple Using a While Loop\n",
    "state = ('newyork', 'california', 'arizona', 'vermont', 'texas')\n",
    "\n",
    "z = 0\n",
    "\n",
    "while z <= len(state):\n",
    "    print(state[z])\n",
    "    z = z + 1\n"
   ]
  },
  {
   "cell_type": "code",
   "execution_count": 23,
   "metadata": {},
   "outputs": [
    {
     "name": "stdout",
     "output_type": "stream",
     "text": [
      "2\n"
     ]
    }
   ],
   "source": [
    "#tuple using index command \n",
    "state = ('newyork', 'california', 'arizona', 'vermont', 'texas')\n",
    "\n",
    "print(state.index('arizona'))\n",
    "\n"
   ]
  },
  {
   "cell_type": "code",
   "execution_count": 28,
   "metadata": {},
   "outputs": [
    {
     "name": "stdout",
     "output_type": "stream",
     "text": [
      "1\n"
     ]
    }
   ],
   "source": [
    "#tuple using count command\n",
    "state = ('newyork', 'california', 'arizona', 'vermont', 'texas')\n",
    "\n",
    "print(state.count('texas'))\n"
   ]
  },
  {
   "cell_type": "code",
   "execution_count": 29,
   "metadata": {},
   "outputs": [
    {
     "ename": "TypeError",
     "evalue": "'tuple' object does not support item assignment",
     "output_type": "error",
     "traceback": [
      "\u001b[1;31m---------------------------------------------------------------------------\u001b[0m",
      "\u001b[1;31mTypeError\u001b[0m                                 Traceback (most recent call last)",
      "\u001b[1;32md:\\Desktop\\DS\\Python Practiced Files\\Mouni-Python2-Tuples.ipynb Cell 22'\u001b[0m in \u001b[0;36m<cell line: 5>\u001b[1;34m()\u001b[0m\n\u001b[0;32m      <a href='vscode-notebook-cell:/d%3A/Desktop/DS/Python%20Practiced%20Files/Mouni-Python2-Tuples.ipynb#ch0000024?line=2'>3</a>\u001b[0m place[\u001b[39m5\u001b[39m]\n\u001b[0;32m      <a href='vscode-notebook-cell:/d%3A/Desktop/DS/Python%20Practiced%20Files/Mouni-Python2-Tuples.ipynb#ch0000024?line=3'>4</a>\u001b[0m \u001b[39m20.4\u001b[39m\n\u001b[1;32m----> <a href='vscode-notebook-cell:/d%3A/Desktop/DS/Python%20Practiced%20Files/Mouni-Python2-Tuples.ipynb#ch0000024?line=4'>5</a>\u001b[0m place[\u001b[39m5\u001b[39m] \u001b[39m=\u001b[39m \u001b[39m20.4\u001b[39m \n\u001b[0;32m      <a href='vscode-notebook-cell:/d%3A/Desktop/DS/Python%20Practiced%20Files/Mouni-Python2-Tuples.ipynb#ch0000024?line=5'>6</a>\u001b[0m \u001b[39mprint\u001b[39m(place)\n",
      "\u001b[1;31mTypeError\u001b[0m: 'tuple' object does not support item assignment"
     ]
    }
   ],
   "source": [
    "#tuple element assigning to new value #is not mutable\n",
    "place = ('usa', 2, 'uk', 5, 'uae', 11.5)\n",
    "place[5]\n",
    "20.4\n",
    "place[5] = 20.4 \n",
    "print(place)"
   ]
  },
  {
   "cell_type": "code",
   "execution_count": 43,
   "metadata": {},
   "outputs": [
    {
     "name": "stdout",
     "output_type": "stream",
     "text": [
      "[5, 8, 7, 51]\n",
      "(5, 8, 7, '9')\n"
     ]
    }
   ],
   "source": [
    "#Change Tuple element Values - \n",
    "# You can convert the tuple into a list, change the list, and convert the list back into a tuple\n",
    " \n",
    "num_1 = (5, 8, 7, 51)\n",
    "num_2 = list(num_1)\n",
    "\n",
    "print(num_2)\n",
    "\n",
    "num_2[3] = '9'\n",
    "num_1 = tuple(num_2)\n",
    "print(num_1)\n"
   ]
  },
  {
   "cell_type": "code",
   "execution_count": 44,
   "metadata": {},
   "outputs": [
    {
     "name": "stdout",
     "output_type": "stream",
     "text": [
      "(5, 8, 7, 51, '12')\n"
     ]
    }
   ],
   "source": [
    "#append command\n",
    "num_1 = (5, 8, 7, 51)\n",
    "num_2 = list(num_1)\n",
    "num_2.append('12')\n",
    "\n",
    "num_1 = tuple(num_2)\n",
    "print(num_1)\n"
   ]
  },
  {
   "cell_type": "code",
   "execution_count": 46,
   "metadata": {},
   "outputs": [
    {
     "name": "stdout",
     "output_type": "stream",
     "text": [
      "('newyork', 'california', 'arizona', 'vermont', 'texas', 1, 2, 3, 4, 5)\n"
     ]
    }
   ],
   "source": [
    "#tuple - operators \n",
    "#joining tuples\n",
    "\n",
    "state = ('newyork', 'california', 'arizona', 'vermont', 'texas')\n",
    "ranking = (1, 2, 3, 4, 5)\n",
    "\n",
    "state_ranks = state + ranking \n",
    "print(state_ranks)\n",
    "\n"
   ]
  },
  {
   "cell_type": "code",
   "execution_count": 48,
   "metadata": {},
   "outputs": [
    {
     "name": "stdout",
     "output_type": "stream",
     "text": [
      "('newyork', 'california', 'arizona', 'vermont', 'texas', 'newyork', 'california', 'arizona', 'vermont', 'texas', 'newyork', 'california', 'arizona', 'vermont', 'texas')\n"
     ]
    }
   ],
   "source": [
    "#multiply tuples\n",
    "state = ('newyork', 'california', 'arizona', 'vermont', 'texas')\n",
    "mult = state * 3\n",
    "print(mult)"
   ]
  },
  {
   "cell_type": "code",
   "execution_count": 53,
   "metadata": {},
   "outputs": [
    {
     "name": "stdout",
     "output_type": "stream",
     "text": [
      "(5, 6, 9, 7, 10)\n",
      "1\n"
     ]
    }
   ],
   "source": [
    "#tuple max and min \n",
    "ranking = (1, 2, 3, 4, 5)\n",
    "ranking_1 = (5,6,9,7,10)\n",
    "maxi = max(ranking, ranking_1)\n",
    "print(maxi)\n",
    "mini = min(ranking)\n",
    "print(mini)"
   ]
  },
  {
   "cell_type": "code",
   "execution_count": 54,
   "metadata": {},
   "outputs": [
    {
     "name": "stdout",
     "output_type": "stream",
     "text": [
      "[5, 6, 7, 9, 10]\n"
     ]
    }
   ],
   "source": [
    "#tuple using sorted command \n",
    "ranking_1 = (5,6,9,7,10)\n",
    "\n",
    "print(sorted(ranking_1))"
   ]
  },
  {
   "cell_type": "code",
   "execution_count": 57,
   "metadata": {},
   "outputs": [
    {
     "name": "stdout",
     "output_type": "stream",
     "text": [
      "True\n",
      "False\n",
      "False\n"
     ]
    }
   ],
   "source": [
    "#any command \n",
    " #All elements of tuple are true\n",
    "ranking_1 = (5,6,9,7,10)\n",
    "print(any(ranking_1))\n",
    "\n",
    "# All elements of tuple are false\n",
    "t = (0, False, False)\n",
    "print(any(t))\n",
    "\n",
    "## Empty tuple\n",
    "t = ()\n",
    "print(any(t))"
   ]
  },
  {
   "cell_type": "code",
   "execution_count": null,
   "metadata": {},
   "outputs": [],
   "source": [
    "#Built-in-Method and functions in tuples explained above \n",
    "#index\n",
    "#count\n",
    "#min\n",
    "#max\n",
    "#sorted\n",
    "#len\n",
    "#del\n",
    "#for loop\n",
    "#while loop\n",
    "#any\n"
   ]
  }
 ],
 "metadata": {
  "kernelspec": {
   "display_name": "Python 3",
   "language": "python",
   "name": "python3"
  },
  "language_info": {
   "codemirror_mode": {
    "name": "ipython",
    "version": 3
   },
   "file_extension": ".py",
   "mimetype": "text/x-python",
   "name": "python",
   "nbconvert_exporter": "python",
   "pygments_lexer": "ipython3",
   "version": "3.10.10"
  },
  "orig_nbformat": 4,
  "vscode": {
   "interpreter": {
    "hash": "e62751c5fcd1ee3e0440a4bba1582241eb81f6e62a77bddad22b2bc120909240"
   }
  }
 },
 "nbformat": 4,
 "nbformat_minor": 2
}
