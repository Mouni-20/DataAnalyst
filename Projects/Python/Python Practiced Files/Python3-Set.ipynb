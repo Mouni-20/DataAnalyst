{
 "cells": [
  {
   "cell_type": "code",
   "execution_count": 1,
   "metadata": {},
   "outputs": [
    {
     "name": "stdout",
     "output_type": "stream",
     "text": [
      "{}\n"
     ]
    }
   ],
   "source": [
    "#Data science - Python - Set \n",
    "#set is data type but not a data type like other data types list, tuple and dictnary\n",
    "#A set is a collection which is unordered, unchangeable*, and unindexed. \n",
    "\n",
    "#empty set \n",
    "\n",
    "s = {}\n",
    "print(s)\n"
   ]
  },
  {
   "cell_type": "code",
   "execution_count": 21,
   "metadata": {},
   "outputs": [
    {
     "name": "stdout",
     "output_type": "stream",
     "text": [
      "{'milk', 'flour', 'eggs', 'butter', 'choclate'}\n"
     ]
    }
   ],
   "source": [
    "#creating a set \n",
    "#Sets are written with curly brackets{}.\n",
    "\n",
    "cake = {'milk', 'flour', 'eggs', 'choclate', 'butter',}\n",
    "print(cake)\n",
    "\n",
    " #Sets are unordered, so you cannot be sure in which order the items will appear."
   ]
  },
  {
   "cell_type": "code",
   "execution_count": 22,
   "metadata": {},
   "outputs": [
    {
     "name": "stdout",
     "output_type": "stream",
     "text": [
      "{'milk', 'flour', 'eggs', 'butter', 'choclate'}\n"
     ]
    }
   ],
   "source": [
    "#set - Sets cannot have two items (duplicate) with the same value.\n",
    "\n",
    "cake = {'milk', 'butter', 'flour', 'eggs', 'choclate', 'butter', 'eggs'}\n",
    "print(cake)"
   ]
  },
  {
   "cell_type": "code",
   "execution_count": 1,
   "metadata": {},
   "outputs": [
    {
     "name": "stdout",
     "output_type": "stream",
     "text": [
      "{1, 4, 5}\n",
      "{'t', 'b', 'l', 'h', 'a', ' ', 'e', 'k', 'c', 's'}\n"
     ]
    }
   ],
   "source": [
    "#set with list with numbers , string \n",
    "\n",
    "cake_1 = set([1, 4, 5])\n",
    "print(cake_1)\n",
    "\n",
    "cake_line = set(\"lets bake the cake\")\n",
    "print(cake_line)\n"
   ]
  },
  {
   "cell_type": "code",
   "execution_count": 29,
   "metadata": {},
   "outputs": [
    {
     "name": "stdout",
     "output_type": "stream",
     "text": [
      "{False, 1, 'milk', 4, 5, 'flour', 'eggs', 'butter', 'choclate'}\n"
     ]
    }
   ],
   "source": [
    "#set with differnt data types - String, int and boolean data types\n",
    "\n",
    "cake = {'milk', 1, 'butter', 4, 'flour', 1, 'eggs', 5, 'choclate', False}\n",
    "print(cake)\n"
   ]
  },
  {
   "cell_type": "code",
   "execution_count": 2,
   "metadata": {},
   "outputs": [
    {
     "name": "stdout",
     "output_type": "stream",
     "text": [
      "<class 'set'>\n"
     ]
    }
   ],
   "source": [
    "#set using type command\n",
    "cake = {'milk', 1, 'butter', 4, 'flour', 1, 'eggs', 5, 'choclate', False}\n",
    "print(type(cake))"
   ]
  },
  {
   "cell_type": "code",
   "execution_count": 5,
   "metadata": {},
   "outputs": [
    {
     "name": "stdout",
     "output_type": "stream",
     "text": [
      "{False, 'milk', 1, 4, 5, 'butter', 'choclate', 'flour', 'eggs'}\n",
      "9\n"
     ]
    }
   ],
   "source": [
    "#set using length command\n",
    "cake = {'milk', 1, 'butter', 4, 'flour', 1, 'eggs', 5, 'choclate', False}\n",
    "print(cake)\n",
    "\n",
    "print(len(cake))"
   ]
  },
  {
   "cell_type": "code",
   "execution_count": 7,
   "metadata": {},
   "outputs": [
    {
     "name": "stdout",
     "output_type": "stream",
     "text": [
      "{1, 4, 5, 6}\n"
     ]
    }
   ],
   "source": [
    "#set using - Adding Elements to a Set - add command - method\n",
    "\n",
    "cake_1 = {1, 4, 5}\n",
    "cake_1.add(6)\n",
    "print(cake_1)\n"
   ]
  },
  {
   "cell_type": "code",
   "execution_count": 8,
   "metadata": {},
   "outputs": [
    {
     "name": "stdout",
     "output_type": "stream",
     "text": [
      "{'milk', 1, 'eggs', 'flour', 4, 5, 'butter', 'choclate'}\n"
     ]
    }
   ],
   "source": [
    "#sets with - add items from another set into the current set, \n",
    "# using - update() method\n",
    "\n",
    "cake = {'milk', 'flour', 'eggs', 'choclate', 'butter',}\n",
    "cake_1 = {1, 4, 5}\n",
    "cake.update(cake_1)\n",
    "print(cake)\n"
   ]
  },
  {
   "cell_type": "code",
   "execution_count": 12,
   "metadata": {},
   "outputs": [
    {
     "name": "stdout",
     "output_type": "stream",
     "text": [
      "{'milk', 'eggs', 'flour', 'butter', 'vanilaextract', 'oil', 'cocopowder', 'choclate'}\n",
      "{1, 2, 3, 4, 6, 'cocopowder', 'flour', 'milk', 'butter', 'choclate', 'oil', 'vanilaextract', 'eggs'}\n",
      "{'t', 1, 2, 3, 4, 6, 'r', 'cocopowder', 'i', 'flour', 'e', 's', 'milk', 'l', 'h', 'butter', 'choclate', 'oil', 'a', 'vanilaextract', 'p', 'n', 'u', 'eggs', 'w', 'k'}\n"
     ]
    }
   ],
   "source": [
    "#sets using update() method \n",
    "# Add Any Iterable -it can be any iterable object -tuples, lists, dictionaries etc.\n",
    "\n",
    "cake = {'milk', 'flour', 'eggs', 'choclate', 'butter',}\n",
    "update_cake = ['oil', 'vanilaextract', 'cocopowder',]\n",
    "liq_qua = (2, 4, 6, 1, 3)\n",
    "\n",
    "cake.update(update_cake)\n",
    "print(cake)\n",
    "\n",
    "cake.update(liq_qua)\n",
    "print(cake)\n",
    "\n",
    "cake.update('pan', 'spatula', 'whisker')\n",
    "print(cake)"
   ]
  },
  {
   "cell_type": "code",
   "execution_count": 14,
   "metadata": {},
   "outputs": [
    {
     "name": "stdout",
     "output_type": "stream",
     "text": [
      "milk\n",
      "eggs\n",
      "flour\n",
      "butter\n",
      "choclate\n"
     ]
    }
   ],
   "source": [
    "#Accessing a Set - doesn't work with index methond in set\n",
    "#can do loop through the set - using a for loop, or ask if a specified value is present in a set, by using the in keyword.\n",
    "\n",
    "#set - for loop\n",
    "\n",
    "cake = {'milk', 'flour', 'eggs', 'choclate', 'butter',}\n",
    "\n",
    "for c in cake:\n",
    "    print(c)"
   ]
  },
  {
   "cell_type": "code",
   "execution_count": 15,
   "metadata": {},
   "outputs": [
    {
     "name": "stdout",
     "output_type": "stream",
     "text": [
      "True\n"
     ]
    }
   ],
   "source": [
    "# set -in command - Check if value/element is present in the set or not\n",
    "\n",
    "cake = {'milk', 'flour', 'eggs', 'choclate', 'butter',} \n",
    "\n",
    "print('eggs' in cake)\n"
   ]
  },
  {
   "cell_type": "code",
   "execution_count": 19,
   "metadata": {},
   "outputs": [
    {
     "name": "stdout",
     "output_type": "stream",
     "text": [
      "{2, 3, 4, 'milk', 6, 'butter', 'choclate', 'oil', 'cocopowder', 'vanilaextract', 'flour', 'eggs'}\n"
     ]
    }
   ],
   "source": [
    "#Removing elements from the Set\n",
    "\n",
    "#sets - remove method \n",
    "cake = {1, 2, 3, 4, 6, 'cocopowder', 'flour', 'milk', 'butter', 'choclate', 'oil', 'vanilaextract', 'eggs'}\n",
    "cake.remove(1)\n",
    "\n",
    "print(cake)"
   ]
  },
  {
   "cell_type": "code",
   "execution_count": 20,
   "metadata": {},
   "outputs": [
    {
     "name": "stdout",
     "output_type": "stream",
     "text": [
      "{'milk', 2, 3, 4, 6, 'butter', 'choclate', 'oil', 'vanilaextract', 'flour', 'eggs'}\n"
     ]
    }
   ],
   "source": [
    "#Removing elements from the Set\n",
    "#set using discard() method\n",
    "\n",
    "cake = {2, 3, 4, 'milk', 6, 'butter', 'choclate', 'oil', 'cocopowder', 'vanilaextract', 'flour', 'eggs'}\n",
    "cake.discard('cocopowder')\n",
    "print(cake)"
   ]
  },
  {
   "cell_type": "code",
   "execution_count": 27,
   "metadata": {},
   "outputs": [
    {
     "name": "stdout",
     "output_type": "stream",
     "text": [
      "{2, 3, 4, 6, 'butter', 'choclate', 'oil', 'vanilaextract', 'flour', 'eggs'}\n"
     ]
    }
   ],
   "source": [
    "#Sets are unordered, so when using the - \n",
    "#pop() method, you do not know which item that gets removed.\n",
    "\n",
    "cake = {'milk', 2, 3, 4, 6, 'butter', 'choclate', 'oil', 'vanilaextract', 'flour', 'eggs'}\n",
    "cake.pop()\n",
    "print(cake)\n"
   ]
  },
  {
   "cell_type": "code",
   "execution_count": 29,
   "metadata": {},
   "outputs": [
    {
     "name": "stdout",
     "output_type": "stream",
     "text": [
      "set()\n"
     ]
    }
   ],
   "source": [
    "#set using - clear method\n",
    "cake.clear()\n",
    "print(cake)\n"
   ]
  },
  {
   "cell_type": "code",
   "execution_count": 31,
   "metadata": {},
   "outputs": [
    {
     "ename": "NameError",
     "evalue": "name 'cake' is not defined",
     "output_type": "error",
     "traceback": [
      "\u001b[1;31m---------------------------------------------------------------------------\u001b[0m",
      "\u001b[1;31mNameError\u001b[0m                                 Traceback (most recent call last)",
      "\u001b[1;32md:\\Desktop\\DS\\Python Practiced Files\\Mouni-python3-Set.ipynb Cell 17'\u001b[0m in \u001b[0;36m<cell line: 3>\u001b[1;34m()\u001b[0m\n\u001b[0;32m      <a href='vscode-notebook-cell:/d%3A/Desktop/DS/Python%20Practiced%20Files/Mouni-python3-Set.ipynb#ch0000018?line=0'>1</a>\u001b[0m \u001b[39m#delete method - completly vanishes\u001b[39;00m\n\u001b[0;32m      <a href='vscode-notebook-cell:/d%3A/Desktop/DS/Python%20Practiced%20Files/Mouni-python3-Set.ipynb#ch0000018?line=1'>2</a>\u001b[0m \u001b[39mdel\u001b[39;00m cake\n\u001b[1;32m----> <a href='vscode-notebook-cell:/d%3A/Desktop/DS/Python%20Practiced%20Files/Mouni-python3-Set.ipynb#ch0000018?line=2'>3</a>\u001b[0m \u001b[39mprint\u001b[39m(cake)\n",
      "\u001b[1;31mNameError\u001b[0m: name 'cake' is not defined"
     ]
    }
   ],
   "source": [
    "#delete method - completly vanishes\n",
    "del cake\n",
    "print(cake)"
   ]
  },
  {
   "cell_type": "code",
   "execution_count": 32,
   "metadata": {},
   "outputs": [
    {
     "name": "stdout",
     "output_type": "stream",
     "text": [
      "{1, 2, 3, 4, 5, 6}\n"
     ]
    }
   ],
   "source": [
    "#Join Two Sets\n",
    "#union method \n",
    "\n",
    "cake_1 = {1, 4, 5}\n",
    "liq_qua = {2, 4, 6, 1, 3}\n",
    "\n",
    "cl = cake_1.union(liq_qua)\n",
    "print(cl)\n",
    "\n"
   ]
  },
  {
   "cell_type": "code",
   "execution_count": 33,
   "metadata": {},
   "outputs": [
    {
     "name": "stdout",
     "output_type": "stream",
     "text": [
      "{5}\n"
     ]
    }
   ],
   "source": [
    "#difference method\n",
    "cake_1 = {1, 4, 5}\n",
    "liq_qua = {2, 4, 6, 1, 3}\n",
    "\n",
    "cl = cake_1.difference(liq_qua)\n",
    "print(cl)"
   ]
  },
  {
   "cell_type": "code",
   "execution_count": 36,
   "metadata": {},
   "outputs": [
    {
     "name": "stdout",
     "output_type": "stream",
     "text": [
      "{5}\n"
     ]
    }
   ],
   "source": [
    "#difference update method - Removes all elements of another set from this set\n",
    "\n",
    "cake_1 = {1, 4, 5}\n",
    "liq_qua = {2, 4, 6, 1, 3}\n",
    "\n",
    "cake_1.difference_update(liq_qua)\n",
    "print(cake_1) "
   ]
  },
  {
   "cell_type": "code",
   "execution_count": 37,
   "metadata": {},
   "outputs": [
    {
     "name": "stdout",
     "output_type": "stream",
     "text": [
      "{1, 2, 3, 4, 6}\n"
     ]
    }
   ],
   "source": [
    "#copy method\n",
    "cake_1 = {1, 4, 5}\n",
    "liq_qua = {2, 4, 6, 1, 3}\n",
    "\n",
    "cake_1 = liq_qua.copy()\n",
    "print(cake_1)"
   ]
  },
  {
   "cell_type": "code",
   "execution_count": null,
   "metadata": {},
   "outputs": [],
   "source": [
    "# sets - functions \n",
    "#add\n",
    "#remove\n",
    "#clear\n",
    "#delete\n",
    "#update\n",
    "#union\n",
    "#difference\n",
    "#pop\n",
    "#discard\n",
    "#for loop\n",
    "#difference.update"
   ]
  }
 ],
 "metadata": {
  "interpreter": {
   "hash": "e3015545a62cf7af43c49f36d2431fa5eca450d48844f9ffa1df27d240099c8a"
  },
  "kernelspec": {
   "display_name": "Python 3.9.13 64-bit (windows store)",
   "language": "python",
   "name": "python3"
  },
  "language_info": {
   "codemirror_mode": {
    "name": "ipython",
    "version": 3
   },
   "file_extension": ".py",
   "mimetype": "text/x-python",
   "name": "python",
   "nbconvert_exporter": "python",
   "pygments_lexer": "ipython3",
   "version": "3.9.13"
  },
  "orig_nbformat": 4
 },
 "nbformat": 4,
 "nbformat_minor": 2
}
