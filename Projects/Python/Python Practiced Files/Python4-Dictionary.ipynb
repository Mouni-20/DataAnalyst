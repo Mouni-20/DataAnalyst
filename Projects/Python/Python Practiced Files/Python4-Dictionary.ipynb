{
 "cells": [
  {
   "cell_type": "code",
   "execution_count": 1,
   "metadata": {},
   "outputs": [
    {
     "name": "stdout",
     "output_type": "stream",
     "text": [
      "{}\n"
     ]
    }
   ],
   "source": [
    "#Dictionaries are used to store data values in key:value pairs.\n",
    "#A dictionary is a collection which is ordered*, changeable and do not allow duplicates.\n",
    "\n",
    "#Dictionaries are written with curly brackets, and have keys and values:\n",
    "\n",
    "#Empty dictionary\n",
    "\n",
    "icecream = {}\n",
    "print(icecream)\n"
   ]
  },
  {
   "cell_type": "code",
   "execution_count": 2,
   "metadata": {},
   "outputs": [
    {
     "name": "stdout",
     "output_type": "stream",
     "text": [
      "{2: 'mango', 5: 'vanilla', 3: 'berry', 4: 'dryfruit'}\n"
     ]
    }
   ],
   "source": [
    "# dictionaary with Integer Keys\n",
    "\n",
    "icecream = {2: 'mango', 5: 'vanilla', 3: 'berry', 4: 'dryfruit'}\n",
    "print(icecream)\n"
   ]
  },
  {
   "cell_type": "code",
   "execution_count": 11,
   "metadata": {},
   "outputs": [
    {
     "name": "stdout",
     "output_type": "stream",
     "text": [
      "{'fla': 'peach', 2: [5, 4, 8]}\n"
     ]
    }
   ],
   "source": [
    "# Dictionary with Mixed keys\n",
    "\n",
    "cream = {'fla': 'peach', 2: [5,4,8] }\n",
    "\n",
    "print(cream)"
   ]
  },
  {
   "cell_type": "code",
   "execution_count": 21,
   "metadata": {},
   "outputs": [
    {
     "name": "stdout",
     "output_type": "stream",
     "text": [
      "{}\n",
      "{'datascience': 'subject', 6: 'months', 8: 'hours', 'every': 'day'}\n"
     ]
    }
   ],
   "source": [
    "#Creating a Dictionary with dict() method\n",
    "\n",
    "print(dict())\n",
    "\n",
    "course = dict({'datascience': 'subject', 6: 'months', 8: 'hours', 'every': 'day'})\n",
    "\n",
    "print(course)\n"
   ]
  },
  {
   "cell_type": "code",
   "execution_count": 47,
   "metadata": {},
   "outputs": [
    {
     "name": "stdout",
     "output_type": "stream",
     "text": [
      "{'datascience': 'subject', 6: 'months', 8: 'hours', 'every': 'day'}\n"
     ]
    }
   ],
   "source": [
    "#Creating a Dictionary with dict() method - in pairs\n",
    "course = dict([('datascience', 'subject'), (6, 'months'), (8, 'hours'), ('every', 'day')])\n",
    "print(course)\n"
   ]
  },
  {
   "cell_type": "code",
   "execution_count": 41,
   "metadata": {},
   "outputs": [
    {
     "name": "stdout",
     "output_type": "stream",
     "text": [
      "{'i': 'have', 'some': 'here', 'are': {2: 'mango', 5: 'vanilla', 3: 'berry', 4: 'dryfruit'}}\n"
     ]
    }
   ],
   "source": [
    "#Nested Dictionary \n",
    "icecream_1 = {'i': 'have','some': 'here', 'are': {2: 'mango', 5: 'vanilla', 3: 'berry', 4: 'dryfruit'}}\n",
    "print(icecream_1)"
   ]
  },
  {
   "cell_type": "code",
   "execution_count": 44,
   "metadata": {},
   "outputs": [
    {
     "name": "stdout",
     "output_type": "stream",
     "text": [
      "{'fla': 'orange', 2: [5, 4, 8]}\n"
     ]
    }
   ],
   "source": [
    "#Dictionaries cannot have two items with the same key - no duplicate\n",
    "\n",
    "cream = {'fla': 'peach', 2: [5,4,8], 'fla': 'orange' }\n",
    "print(cream)"
   ]
  },
  {
   "cell_type": "code",
   "execution_count": 45,
   "metadata": {},
   "outputs": [
    {
     "name": "stdout",
     "output_type": "stream",
     "text": [
      "3\n"
     ]
    }
   ],
   "source": [
    "#dictionary use -len() function\n",
    "icecream_1 = {'i': 'have','some': 'here', 'are': {2: 'mango', 5: 'vanilla', 3: 'berry', 4: 'dryfruit'}}\n",
    "print(len(icecream_1))"
   ]
  },
  {
   "cell_type": "code",
   "execution_count": 46,
   "metadata": {},
   "outputs": [
    {
     "name": "stdout",
     "output_type": "stream",
     "text": [
      "<class 'dict'>\n"
     ]
    }
   ],
   "source": [
    "#dictionary data types - String, int, boolean, and list data types\n",
    "#dictionary use type() - outputs type is <dict>\n",
    "\n",
    "icecream_1 = {'i': 'have','some': 'here', 'are': {2: 'mango', 5: 'vanilla', 3: 'berry', 4: 'dryfruit'}}\n",
    "print(type(icecream_1))"
   ]
  },
  {
   "cell_type": "code",
   "execution_count": 48,
   "metadata": {},
   "outputs": [
    {
     "name": "stdout",
     "output_type": "stream",
     "text": [
      "day\n",
      "months\n"
     ]
    }
   ],
   "source": [
    "# Dictionary - Accessing element - using key element\n",
    "\n",
    "course = {'datascience': 'subject', 6: 'months', 8: 'hours', 'every': 'day'}\n",
    "\n",
    "#output value\n",
    "print(course['every'])\n",
    "\n",
    "#output key\n",
    "print(course[6])"
   ]
  },
  {
   "cell_type": "code",
   "execution_count": 49,
   "metadata": {},
   "outputs": [
    {
     "name": "stdout",
     "output_type": "stream",
     "text": [
      "subject\n"
     ]
    }
   ],
   "source": [
    "# Dictionary - Accessing element  - usinf get()\n",
    "\n",
    "course = {'datascience': 'subject', 6: 'months', 8: 'hours', 'every': 'day'}\n",
    "\n",
    "print(course.get('datascience'))\n"
   ]
  },
  {
   "cell_type": "code",
   "execution_count": 50,
   "metadata": {},
   "outputs": [
    {
     "name": "stdout",
     "output_type": "stream",
     "text": [
      "dict_keys(['datascience', 6, 8, 'every'])\n"
     ]
    }
   ],
   "source": [
    "# Dictionary - Accessing element - access all key elements\n",
    "\n",
    "print(course.keys())"
   ]
  },
  {
   "cell_type": "code",
   "execution_count": 52,
   "metadata": {},
   "outputs": [
    {
     "name": "stdout",
     "output_type": "stream",
     "text": [
      "dict_keys(['datascience', 6, 8, 'every', 'subject1'])\n",
      "{'datascience': 'subject', 6: 'months', 8: 'hours', 'every': 'day', 'subject1': 'maths'}\n"
     ]
    }
   ],
   "source": [
    "#Dictionary - Accessing element- add keys using keys() \n",
    "\n",
    "course_1 = course.keys()\n",
    "\n",
    "course['subject1'] = 'maths' \n",
    "\n",
    "print(course_1)\n",
    "print(course)"
   ]
  },
  {
   "cell_type": "code",
   "execution_count": 53,
   "metadata": {},
   "outputs": [
    {
     "name": "stdout",
     "output_type": "stream",
     "text": [
      "{'datascience': 'subject', 6: 'months', 8: 'hours', 'every': 'day', 'subject1': 'computing'}\n"
     ]
    }
   ],
   "source": [
    "#Dictionary - Change Values \n",
    "#You can change the value of a specific item by referring to its key name \n",
    "\n",
    "course_1 = {'datascience': 'subject', 6: 'months', 8: 'hours', 'every': 'day', 'subject1': 'maths'} \n",
    "\n",
    "course_1['subject1'] = 'computing'\n",
    "\n",
    "print(course_1)\n"
   ]
  },
  {
   "cell_type": "code",
   "execution_count": 55,
   "metadata": {},
   "outputs": [
    {
     "name": "stdout",
     "output_type": "stream",
     "text": [
      "{'datascience': 'subject', 6: 'months', 8: 'hours', 'every': 'day', 'subject1': 'machinelearning'}\n"
     ]
    }
   ],
   "source": [
    "#Dictionary - Change Values  - update() method \n",
    "\n",
    "course_1 = {'datascience': 'subject', 6: 'months', 8: 'hours', 'every': 'day', 'subject1': 'computing'} \n",
    "course_1.update({'subject1': 'machinelearning'})\n",
    "\n",
    "print(course_1)"
   ]
  },
  {
   "cell_type": "code",
   "execution_count": 56,
   "metadata": {},
   "outputs": [
    {
     "name": "stdout",
     "output_type": "stream",
     "text": [
      "{'datascience': 'subject', 6: 'months', 8: 'hours', 'every': 'day', 'subject1': 'machinelearning', 'subject2': 'maths'}\n"
     ]
    }
   ],
   "source": [
    "#Dictionary - Adding Items \n",
    "#Adding an item to the dictionary is done by using a new index key and assigning a value to it\n",
    "\n",
    "course_1 = {'datascience': 'subject', 6: 'months', 8: 'hours', 'every': 'day', 'subject1': 'machinelearning'}\n",
    "\n",
    "course_1['subject2'] = 'maths'\n",
    "\n",
    "print(course_1)\n"
   ]
  },
  {
   "cell_type": "code",
   "execution_count": 58,
   "metadata": {},
   "outputs": [
    {
     "name": "stdout",
     "output_type": "stream",
     "text": [
      "{'datascience': 'subject', 6: 'months', 8: 'hours', 'every': 'day', 'subject1': 'machinelearning', 'subject2': 'maths', 'subject3': 'computing'}\n"
     ]
    }
   ],
   "source": [
    "##Dictionary - Adding Items  - using update()\n",
    "\n",
    "course_1 = {'datascience': 'subject', 6: 'months', 8: 'hours', 'every': 'day', 'subject1': 'machinelearning', 'subject2': 'maths'}\n",
    "\n",
    "course_1.update({'subject3' : 'computing'})\n",
    "\n",
    "print(course_1)\n"
   ]
  },
  {
   "cell_type": "code",
   "execution_count": 59,
   "metadata": {},
   "outputs": [
    {
     "name": "stdout",
     "output_type": "stream",
     "text": [
      "{'datascience': 'subject', 6: 'months', 8: 'hours', 'every': 'day', 'subject1': 'machinelearning', 'subject2': 'maths'}\n"
     ]
    }
   ],
   "source": [
    "#Removing Items \n",
    "#pop() method removes the item with the specified key name\n",
    "\n",
    "course_1 = {'datascience': 'subject', 6: 'months', 8: 'hours', 'every': 'day', 'subject1': 'machinelearning', 'subject2': 'maths', 'subject3': 'computing'} \n",
    "\n",
    "course_1.pop('subject3')\n",
    "\n",
    "print(course_1)"
   ]
  },
  {
   "cell_type": "code",
   "execution_count": 60,
   "metadata": {},
   "outputs": [
    {
     "name": "stdout",
     "output_type": "stream",
     "text": [
      "{'datascience': 'subject', 6: 'months', 8: 'hours', 'every': 'day', 'subject1': 'machinelearning'}\n"
     ]
    }
   ],
   "source": [
    "#Removing Items \n",
    "#The del keyword removes the item with the specified key name  & also the whole dictionary\n",
    "\n",
    "course_1 = {'datascience': 'subject', 6: 'months', 8: 'hours', 'every': 'day', 'subject1': 'machinelearning', 'subject2': 'maths'}\n",
    "\n",
    "del course_1['subject2']\n",
    "\n",
    "print(course_1)"
   ]
  },
  {
   "cell_type": "code",
   "execution_count": 61,
   "metadata": {},
   "outputs": [
    {
     "name": "stdout",
     "output_type": "stream",
     "text": [
      "None\n"
     ]
    }
   ],
   "source": [
    "#removing items\n",
    "#The clear() method empties the dictionary\n",
    "\n",
    "course_1 = {'datascience': 'subject', 6: 'months', 8: 'hours', 'every': 'day', 'subject1': 'machinelearning'}\n",
    "\n",
    "print(course_1.clear())"
   ]
  },
  {
   "cell_type": "code",
   "execution_count": 63,
   "metadata": {},
   "outputs": [
    {
     "name": "stdout",
     "output_type": "stream",
     "text": [
      "2\n",
      "5\n",
      "3\n",
      "4\n"
     ]
    }
   ],
   "source": [
    "#loop in dictionary\n",
    "#for loop - print all key names in the dictionary, one by one\n",
    "\n",
    "icecream = {2: 'mango', 5: 'vanilla', 3: 'berry', 4: 'dryfruit'}\n",
    "\n",
    "for y in icecream:\n",
    "    print(y)"
   ]
  },
  {
   "cell_type": "code",
   "execution_count": 64,
   "metadata": {},
   "outputs": [
    {
     "name": "stdout",
     "output_type": "stream",
     "text": [
      "mango\n",
      "vanilla\n",
      "berry\n",
      "dryfruit\n"
     ]
    }
   ],
   "source": [
    "#loop in dictionary\n",
    "#for loop - Print all values in the dictionary, one by one\n",
    "\n",
    "icecream = {2: 'mango', 5: 'vanilla', 3: 'berry', 4: 'dryfruit'}\n",
    "\n",
    "for y in icecream:\n",
    "    print(icecream[y])"
   ]
  },
  {
   "cell_type": "code",
   "execution_count": 67,
   "metadata": {},
   "outputs": [
    {
     "name": "stdout",
     "output_type": "stream",
     "text": [
      "2 mango\n",
      "5 vanilla\n",
      "3 berry\n",
      "4 dryfruit\n"
     ]
    }
   ],
   "source": [
    "# for - Loop through both keys and values, by using the items() method\n",
    "\n",
    "icecream = {2: 'mango', 5: 'vanilla', 3: 'berry', 4: 'dryfruit'}\n",
    "\n",
    "for x, y in icecream.items():\n",
    "  print(x, y)\n",
    "\n"
   ]
  },
  {
   "cell_type": "code",
   "execution_count": 69,
   "metadata": {},
   "outputs": [
    {
     "name": "stdout",
     "output_type": "stream",
     "text": [
      "2\n",
      "5\n",
      "3\n",
      "4\n",
      "mango\n",
      "vanilla\n",
      "berry\n",
      "dryfruit\n"
     ]
    }
   ],
   "source": [
    "# use keys()  method to return the keys and values() method to return values of a dictionary \n",
    "\n",
    "icecream = {2: 'mango', 5: 'vanilla', 3: 'berry', 4: 'dryfruit'}\n",
    "\n",
    "for x in icecream.keys():\n",
    "    print(x)\n",
    "\n",
    "for y in icecream.values():\n",
    "    print(y)"
   ]
  },
  {
   "cell_type": "code",
   "execution_count": 70,
   "metadata": {},
   "outputs": [
    {
     "name": "stdout",
     "output_type": "stream",
     "text": [
      "{2: 'mango', 5: 'vanilla', 3: 'berry', 4: 'dryfruit'}\n"
     ]
    }
   ],
   "source": [
    "#copy() method \n",
    "\n",
    "icecream = {2: 'mango', 5: 'vanilla', 3: 'berry', 4: 'dryfruit'}\n",
    "\n",
    "ic = icecream.copy()\n",
    "\n",
    "print(ic)"
   ]
  },
  {
   "cell_type": "code",
   "execution_count": null,
   "metadata": {},
   "outputs": [],
   "source": [
    "#dictionary methods / functionsv \n",
    "\n",
    "#clear\n",
    "#copy\n",
    "#fromkeys\n",
    "#keys\t\n",
    "#pop()\t\n",
    "#del()\n",
    "#update()\t\n",
    "#values()\n",
    "#for loop\n"
   ]
  }
 ],
 "metadata": {
  "kernelspec": {
   "display_name": "Python 3",
   "language": "python",
   "name": "python3"
  },
  "language_info": {
   "codemirror_mode": {
    "name": "ipython",
    "version": 3
   },
   "file_extension": ".py",
   "mimetype": "text/x-python",
   "name": "python",
   "nbconvert_exporter": "python",
   "pygments_lexer": "ipython3",
   "version": "3.10.10"
  },
  "orig_nbformat": 4,
  "vscode": {
   "interpreter": {
    "hash": "e62751c5fcd1ee3e0440a4bba1582241eb81f6e62a77bddad22b2bc120909240"
   }
  }
 },
 "nbformat": 4,
 "nbformat_minor": 2
}
