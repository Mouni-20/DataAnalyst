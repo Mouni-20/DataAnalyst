{
 "cells": [
  {
   "cell_type": "markdown",
   "metadata": {},
   "source": [
    "Polymorphism\n",
    "The word polymorphism means having many forms. In programming, polymorphism means the same function name (but different signatures) being used for different types"
   ]
  },
  {
   "cell_type": "code",
   "execution_count": 2,
   "metadata": {},
   "outputs": [
    {
     "name": "stdout",
     "output_type": "stream",
     "text": [
      "7\n",
      "4\n"
     ]
    }
   ],
   "source": [
    "#Poltmorphism-  in - built polymorphic functions\n",
    "#example function length\n",
    "\n",
    "print(len('amazing'))\n",
    "print(len((10,2,5,4)))"
   ]
  },
  {
   "cell_type": "code",
   "execution_count": 5,
   "metadata": {},
   "outputs": [
    {
     "name": "stdout",
     "output_type": "stream",
     "text": [
      "15\n",
      "50\n"
     ]
    }
   ],
   "source": [
    "#polymorphism - user defined polymorphic functions\n",
    "# add , sub \n",
    "\n",
    "def add(a,b,c):\n",
    "    return a+b+c \n",
    "\n",
    "print(add(4,5,6))\n",
    "print(add(20,0,30))"
   ]
  },
  {
   "cell_type": "markdown",
   "metadata": {},
   "source": [
    "The below code shows how Python can use two different class types, in the same way. We create a for loop that iterates through a tuple of objects. Then call the methods without being concerned about which class type each object is. We assume that these methods actually exist in each class"
   ]
  },
  {
   "cell_type": "code",
   "execution_count": 2,
   "metadata": {},
   "outputs": [
    {
     "name": "stdout",
     "output_type": "stream",
     "text": [
      "Name : laxmi\n",
      "Class:  9\n",
      "Grade:  8.5\n",
      "Name : Ben\n",
      "Class:  9\n",
      "Grade:  8\n"
     ]
    }
   ],
   "source": [
    "#polymorphism - class method functions\n",
    "\n",
    "#Creating Student details list\n",
    "\n",
    "class Fperson:\n",
    "    def name(self):\n",
    "        print('Name :', input('enter Female name: '))\n",
    "    def classis(self):\n",
    "        print( 'Class: ',  input('enter class: '))\n",
    "    def grade(self):\n",
    "        print('Grade: ', input('enter Grade: '))\n",
    "\n",
    "class Mperson:\n",
    "    def name(self):\n",
    "        print('Name :', input('enter male name: '))\n",
    "    def classis(self):\n",
    "        print( 'Class: ',  input('enter class: '))\n",
    "    def grade(self):\n",
    "        print('Grade: ', input('enter Grade: '))\n",
    "\n",
    "P1 = Fperson()\n",
    "P2 = Mperson()\n",
    "\n",
    "for student in (P1, P2):\n",
    "    student.name()\n",
    "    student.classis()\n",
    "    student.grade()        \n",
    "    "
   ]
  },
  {
   "cell_type": "markdown",
   "metadata": {},
   "source": [
    "In Python, Polymorphism lets us define methods in the child class that have the same name as the methods in the parent class. In inheritance, the child class inherits the methods from the parent class. However, it is possible to modify a method in a child class that it has inherited from the parent class. This is particularly useful in cases where the method inherited from the parent class doesn’t quite fit the child class. In such cases, we re-implement the method in the child class. This process of re-implementing a method in the child class is known as Method Overriding."
   ]
  },
  {
   "cell_type": "code",
   "execution_count": 1,
   "metadata": {},
   "outputs": [
    {
     "name": "stdout",
     "output_type": "stream",
     "text": [
      "Top 3 Most Popular Luxury Car Brands in the WORLD\n",
      "None\n",
      "Brand : BMW (Bayerische Motoren Werke)\n",
      "Country Origin : Germeny\n",
      "World Rank : One\n",
      "Type : SUVs, Sedans , Coupes, Convertibles\n",
      "Price : BMW cars prices range from $32,000.00 to $4 million\n",
      "Brand : Mercedes-Benz\n",
      "Country Origin : Germeny\n",
      "World Rank : second\n",
      "Type : SUVs, Sedans & Wagons, Coupes,Convertibles & Roadsters,Electric\n",
      "Price : Mercedes cars prices range from $42,000.00 to $145 million\n",
      "Brand : Audi\n",
      "Country Origin : Germeny\n",
      "World Rank : Third\n",
      "Type : SUVs, Sedans, Coupes, cabriolet,sportback\n",
      "Price : Audi cars prices range from $40,000.00 to $3 million\n"
     ]
    }
   ],
   "source": [
    "#Listing out luxury car brand features\n",
    "class tittle:\n",
    "    def headline(self):\n",
    "        print('Top 3 Most Popular Luxury Car Brands in the WORLD')\n",
    "\n",
    "class BMW:\n",
    "    def name(self):\n",
    "        print('Brand : BMW (Bayerische Motoren Werke)')\n",
    "    def Country(self):\n",
    "        print('Country Origin : Germeny')\n",
    "    def Rank(self):\n",
    "        print('World Rank : One')\n",
    "    def Type(self):\n",
    "        print('Type : SUVs, Sedans , Coupes, Convertibles')\n",
    "    def carprice(self):\n",
    "        print('Price : BMW cars prices range from $32,000.00 to $4 million')\n",
    "\n",
    "\n",
    "class mercedesbenz:\n",
    "    def name(self):\n",
    "        print('Brand : Mercedes-Benz')\n",
    "    def Country(self):\n",
    "        print('Country Origin : Germeny')\n",
    "    def Rank(self):\n",
    "        print('World Rank : second')\n",
    "    def Type(self):\n",
    "        print('Type : SUVs, Sedans & Wagons, Coupes,Convertibles & Roadsters,Electric')\n",
    "    def carprice(self):\n",
    "        print('Price : Mercedes cars prices range from $42,000.00 to $145 million')\n",
    "\n",
    "\n",
    "class Audi:\n",
    "    def name(self):\n",
    "        print('Brand : Audi')\n",
    "    def Country(self):\n",
    "        print('Country Origin : Germeny')\n",
    "    def Rank(self):\n",
    "        print('World Rank : Third')\n",
    "    def Type(self):\n",
    "        print('Type : SUVs, Sedans, Coupes, cabriolet,sportback')\n",
    "    def carprice(self):\n",
    "        print('Price : Audi cars prices range from $40,000.00 to $3 million')\n",
    "    \n",
    "T = tittle()\n",
    "B = BMW()\n",
    "M = mercedesbenz()\n",
    "A = Audi()\n",
    "\n",
    "print(T.headline())\n",
    "\n",
    "for Luxury in (B, M, A):\n",
    "    Luxury.name()\n",
    "    Luxury.Country()\n",
    "    Luxury.Rank()\n",
    "    Luxury.Type()\n",
    "    Luxury.carprice()\n",
    "    \n",
    "\n"
   ]
  },
  {
   "cell_type": "code",
   "execution_count": 14,
   "metadata": {},
   "outputs": [
    {
     "name": "stdout",
     "output_type": "stream",
     "text": [
      "List of few Living Things on Earth and its examples \n",
      "Living Thing Type : Humans\n",
      "None\n",
      "Food : plant meat water Airo O2\n",
      " MaxAge: 105 Years\n",
      " Species: 1\n",
      "None\n",
      "Living Thing Type : Plants/Tree\n",
      "None\n",
      "Food: Air Co2 water Minerals\n",
      " MaxAge: 3500-4000 years\n",
      " Species: 391000\n",
      "None\n",
      "Living Thing Type : Animals\n",
      "None\n",
      "Food: plants water air O2 insects blood fruits dead and decayed organisms\n",
      " MaxAge: 500 years\n",
      " Species: 9-10 million\n",
      "None\n"
     ]
    }
   ],
   "source": [
    "#List of living thing and charateristics \n",
    "\n",
    "class LivingThings:\n",
    "    def Introduction(self):\n",
    "        print('List of few Living Things on Earth and its examples ')\n",
    "\n",
    "\n",
    "class Humans:\n",
    "    def __init__(self,Food,MaxAge,Species):\n",
    "        self.Food = Food \n",
    "        self.MaxAge = MaxAge \n",
    "        self.Species = Species\n",
    "        \n",
    "\n",
    "    def Type(self):\n",
    "        self.LivingThings = LivingThings()\n",
    "        self.LivingThings.Introduction()\n",
    "        print('Living Thing Type : Humans')\n",
    "\n",
    "    def hunambrief(self):\n",
    "        print(f'Food : {self.Food}\\n MaxAge: {self.MaxAge}\\n Species: {self.Species}')\n",
    "\n",
    "class PlantsTrees:\n",
    "    def __init__(self,Food,MaxAge,Species):\n",
    "        self.Food = Food\n",
    "        self.MaxAge = MaxAge \n",
    "        self.Species = Species\n",
    "\n",
    "    def Type(self):\n",
    "        print('Living Thing Type : Plants/Tree')\n",
    "\n",
    "    def Plantsbrief(self):\n",
    "        print(f'Food: {self.Food}\\n MaxAge: {self.MaxAge}\\n Species: {self.Species}')\n",
    "\n",
    "class Animals:\n",
    "    def __init__(self,Food,MaxAge,Species):\n",
    "        self.Food = Food\n",
    "        self.MaxAge = MaxAge \n",
    "        self.Species = Species\n",
    "        \n",
    "    def Type(self):\n",
    "        print('Living Thing Type : Animals')\n",
    "\n",
    "    def Animalsbrief(self):\n",
    "        print(f'Food: {self.Food}\\n MaxAge: {self.MaxAge}\\n Species: {self.Species}')\n",
    "\n",
    "class Birds:\n",
    "    def __init__(self,Food,MaxAge,Species):\n",
    "        self.Food = Food\n",
    "        self.MaxAge = MaxAge \n",
    "        self.Species = Species\n",
    "\n",
    "    def Type(self):\n",
    "        print('Living Thing Type : Birds')\n",
    "\n",
    "    def Birdsbrief(self):\n",
    "        print(f'Food: {self.Food}\\n MaxAge: {self.MaxAge}\\n Species: {self.Species}')\n",
    "\n",
    "\n",
    "\n",
    "H = Humans('plant meat water Airo O2', '105 Years', 1 )\n",
    "PT = PlantsTrees('Air Co2 water Minerals' , '3500-4000 years', 391000 )\n",
    "A = Animals('plants water air O2 insects blood fruits dead and decayed organisms', '500 years', '9-10 million' )\n",
    "\n",
    "print(H.Type())\n",
    "print(H.hunambrief())\n",
    "\n",
    "print(PT.Type())\n",
    "print(PT.Plantsbrief())\n",
    "\n",
    "print(A.Type())\n",
    "print(A.Animalsbrief())\n",
    "\n",
    "\n",
    "\n",
    "\n",
    "\n",
    "\n",
    "    "
   ]
  },
  {
   "cell_type": "markdown",
   "metadata": {},
   "source": [
    "Polymorphism with Inheritance: \n",
    "\n",
    "In Python, Polymorphism lets us define methods in the child class that have the same name as the methods in the parent class. \n",
    "In inheritance, the child class inherits the methods from the parent class. \n",
    "\n",
    "However, it is possible to modify a method in a child class that it has inherited from the parent class. \n",
    "\n",
    "This is particularly useful in cases where the method inherited from the parent class doesn’t quite fit the child class.\n",
    "\n",
    " In such cases, we re-implement the method in the child class. This process of re-implementing a method in the child class is known as Method Overriding"
   ]
  },
  {
   "cell_type": "markdown",
   "metadata": {},
   "source": [
    "Single inheritence"
   ]
  },
  {
   "cell_type": "code",
   "execution_count": 17,
   "metadata": {},
   "outputs": [],
   "source": [
    "#Polymorphism - Inheritance\n",
    "\n",
    "class oddn:\n",
    "    def oddnum(self):\n",
    "        print('odd numbers : 1,3,5,7,9,11,13........∞ ')\n",
    "    def odd(self):\n",
    "        print('any number divided by 2 not equal to 0 is odd number')"
   ]
  },
  {
   "cell_type": "code",
   "execution_count": 20,
   "metadata": {},
   "outputs": [
    {
     "name": "stdout",
     "output_type": "stream",
     "text": [
      "any number divided by 2 equal to 0 is Even number\n"
     ]
    }
   ],
   "source": [
    "class Evenn(oddn):\n",
    "\n",
    "    def Evennum(self):\n",
    "        print('Even numbers : 2,4,6,8,10,12,14,........∞ ')\n",
    "    def Even(self):\n",
    "        print('any number divided by 2 equal to 0 is Even number')\n",
    "\n",
    "Nu2 = Evenn()\n",
    "Nu2.Even()\n"
   ]
  },
  {
   "cell_type": "markdown",
   "metadata": {},
   "source": [
    "Multilevel Inheritance "
   ]
  },
  {
   "cell_type": "code",
   "execution_count": 3,
   "metadata": {},
   "outputs": [
    {
     "name": "stdout",
     "output_type": "stream",
     "text": [
      "National Bird of India is Peacock\n"
     ]
    }
   ],
   "source": [
    "class india:\n",
    "    def ind_C(self):\n",
    "        print('Capital of INDIA is NEW DELHI')\n",
    "\n",
    "class india1(india):\n",
    "    def ind_A(self):\n",
    "        print('National Animal of India is Tiger')\n",
    "\n",
    "class india2(india1):\n",
    "    def ind_B(self):\n",
    "        print('National Bird of India is Peacock')\n",
    "       \n",
    "class india3(india2):\n",
    "    def ind_F(self):\n",
    "        print('National Flower of India is Lotus')\n",
    "\n",
    "\n",
    "say = india3()\n",
    "say.ind_B()\n"
   ]
  },
  {
   "cell_type": "code",
   "execution_count": 29,
   "metadata": {},
   "outputs": [
    {
     "name": "stdout",
     "output_type": "stream",
     "text": [
      "Human life cycle has Seven main stages\n",
      "First stage of Human Life Cycle is called FOETUS\n",
      "Second stage of Human Life Cycle is called Baby\n",
      "Third stage of Human Life Cycle is called Child\n",
      "Fourth stage of Human Life Cycle is called Adolescent\n",
      "Fifth stage of Human Life Cycle is called YoungAdulthood\n",
      "Sixth stage of Human Life Cycle is called MiddleAdulthood\n",
      "Seventh stage of Human Life Cycle is called Elders\n",
      "Final stage of Human Life Cycle is called Awosome\n",
      "Person aged between 10 and 19 is called Adolescent. As Age is 15 you are a Adolescent\n"
     ]
    }
   ],
   "source": [
    "#Human life cycle\n",
    "\n",
    "class HumanLifecycle:\n",
    "    def __init__(self,Age):\n",
    "        self.age = Age \n",
    "        super().__init__()\n",
    "        print('Human life cycle has Seven main stages')\n",
    "\n",
    "class Stage1(HumanLifecycle):\n",
    "    def __init__(self,Age):\n",
    "        super().__init__(Age)\n",
    "        print('First stage of Human Life Cycle is called FOETUS')\n",
    "        \n",
    "    def stg1(self):\n",
    " \n",
    "        if self.age <= 0.9 :\n",
    "            print('All people start off life as a FOETUS in their mothers belly. As Age is ', self.age , ' you are a FOETUS')\n",
    "        else:\n",
    "            print('you are not a foetus the stage1 in Human Life Cycle.')\n",
    "\n",
    "class Stage2(Stage1):\n",
    "    def __init__(self,Age):\n",
    "        super().__init__(Age)\n",
    "\n",
    "        print('Second stage of Human Life Cycle is called Baby')\n",
    "        \n",
    "    def stg2(self):\n",
    "        \n",
    "        if self.age >= 0.9 and self.age <= 2 :\n",
    "            print('From birth to around two years of age, we say a child is a baby. As Age is', self.age ,'you are a Baby')\n",
    "        else:\n",
    "            print('you are not a Baby the stage2 in Human Life Cycle.')\n",
    "\n",
    "\n",
    "class Stage3(Stage2):\n",
    "    def __init__(self,Age):\n",
    "        super().__init__(Age)\n",
    "\n",
    "        print('Third stage of Human Life Cycle is called Child')\n",
    "        \n",
    "    def stg3(self):\n",
    "        \n",
    "        if self.age >= 3 and self.age <= 10 :\n",
    "            print('From three years old to ten years old, is called child. As Age is', self.age ,'you are a Child')\n",
    "        else:\n",
    "            print('you are not a Child the stage3 in Human Life Cycle.')\n",
    "\n",
    "class Stage4(Stage3):\n",
    "    def __init__(self,Age):\n",
    "        super().__init__(Age)\n",
    "\n",
    "        print('Fourth stage of Human Life Cycle is called Adolescent')\n",
    "        \n",
    "    def stg4(self):\n",
    "        \n",
    "        if self.age > 10 and self.age <= 19 :\n",
    "            print('Person aged between 10 and 19 is called Adolescent. As Age is', self.age ,'you are a Adolescent')\n",
    "        else:\n",
    "            print('you are not a Adolescent the stage4 in Human Life Cycle.')\n",
    "\n",
    "class Stage5(Stage4):\n",
    "    def __init__(self,Age):\n",
    "        super().__init__(Age)\n",
    "\n",
    "        print('Fifth stage of Human Life Cycle is called YoungAdulthood')\n",
    "        \n",
    "    def stg5(self):\n",
    "        \n",
    "        if self.age > 19 and self.age <= 40 :\n",
    "            print('people aged between 20 and 40 are called young adults. As Age is', self.age ,'you are an YoungAdult')\n",
    "        else:\n",
    "            print('you are not a YoungAdult the stage5 in Human Life Cycle.')\n",
    "\n",
    "class Stage6(Stage5):\n",
    "    def __init__(self,Age):\n",
    "        super().__init__(Age)\n",
    "\n",
    "        print('Sixth stage of Human Life Cycle is called MiddleAdulthood')\n",
    "        \n",
    "    def stg6(self):\n",
    "        \n",
    "        if self.age > 40 and self.age <= 65 :\n",
    "            print('people aged between 40 and 65 are called Middle adults. As Age is', self.age ,'you are an MiddleAdult')\n",
    "        else:\n",
    "            print('you are not a Middle Adult the stage6 in Human Life Cycle.')\n",
    "\n",
    "class Stage7(Stage6):\n",
    "    def __init__(self,Age):\n",
    "        super().__init__(Age)\n",
    "\n",
    "        print('Seventh stage of Human Life Cycle is called Elders')\n",
    "        \n",
    "    def stg7(self):\n",
    "        \n",
    "        if self.age > 65 and self.age <= 100 :\n",
    "            print('people aged between 65 and 100 are called Elders. As Age is', self.age ,'you are an Elder')\n",
    "        else:\n",
    "            print('you are not a Elder the stage7 in Human Life Cycle.')\n",
    "\n",
    "class Stage8(Stage7):\n",
    "    def __init__(self,Age):\n",
    "        super().__init__(Age)\n",
    "\n",
    "        print('Final stage of Human Life Cycle is called Awosome')\n",
    "        \n",
    "    def stg6(self):\n",
    "        \n",
    "        if self.age > 100  :\n",
    "            print('people aged Above are called Legends. As Age is', self.age ,'you are an Legend')\n",
    "        else:\n",
    "            print('you are not a Legend the stage8 in Human Life Cycle.')\n",
    "\n",
    "\n",
    "\n",
    "\n",
    "\n",
    "\n",
    "\n",
    "#please use number in object attributes for age\n",
    "\n",
    "person1 = Stage8(15)\n",
    "\n",
    "person1.stg4()\n",
    "\n",
    "        "
   ]
  },
  {
   "cell_type": "markdown",
   "metadata": {},
   "source": [
    "Hierarchical Inheritance"
   ]
  },
  {
   "cell_type": "code",
   "execution_count": 3,
   "metadata": {},
   "outputs": [
    {
     "name": "stdout",
     "output_type": "stream",
     "text": [
      "Our planetary system is called the solar system and have 9 planets around sun\n",
      "Mercury—the smallest planet in our solar system and closest to the Sun\n"
     ]
    }
   ],
   "source": [
    "class planetarysystem:\n",
    "\n",
    "    def system(self):\n",
    "        print('Our planetary system is called the solar system and have 9 planets around sun')\n",
    "\n",
    "class planet1(planetarysystem):\n",
    "    def planet1intro(self):\n",
    "        print('Mercury—the smallest planet in our solar system and closest to the Sun')\n",
    "\n",
    "class planet2(planetarysystem):\n",
    "    def planet2intro(self):\n",
    "        print('Venus the hottest planet in our solar system is the second planet from the Sun')\n",
    "\n",
    "class planet3(planetarysystem):\n",
    "    def planet3intro(self):\n",
    "        print('Earth the only planet in our solar system with liquid water on the surface,is the third planet from the Sun ')\n",
    "\n",
    "class planet4(planetarysystem):\n",
    "    def planet4intro(self):\n",
    "        print('​Mars is the fourth planet from the Sun a dusty, cold, desert world with a very thin atmosphere')\n",
    "\n",
    "class planet5(planetarysystem):\n",
    "    def planet5intro(self):\n",
    "        print('Jupiter is, by far the largest planet in the solar system, Fifth in line from the Sun')\n",
    "\n",
    "class planet6(planetarysystem):\n",
    "    def planet6intro(self):\n",
    "        print('Saturn is the sixth planet from the Sun and the second-largest planet in our solar system')\n",
    "\n",
    "class planet7(planetarysystem):\n",
    "    def planet7intro(self):\n",
    "        print('Uranus—seventh planet from the Sun and has the third-largest diameter in our solar system')\n",
    "\n",
    "class planet8(planetarysystem):\n",
    "    def planet8intro(self):\n",
    "        print('Neptune—the eighth and most distant major planet orbiting our Sun')\n",
    "\n",
    "class planet9(planetarysystem):\n",
    "    def planet9intro(self):\n",
    "        print(' Pluto is the largest member of the Kuiper Belt and the best known of a new class of worlds called dwarf planets')\n",
    "\n",
    "\n",
    "getplanet1 = planet1()\n",
    "getplanet1.system()\n",
    "getplanet1.planet1intro()\n",
    "\n"
   ]
  },
  {
   "cell_type": "markdown",
   "metadata": {},
   "source": [
    "Multiple Inheriteance"
   ]
  },
  {
   "cell_type": "code",
   "execution_count": 1,
   "metadata": {},
   "outputs": [
    {
     "name": "stdout",
     "output_type": "stream",
     "text": [
      "Few employee details are given below\n",
      "Name:Mery\n",
      " Tittle:Project Manager\n",
      " Salary: $130,000.00\n",
      "Name:Champ\n",
      " Tittle:Data Analyst\n",
      " Salary: $100,000.00\n",
      "Name:Sameera\n",
      " Tittle:Business Analyst\n",
      " Salary: $110,000.00\n"
     ]
    }
   ],
   "source": [
    "class employe1:\n",
    "    def mery(self):\n",
    "        print('Name:Mery\\n', 'Tittle:Project Manager\\n', 'Salary: $130,000.00')\n",
    "\n",
    "class employe2:\n",
    "    def Champ(self):\n",
    "        print('Name:Champ\\n', 'Tittle:Data Analyst\\n', 'Salary: $100,000.00')\n",
    "\n",
    "class employe3:\n",
    "    def Sameera(self):\n",
    "        print('Name:Sameera\\n', 'Tittle:Business Analyst\\n', 'Salary: $110,000.00')\n",
    "\n",
    "class list(employe1, employe2, employe3):\n",
    "    print('Few employee details are given below')\n",
    "\n",
    "l1 = list()\n",
    "l1.mery()\n",
    "l1.Champ()\n",
    "l1.Sameera()\n",
    "\n"
   ]
  },
  {
   "cell_type": "code",
   "execution_count": null,
   "metadata": {},
   "outputs": [],
   "source": []
  }
 ],
 "metadata": {
  "kernelspec": {
   "display_name": "Python 3.9.13 64-bit (windows store)",
   "language": "python",
   "name": "python3"
  },
  "language_info": {
   "codemirror_mode": {
    "name": "ipython",
    "version": 3
   },
   "file_extension": ".py",
   "mimetype": "text/x-python",
   "name": "python",
   "nbconvert_exporter": "python",
   "pygments_lexer": "ipython3",
   "version": "3.9.13"
  },
  "orig_nbformat": 4,
  "vscode": {
   "interpreter": {
    "hash": "e3015545a62cf7af43c49f36d2431fa5eca450d48844f9ffa1df27d240099c8a"
   }
  }
 },
 "nbformat": 4,
 "nbformat_minor": 2
}
