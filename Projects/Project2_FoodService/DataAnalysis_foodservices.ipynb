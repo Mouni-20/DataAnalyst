{
 "cells": [
  {
   "attachments": {},
   "cell_type": "markdown",
   "metadata": {},
   "source": [
    "-DATA CLEANING ON FOOD SERVICES Datafile\n",
    "\n",
    "-Import required libraries"
   ]
  },
  {
   "cell_type": "code",
   "execution_count": 47,
   "metadata": {},
   "outputs": [],
   "source": [
    "import pandas as pd\n",
    "import numpy as np\n",
    "import seaborn as sns"
   ]
  },
  {
   "cell_type": "code",
   "execution_count": 48,
   "metadata": {},
   "outputs": [
    {
     "name": "stdout",
     "output_type": "stream",
     "text": [
      "C:\\Users\\mouna\n"
     ]
    }
   ],
   "source": [
    "cd"
   ]
  },
  {
   "attachments": {},
   "cell_type": "markdown",
   "metadata": {},
   "source": [
    "-Import dataset file - here given is Multi tab Excel file , so while importing used sheet name = none"
   ]
  },
  {
   "cell_type": "code",
   "execution_count": 49,
   "metadata": {},
   "outputs": [],
   "source": [
    "fs = pd.read_excel('C:\\DataS\\excel files\\Worksheet in C  DataS Nov Batch Course Files Food_services.xlsx', sheet_name=None)"
   ]
  },
  {
   "cell_type": "code",
   "execution_count": 50,
   "metadata": {},
   "outputs": [
    {
     "data": {
      "text/plain": [
       "dict"
      ]
     },
     "execution_count": 50,
     "metadata": {},
     "output_type": "execute_result"
    }
   ],
   "source": [
    "type(fs)"
   ]
  },
  {
   "attachments": {},
   "cell_type": "markdown",
   "metadata": {},
   "source": [
    "-Create dataframe for each tab, i.e,\n",
    "fs1 = Restaurant Spends and Share\n",
    "fs2 = non comercial\n",
    "fs3= Retail Stores"
   ]
  },
  {
   "cell_type": "code",
   "execution_count": 51,
   "metadata": {},
   "outputs": [
    {
     "name": "stdout",
     "output_type": "stream",
     "text": [
      "<class 'pandas.core.frame.DataFrame'>\n",
      "RangeIndex: 1000 entries, 0 to 999\n",
      "Data columns (total 25 columns):\n",
      " #   Column                                 Non-Null Count  Dtype  \n",
      "---  ------                                 --------------  -----  \n",
      " 0   NAME                                   1000 non-null   object \n",
      " 1   CITY                                   1000 non-null   object \n",
      " 2   STATE                                  1000 non-null   object \n",
      " 3   ZIP                                    1000 non-null   int64  \n",
      " 4   ZIP_PLUS4                              962 non-null    float64\n",
      " 5   COUNTY_CODE                            999 non-null    float64\n",
      " 6   COUNTY_NAME                            999 non-null    object \n",
      " 7   MSA                                    826 non-null    float64\n",
      " 8   MARKET_SEGMENT                         1000 non-null   object \n",
      " 9   SIMPLIFIED_MENU                        1000 non-null   object \n",
      " 10  MENU_TYPE                              1000 non-null   object \n",
      " 11  UNITS                                  1000 non-null   object \n",
      " 12  EMPLOYEES                              1000 non-null   object \n",
      " 13  YEARS_IN_BUSINESS                      1000 non-null   object \n",
      " 14  ANNUAL_SALES                           1000 non-null   object \n",
      " 15  AVERAGE_CHECK                          1000 non-null   object \n",
      " 16  NUMBER_OF_ROOMS                        1000 non-null   object \n",
      " 17  FOOD_BEVERAGE_PURCHASE                 889 non-null    float64\n",
      " 18  FOOD_PURCHASE                          889 non-null    float64\n",
      " 19  BEVERAGE_PURCHASE                      889 non-null    float64\n",
      " 20  TOTAL_CATEGORY_DRY                     889 non-null    float64\n",
      " 21  TOTAL_CATEGORY_FRESH                   889 non-null    float64\n",
      " 22  TOTAL_CATEGORY_FROZEN                  889 non-null    float64\n",
      " 23  TOTAL_CATEGORY_PROTEIN                 889 non-null    float64\n",
      " 24  % Share of F&B Purchases from Company  889 non-null    float64\n",
      "dtypes: float64(11), int64(1), object(13)\n",
      "memory usage: 195.4+ KB\n"
     ]
    }
   ],
   "source": [
    "fs1 = fs['Restaurant Spends and Share']\n",
    "fs1.info()"
   ]
  },
  {
   "cell_type": "code",
   "execution_count": 52,
   "metadata": {},
   "outputs": [
    {
     "name": "stdout",
     "output_type": "stream",
     "text": [
      "<class 'pandas.core.frame.DataFrame'>\n",
      "RangeIndex: 1000 entries, 0 to 999\n",
      "Data columns (total 21 columns):\n",
      " #   Column                         Non-Null Count  Dtype  \n",
      "---  ------                         --------------  -----  \n",
      " 0   NAME                           1000 non-null   object \n",
      " 1   ADDRESS                        1000 non-null   object \n",
      " 2   CITY                           1000 non-null   object \n",
      " 3   STATE                          1000 non-null   object \n",
      " 4   ZIP                            1000 non-null   int64  \n",
      " 5   ZIP_PLUS4                      996 non-null    float64\n",
      " 6   COUNTY_CODE                    1000 non-null   int64  \n",
      " 7   COUNTY_NAME                    1000 non-null   object \n",
      " 8   MSA                            972 non-null    float64\n",
      " 9   MARKET_SEGMENT                 1000 non-null   object \n",
      " 10  EMPLOYEES_NON_COMMERCIAL       1000 non-null   object \n",
      " 11  ENROLLMENT_RANGE               1000 non-null   object \n",
      " 12  CAPACITY_BEDS_RANGE            1000 non-null   object \n",
      " 13  NUMBER_OF_SCHOOLS_RANGE        1000 non-null   object \n",
      " 14  OPERATION_TYPE                 1000 non-null   object \n",
      " 15  OWNERSHIP_TYPE                 1000 non-null   object \n",
      " 16  NUMBER_OF_MEALS_PER_DAY_RANGE  1000 non-null   object \n",
      " 17  AVERAGE_DAILY_CENSUS           255 non-null    float64\n",
      " 18  PRIMARY_GPO                    92 non-null     object \n",
      " 19  SECONDARY_GPO                  23 non-null     object \n",
      " 20  TOTAL_PATIENT_DAYS             27 non-null     object \n",
      "dtypes: float64(3), int64(2), object(16)\n",
      "memory usage: 164.2+ KB\n"
     ]
    }
   ],
   "source": [
    "fs2 = fs['Non Commercial']\n",
    "fs2.info()"
   ]
  },
  {
   "cell_type": "code",
   "execution_count": 53,
   "metadata": {},
   "outputs": [
    {
     "name": "stdout",
     "output_type": "stream",
     "text": [
      "<class 'pandas.core.frame.DataFrame'>\n",
      "RangeIndex: 1001 entries, 0 to 1000\n",
      "Data columns (total 13 columns):\n",
      " #   Column             Non-Null Count  Dtype  \n",
      "---  ------             --------------  -----  \n",
      " 0   NAME               1001 non-null   object \n",
      " 1   CITY               1001 non-null   object \n",
      " 2   STATE              1001 non-null   object \n",
      " 3   ZIP                1001 non-null   int64  \n",
      " 4   ZIP_PLUS4          909 non-null    float64\n",
      " 5   COUNTY_CODE        974 non-null    float64\n",
      " 6   COUNTY_NAME        974 non-null    object \n",
      " 7   MSA                386 non-null    float64\n",
      " 8   market_segment2    1001 non-null   object \n",
      " 9   units              1001 non-null   object \n",
      " 10  EMPLOYEES          1001 non-null   object \n",
      " 11  years_in_business  1001 non-null   object \n",
      " 12  annual_sales       1001 non-null   object \n",
      "dtypes: float64(3), int64(1), object(9)\n",
      "memory usage: 101.8+ KB\n"
     ]
    }
   ],
   "source": [
    "fs3 = fs['Retail Stores']\n",
    "fs3.info()"
   ]
  },
  {
   "attachments": {},
   "cell_type": "markdown",
   "metadata": {},
   "source": [
    "-check imported dataset file has any null/missing values \n",
    "-Check any presence of errors, duplicate values \n",
    "-check data type assigned in proper order"
   ]
  },
  {
   "attachments": {},
   "cell_type": "markdown",
   "metadata": {},
   "source": [
    "-Lets do above steps through each data frame assigned"
   ]
  },
  {
   "cell_type": "code",
   "execution_count": 54,
   "metadata": {},
   "outputs": [
    {
     "data": {
      "text/plain": [
       "(1000, 25)"
      ]
     },
     "execution_count": 54,
     "metadata": {},
     "output_type": "execute_result"
    }
   ],
   "source": [
    "fs1.shape"
   ]
  },
  {
   "cell_type": "code",
   "execution_count": 55,
   "metadata": {},
   "outputs": [
    {
     "name": "stdout",
     "output_type": "stream",
     "text": [
      "<class 'pandas.core.frame.DataFrame'>\n",
      "RangeIndex: 1000 entries, 0 to 999\n",
      "Data columns (total 25 columns):\n",
      " #   Column                                 Non-Null Count  Dtype  \n",
      "---  ------                                 --------------  -----  \n",
      " 0   NAME                                   1000 non-null   object \n",
      " 1   CITY                                   1000 non-null   object \n",
      " 2   STATE                                  1000 non-null   object \n",
      " 3   ZIP                                    1000 non-null   int64  \n",
      " 4   ZIP_PLUS4                              962 non-null    float64\n",
      " 5   COUNTY_CODE                            999 non-null    float64\n",
      " 6   COUNTY_NAME                            999 non-null    object \n",
      " 7   MSA                                    826 non-null    float64\n",
      " 8   MARKET_SEGMENT                         1000 non-null   object \n",
      " 9   SIMPLIFIED_MENU                        1000 non-null   object \n",
      " 10  MENU_TYPE                              1000 non-null   object \n",
      " 11  UNITS                                  1000 non-null   object \n",
      " 12  EMPLOYEES                              1000 non-null   object \n",
      " 13  YEARS_IN_BUSINESS                      1000 non-null   object \n",
      " 14  ANNUAL_SALES                           1000 non-null   object \n",
      " 15  AVERAGE_CHECK                          1000 non-null   object \n",
      " 16  NUMBER_OF_ROOMS                        1000 non-null   object \n",
      " 17  FOOD_BEVERAGE_PURCHASE                 889 non-null    float64\n",
      " 18  FOOD_PURCHASE                          889 non-null    float64\n",
      " 19  BEVERAGE_PURCHASE                      889 non-null    float64\n",
      " 20  TOTAL_CATEGORY_DRY                     889 non-null    float64\n",
      " 21  TOTAL_CATEGORY_FRESH                   889 non-null    float64\n",
      " 22  TOTAL_CATEGORY_FROZEN                  889 non-null    float64\n",
      " 23  TOTAL_CATEGORY_PROTEIN                 889 non-null    float64\n",
      " 24  % Share of F&B Purchases from Company  889 non-null    float64\n",
      "dtypes: float64(11), int64(1), object(13)\n",
      "memory usage: 195.4+ KB\n"
     ]
    }
   ],
   "source": [
    "fs1.info()"
   ]
  },
  {
   "cell_type": "code",
   "execution_count": 56,
   "metadata": {},
   "outputs": [
    {
     "data": {
      "text/plain": [
       "(1000, 25)"
      ]
     },
     "execution_count": 56,
     "metadata": {},
     "output_type": "execute_result"
    }
   ],
   "source": [
    "fs1.shape"
   ]
  },
  {
   "attachments": {},
   "cell_type": "markdown",
   "metadata": {},
   "source": [
    "- We noticed missing values in few columns \n",
    "- Before we delete columns lets check the distribution of data with in columns that missing values and non missing values columns\n",
    "- use histogram to study the distribution , if we don't notice any difference can delete other wise we can try using methods mean, mode or median "
   ]
  },
  {
   "cell_type": "code",
   "execution_count": 57,
   "metadata": {},
   "outputs": [],
   "source": [
    "missing_columns = fs1.columns[fs1.isnull().any()]"
   ]
  },
  {
   "cell_type": "code",
   "execution_count": 58,
   "metadata": {},
   "outputs": [],
   "source": [
    "df1_missing = fs1[missing_columns]"
   ]
  },
  {
   "cell_type": "code",
   "execution_count": 59,
   "metadata": {},
   "outputs": [
    {
     "data": {
      "text/plain": [
       "array([[<AxesSubplot: title={'center': 'ZIP_PLUS4'}>,\n",
       "        <AxesSubplot: title={'center': 'COUNTY_CODE'}>,\n",
       "        <AxesSubplot: title={'center': 'MSA'}>],\n",
       "       [<AxesSubplot: title={'center': 'FOOD_BEVERAGE_PURCHASE'}>,\n",
       "        <AxesSubplot: title={'center': 'FOOD_PURCHASE'}>,\n",
       "        <AxesSubplot: title={'center': 'BEVERAGE_PURCHASE'}>],\n",
       "       [<AxesSubplot: title={'center': 'TOTAL_CATEGORY_DRY'}>,\n",
       "        <AxesSubplot: title={'center': 'TOTAL_CATEGORY_FRESH'}>,\n",
       "        <AxesSubplot: title={'center': 'TOTAL_CATEGORY_FROZEN'}>],\n",
       "       [<AxesSubplot: title={'center': 'TOTAL_CATEGORY_PROTEIN'}>,\n",
       "        <AxesSubplot: title={'center': '% Share of F&B Purchases from Company'}>,\n",
       "        <AxesSubplot: >]], dtype=object)"
      ]
     },
     "execution_count": 59,
     "metadata": {},
     "output_type": "execute_result"
    },
    {
     "data": {
      "image/png": "[encoded data removed]",
      "text/plain": [
       "<Figure size 640x480 with 12 Axes>"
      ]
     },
     "metadata": {},
     "output_type": "display_data"
    }
   ],
   "source": [
    "df1_missing.hist()"
   ]
  },
  {
   "cell_type": "code",
   "execution_count": 60,
   "metadata": {},
   "outputs": [],
   "source": [
    "df1_no_missing = fs1[fs1.notna().all(axis=1)]\n"
   ]
  },
  {
   "cell_type": "code",
   "execution_count": 61,
   "metadata": {},
   "outputs": [
    {
     "data": {
      "text/plain": [
       "array([[<AxesSubplot: title={'center': 'ZIP'}>,\n",
       "        <AxesSubplot: title={'center': 'ZIP_PLUS4'}>,\n",
       "        <AxesSubplot: title={'center': 'COUNTY_CODE'}>],\n",
       "       [<AxesSubplot: title={'center': 'MSA'}>,\n",
       "        <AxesSubplot: title={'center': 'FOOD_BEVERAGE_PURCHASE'}>,\n",
       "        <AxesSubplot: title={'center': 'FOOD_PURCHASE'}>],\n",
       "       [<AxesSubplot: title={'center': 'BEVERAGE_PURCHASE'}>,\n",
       "        <AxesSubplot: title={'center': 'TOTAL_CATEGORY_DRY'}>,\n",
       "        <AxesSubplot: title={'center': 'TOTAL_CATEGORY_FRESH'}>],\n",
       "       [<AxesSubplot: title={'center': 'TOTAL_CATEGORY_FROZEN'}>,\n",
       "        <AxesSubplot: title={'center': 'TOTAL_CATEGORY_PROTEIN'}>,\n",
       "        <AxesSubplot: title={'center': '% Share of F&B Purchases from Company'}>]],\n",
       "      dtype=object)"
      ]
     },
     "execution_count": 61,
     "metadata": {},
     "output_type": "execute_result"
    },
    {
     "data": {
      "image/png": "[encoded data removed]",
      "text/plain": [
       "<Figure size 640x480 with 12 Axes>"
      ]
     },
     "metadata": {},
     "output_type": "display_data"
    }
   ],
   "source": [
    "df1_no_missing.hist()"
   ]
  },
  {
   "attachments": {},
   "cell_type": "markdown",
   "metadata": {},
   "source": [
    "-we notice difference in distribution with and without missing values"
   ]
  },
  {
   "attachments": {},
   "cell_type": "markdown",
   "metadata": {},
   "source": [
    " - I decided to delete missing values in below called out columns are they are significant to the given project questionare "
   ]
  },
  {
   "cell_type": "code",
   "execution_count": 62,
   "metadata": {},
   "outputs": [],
   "source": [
    "fs1 = fs1.dropna(subset=['COUNTY_NAME','COUNTY_CODE','FOOD_BEVERAGE_PURCHASE', 'FOOD_PURCHASE', 'BEVERAGE_PURCHASE', 'TOTAL_CATEGORY_DRY', 'TOTAL_CATEGORY_FRESH', 'TOTAL_CATEGORY_FROZEN', 'TOTAL_CATEGORY_PROTEIN', '% Share of F&B Purchases from Company'])\n"
   ]
  },
  {
   "attachments": {},
   "cell_type": "markdown",
   "metadata": {},
   "source": [
    "-check for null values "
   ]
  },
  {
   "cell_type": "code",
   "execution_count": 63,
   "metadata": {},
   "outputs": [
    {
     "data": {
      "text/plain": [
       "NAME                                       0\n",
       "CITY                                       0\n",
       "STATE                                      0\n",
       "ZIP                                        0\n",
       "ZIP_PLUS4                                 30\n",
       "COUNTY_CODE                                0\n",
       "COUNTY_NAME                                0\n",
       "MSA                                      147\n",
       "MARKET_SEGMENT                             0\n",
       "SIMPLIFIED_MENU                            0\n",
       "MENU_TYPE                                  0\n",
       "UNITS                                      0\n",
       "EMPLOYEES                                  0\n",
       "YEARS_IN_BUSINESS                          0\n",
       "ANNUAL_SALES                               0\n",
       "AVERAGE_CHECK                              0\n",
       "NUMBER_OF_ROOMS                            0\n",
       "FOOD_BEVERAGE_PURCHASE                     0\n",
       "FOOD_PURCHASE                              0\n",
       "BEVERAGE_PURCHASE                          0\n",
       "TOTAL_CATEGORY_DRY                         0\n",
       "TOTAL_CATEGORY_FRESH                       0\n",
       "TOTAL_CATEGORY_FROZEN                      0\n",
       "TOTAL_CATEGORY_PROTEIN                     0\n",
       "% Share of F&B Purchases from Company      0\n",
       "dtype: int64"
      ]
     },
     "execution_count": 63,
     "metadata": {},
     "output_type": "execute_result"
    }
   ],
   "source": [
    "fs1.isnull().sum() "
   ]
  },
  {
   "attachments": {},
   "cell_type": "markdown",
   "metadata": {},
   "source": [
    "- delete below columns completly as they are not significant to the analysis part \n",
    "\n",
    "- these below columns are also can't be filled with mean,median or mode as they are geographical location values to analyse and even if we do it will not be accurate. \n",
    "\n"
   ]
  },
  {
   "cell_type": "code",
   "execution_count": 64,
   "metadata": {},
   "outputs": [],
   "source": [
    "del fs1['MSA']"
   ]
  },
  {
   "cell_type": "code",
   "execution_count": 65,
   "metadata": {},
   "outputs": [],
   "source": [
    "del fs1['ZIP_PLUS4']"
   ]
  },
  {
   "attachments": {},
   "cell_type": "markdown",
   "metadata": {},
   "source": [
    "-check again on errors/null values/ file size"
   ]
  },
  {
   "cell_type": "code",
   "execution_count": 66,
   "metadata": {},
   "outputs": [
    {
     "data": {
      "text/plain": [
       "(888, 23)"
      ]
     },
     "execution_count": 66,
     "metadata": {},
     "output_type": "execute_result"
    }
   ],
   "source": [
    "fs1.shape"
   ]
  },
  {
   "attachments": {},
   "cell_type": "markdown",
   "metadata": {},
   "source": [
    "-we see cleaned first tab without any errors"
   ]
  },
  {
   "cell_type": "code",
   "execution_count": 67,
   "metadata": {},
   "outputs": [
    {
     "name": "stdout",
     "output_type": "stream",
     "text": [
      "<class 'pandas.core.frame.DataFrame'>\n",
      "Int64Index: 888 entries, 0 to 999\n",
      "Data columns (total 23 columns):\n",
      " #   Column                                 Non-Null Count  Dtype  \n",
      "---  ------                                 --------------  -----  \n",
      " 0   NAME                                   888 non-null    object \n",
      " 1   CITY                                   888 non-null    object \n",
      " 2   STATE                                  888 non-null    object \n",
      " 3   ZIP                                    888 non-null    int64  \n",
      " 4   COUNTY_CODE                            888 non-null    float64\n",
      " 5   COUNTY_NAME                            888 non-null    object \n",
      " 6   MARKET_SEGMENT                         888 non-null    object \n",
      " 7   SIMPLIFIED_MENU                        888 non-null    object \n",
      " 8   MENU_TYPE                              888 non-null    object \n",
      " 9   UNITS                                  888 non-null    object \n",
      " 10  EMPLOYEES                              888 non-null    object \n",
      " 11  YEARS_IN_BUSINESS                      888 non-null    object \n",
      " 12  ANNUAL_SALES                           888 non-null    object \n",
      " 13  AVERAGE_CHECK                          888 non-null    object \n",
      " 14  NUMBER_OF_ROOMS                        888 non-null    object \n",
      " 15  FOOD_BEVERAGE_PURCHASE                 888 non-null    float64\n",
      " 16  FOOD_PURCHASE                          888 non-null    float64\n",
      " 17  BEVERAGE_PURCHASE                      888 non-null    float64\n",
      " 18  TOTAL_CATEGORY_DRY                     888 non-null    float64\n",
      " 19  TOTAL_CATEGORY_FRESH                   888 non-null    float64\n",
      " 20  TOTAL_CATEGORY_FROZEN                  888 non-null    float64\n",
      " 21  TOTAL_CATEGORY_PROTEIN                 888 non-null    float64\n",
      " 22  % Share of F&B Purchases from Company  888 non-null    float64\n",
      "dtypes: float64(9), int64(1), object(13)\n",
      "memory usage: 166.5+ KB\n"
     ]
    }
   ],
   "source": [
    "fs1.info()"
   ]
  },
  {
   "attachments": {},
   "cell_type": "markdown",
   "metadata": {},
   "source": [
    "-now repeat same steps in (tab 2 and tab3) dataframe fs2 and fs3"
   ]
  },
  {
   "cell_type": "code",
   "execution_count": 68,
   "metadata": {},
   "outputs": [
    {
     "name": "stdout",
     "output_type": "stream",
     "text": [
      "<class 'pandas.core.frame.DataFrame'>\n",
      "RangeIndex: 1000 entries, 0 to 999\n",
      "Data columns (total 21 columns):\n",
      " #   Column                         Non-Null Count  Dtype  \n",
      "---  ------                         --------------  -----  \n",
      " 0   NAME                           1000 non-null   object \n",
      " 1   ADDRESS                        1000 non-null   object \n",
      " 2   CITY                           1000 non-null   object \n",
      " 3   STATE                          1000 non-null   object \n",
      " 4   ZIP                            1000 non-null   int64  \n",
      " 5   ZIP_PLUS4                      996 non-null    float64\n",
      " 6   COUNTY_CODE                    1000 non-null   int64  \n",
      " 7   COUNTY_NAME                    1000 non-null   object \n",
      " 8   MSA                            972 non-null    float64\n",
      " 9   MARKET_SEGMENT                 1000 non-null   object \n",
      " 10  EMPLOYEES_NON_COMMERCIAL       1000 non-null   object \n",
      " 11  ENROLLMENT_RANGE               1000 non-null   object \n",
      " 12  CAPACITY_BEDS_RANGE            1000 non-null   object \n",
      " 13  NUMBER_OF_SCHOOLS_RANGE        1000 non-null   object \n",
      " 14  OPERATION_TYPE                 1000 non-null   object \n",
      " 15  OWNERSHIP_TYPE                 1000 non-null   object \n",
      " 16  NUMBER_OF_MEALS_PER_DAY_RANGE  1000 non-null   object \n",
      " 17  AVERAGE_DAILY_CENSUS           255 non-null    float64\n",
      " 18  PRIMARY_GPO                    92 non-null     object \n",
      " 19  SECONDARY_GPO                  23 non-null     object \n",
      " 20  TOTAL_PATIENT_DAYS             27 non-null     object \n",
      "dtypes: float64(3), int64(2), object(16)\n",
      "memory usage: 164.2+ KB\n"
     ]
    }
   ],
   "source": [
    "fs2.info()"
   ]
  },
  {
   "cell_type": "code",
   "execution_count": 69,
   "metadata": {},
   "outputs": [],
   "source": [
    "del fs2['MSA']\n",
    "\n"
   ]
  },
  {
   "cell_type": "code",
   "execution_count": 70,
   "metadata": {},
   "outputs": [],
   "source": [
    "del fs2['ZIP_PLUS4']\n",
    "\n"
   ]
  },
  {
   "cell_type": "code",
   "execution_count": 71,
   "metadata": {},
   "outputs": [],
   "source": [
    "del fs2['PRIMARY_GPO']\n"
   ]
  },
  {
   "cell_type": "code",
   "execution_count": 72,
   "metadata": {},
   "outputs": [],
   "source": [
    "del fs2['SECONDARY_GPO']\n"
   ]
  },
  {
   "cell_type": "code",
   "execution_count": 73,
   "metadata": {},
   "outputs": [],
   "source": [
    "del fs2['TOTAL_PATIENT_DAYS']"
   ]
  },
  {
   "cell_type": "code",
   "execution_count": 74,
   "metadata": {},
   "outputs": [],
   "source": [
    "del fs2['AVERAGE_DAILY_CENSUS']"
   ]
  },
  {
   "cell_type": "code",
   "execution_count": 75,
   "metadata": {},
   "outputs": [
    {
     "name": "stdout",
     "output_type": "stream",
     "text": [
      "<class 'pandas.core.frame.DataFrame'>\n",
      "RangeIndex: 1000 entries, 0 to 999\n",
      "Data columns (total 15 columns):\n",
      " #   Column                         Non-Null Count  Dtype \n",
      "---  ------                         --------------  ----- \n",
      " 0   NAME                           1000 non-null   object\n",
      " 1   ADDRESS                        1000 non-null   object\n",
      " 2   CITY                           1000 non-null   object\n",
      " 3   STATE                          1000 non-null   object\n",
      " 4   ZIP                            1000 non-null   int64 \n",
      " 5   COUNTY_CODE                    1000 non-null   int64 \n",
      " 6   COUNTY_NAME                    1000 non-null   object\n",
      " 7   MARKET_SEGMENT                 1000 non-null   object\n",
      " 8   EMPLOYEES_NON_COMMERCIAL       1000 non-null   object\n",
      " 9   ENROLLMENT_RANGE               1000 non-null   object\n",
      " 10  CAPACITY_BEDS_RANGE            1000 non-null   object\n",
      " 11  NUMBER_OF_SCHOOLS_RANGE        1000 non-null   object\n",
      " 12  OPERATION_TYPE                 1000 non-null   object\n",
      " 13  OWNERSHIP_TYPE                 1000 non-null   object\n",
      " 14  NUMBER_OF_MEALS_PER_DAY_RANGE  1000 non-null   object\n",
      "dtypes: int64(2), object(13)\n",
      "memory usage: 117.3+ KB\n"
     ]
    }
   ],
   "source": [
    "fs2.info()"
   ]
  },
  {
   "cell_type": "code",
   "execution_count": 76,
   "metadata": {},
   "outputs": [
    {
     "data": {
      "text/plain": [
       "(1000, 15)"
      ]
     },
     "execution_count": 76,
     "metadata": {},
     "output_type": "execute_result"
    }
   ],
   "source": [
    "fs2.shape"
   ]
  },
  {
   "cell_type": "code",
   "execution_count": 77,
   "metadata": {},
   "outputs": [],
   "source": [
    "#fs2.to_excel('fs2_Non Commercial.xlsx')"
   ]
  },
  {
   "cell_type": "code",
   "execution_count": 78,
   "metadata": {},
   "outputs": [
    {
     "name": "stdout",
     "output_type": "stream",
     "text": [
      "<class 'pandas.core.frame.DataFrame'>\n",
      "RangeIndex: 1001 entries, 0 to 1000\n",
      "Data columns (total 13 columns):\n",
      " #   Column             Non-Null Count  Dtype  \n",
      "---  ------             --------------  -----  \n",
      " 0   NAME               1001 non-null   object \n",
      " 1   CITY               1001 non-null   object \n",
      " 2   STATE              1001 non-null   object \n",
      " 3   ZIP                1001 non-null   int64  \n",
      " 4   ZIP_PLUS4          909 non-null    float64\n",
      " 5   COUNTY_CODE        974 non-null    float64\n",
      " 6   COUNTY_NAME        974 non-null    object \n",
      " 7   MSA                386 non-null    float64\n",
      " 8   market_segment2    1001 non-null   object \n",
      " 9   units              1001 non-null   object \n",
      " 10  EMPLOYEES          1001 non-null   object \n",
      " 11  years_in_business  1001 non-null   object \n",
      " 12  annual_sales       1001 non-null   object \n",
      "dtypes: float64(3), int64(1), object(9)\n",
      "memory usage: 101.8+ KB\n"
     ]
    }
   ],
   "source": [
    "fs3.info()"
   ]
  },
  {
   "cell_type": "code",
   "execution_count": 79,
   "metadata": {},
   "outputs": [],
   "source": [
    "del fs3['MSA']"
   ]
  },
  {
   "cell_type": "code",
   "execution_count": 80,
   "metadata": {},
   "outputs": [],
   "source": [
    "del fs3['ZIP_PLUS4']"
   ]
  },
  {
   "cell_type": "code",
   "execution_count": 81,
   "metadata": {},
   "outputs": [],
   "source": [
    "fs3 = fs3.dropna(subset=['COUNTY_CODE', 'COUNTY_NAME'])"
   ]
  },
  {
   "cell_type": "code",
   "execution_count": 82,
   "metadata": {},
   "outputs": [
    {
     "name": "stdout",
     "output_type": "stream",
     "text": [
      "<class 'pandas.core.frame.DataFrame'>\n",
      "Int64Index: 974 entries, 0 to 1000\n",
      "Data columns (total 11 columns):\n",
      " #   Column             Non-Null Count  Dtype  \n",
      "---  ------             --------------  -----  \n",
      " 0   NAME               974 non-null    object \n",
      " 1   CITY               974 non-null    object \n",
      " 2   STATE              974 non-null    object \n",
      " 3   ZIP                974 non-null    int64  \n",
      " 4   COUNTY_CODE        974 non-null    float64\n",
      " 5   COUNTY_NAME        974 non-null    object \n",
      " 6   market_segment2    974 non-null    object \n",
      " 7   units              974 non-null    object \n",
      " 8   EMPLOYEES          974 non-null    object \n",
      " 9   years_in_business  974 non-null    object \n",
      " 10  annual_sales       974 non-null    object \n",
      "dtypes: float64(1), int64(1), object(9)\n",
      "memory usage: 91.3+ KB\n"
     ]
    }
   ],
   "source": [
    "fs3.info()"
   ]
  },
  {
   "attachments": {},
   "cell_type": "markdown",
   "metadata": {},
   "source": [
    "- create new data frames and assign cleansed files and save it as new Xls/CSV file."
   ]
  },
  {
   "cell_type": "code",
   "execution_count": 83,
   "metadata": {},
   "outputs": [],
   "source": [
    "df1 = pd.DataFrame(fs1)\n",
    "df2 = pd.DataFrame(fs2)\n",
    "df3 = pd.DataFrame(fs3)\n"
   ]
  },
  {
   "cell_type": "code",
   "execution_count": 91,
   "metadata": {},
   "outputs": [],
   "source": [
    "#df1.to_excel('fs1_Restaurant Spends and Share.xlsx')\n",
    "#df2.to_excel('fs2_Non Commercial.xlsx')\n",
    "#df3.to_excel('fs3_Retail Stores.xlsx')"
   ]
  },
  {
   "cell_type": "code",
   "execution_count": 90,
   "metadata": {},
   "outputs": [],
   "source": [
    "wb = pd.ExcelWriter('C:\\DataS\\excel files\\Foodservice_cleaned.xlsx')"
   ]
  },
  {
   "cell_type": "code",
   "execution_count": 92,
   "metadata": {},
   "outputs": [],
   "source": [
    "df1.to_excel(wb, sheet_name='fs1_Restaurant Spends and Share')\n",
    "df2.to_excel(wb, sheet_name='fs2_Non Commercial')\n",
    "df3.to_excel(wb, sheet_name='fs3_Retail Stores')\n"
   ]
  },
  {
   "cell_type": "code",
   "execution_count": 93,
   "metadata": {},
   "outputs": [
    {
     "name": "stderr",
     "output_type": "stream",
     "text": [
      "C:\\Users\\mouna\\AppData\\Local\\Temp\\ipykernel_17172\\3639205383.py:1: FutureWarning: save is not part of the public API, usage can give unexpected results and will be removed in a future version\n",
      "  wb.save()\n"
     ]
    }
   ],
   "source": [
    "wb.save()"
   ]
  },
  {
   "attachments": {},
   "cell_type": "markdown",
   "metadata": {},
   "source": [
    "-with this here i'm done with data cleaning part in python \n",
    "\n",
    "- will continue analysis next step data visulization/exploring in power BI \n",
    "\n",
    "- will use new cleansed and saved excel file for data exploring/visulization"
   ]
  }
 ],
 "metadata": {
  "kernelspec": {
   "display_name": "Python 3",
   "language": "python",
   "name": "python3"
  },
  "language_info": {
   "codemirror_mode": {
    "name": "ipython",
    "version": 3
   },
   "file_extension": ".py",
   "mimetype": "text/x-python",
   "name": "python",
   "nbconvert_exporter": "python",
   "pygments_lexer": "ipython3",
   "version": "3.10.11"
  },
  "orig_nbformat": 4
 },
 "nbformat": 4,
 "nbformat_minor": 2
}
